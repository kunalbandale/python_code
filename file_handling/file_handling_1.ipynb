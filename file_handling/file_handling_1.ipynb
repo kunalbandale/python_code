{
 "cells": [
  {
   "cell_type": "code",
   "execution_count": 1,
   "id": "74a31858-5be7-4d5c-b15f-4786e79f00f0",
   "metadata": {},
   "outputs": [],
   "source": [
    "# File Handling "
   ]
  },
  {
   "cell_type": "code",
   "execution_count": 3,
   "id": "bb40585a-1ab4-4f43-a3f9-8952b35a6690",
   "metadata": {},
   "outputs": [],
   "source": [
    "# csv files also can be called as spreadsheets \n",
    "# comma seprated values \n",
    "# import csv \n",
    "\n",
    "# csv file we have two types \n",
    "# reading csv file \n",
    "# writing csv file \n",
    "# creating csv file (x - a - w )\n"
   ]
  },
  {
   "cell_type": "code",
   "execution_count": 5,
   "id": "b5fac8e7-df3c-44ec-b5c5-c222b023146c",
   "metadata": {},
   "outputs": [],
   "source": [
    "# # writing into the csv file \n",
    "# # writer() \n",
    "# step 1 \n",
    "# writer() \n",
    "# 1. writer method \n",
    "# - writerow() \n",
    "# single row format \n",
    "# - writerows() \n",
    "# multiple rows format \n",
    "# ---------------------\n",
    "# 2. Dictwriter() method \n",
    "\n",
    "# step 2 "
   ]
  },
  {
   "cell_type": "code",
   "execution_count": 11,
   "id": "79061454-356f-41ae-8a17-6f34e99b5126",
   "metadata": {},
   "outputs": [
    {
     "name": "stdout",
     "output_type": "stream",
     "text": [
      "C:\\Users\\banda\\PycharmProjects\\python_code\\file_handling\n",
      "C:\\Users\\banda\\PycharmProjects\\python_code\\file_handling\n"
     ]
    }
   ],
   "source": [
    "import os \n",
    "print(os.getcwd())\n",
    "os.chdir(r\"C:\\Users\\banda\\PycharmProjects\\python_code\\file_handling\")\n",
    "print(os.getcwd())\n",
    "import csv "
   ]
  },
  {
   "cell_type": "code",
   "execution_count": 21,
   "id": "5c367bda-5445-4b35-97d0-7cb112f97a23",
   "metadata": {},
   "outputs": [
    {
     "data": {
      "text/plain": [
       "<os._wrap_close at 0x123859f4080>"
      ]
     },
     "execution_count": 21,
     "metadata": {},
     "output_type": "execute_result"
    }
   ],
   "source": [
    "# 1. writer() method\n",
    "with open(\"day.csv\") as file:\n",
    "    ...\n",
    "\n",
    "\n",
    "os.popen(\"day.csv\")"
   ]
  },
  {
   "cell_type": "code",
   "execution_count": 39,
   "id": "382aac86-d86d-4813-8ed7-948f759f2fc1",
   "metadata": {},
   "outputs": [
    {
     "data": {
      "text/plain": [
       "<os._wrap_close at 0x12386e8aa20>"
      ]
     },
     "execution_count": 39,
     "metadata": {},
     "output_type": "execute_result"
    }
   ],
   "source": [
    "\n",
    "with open(\"day.csv\" , \"w\" , newline= \"\") as file:\n",
    "    new = csv.writer(file)\n",
    "    # new.writerow([\"Python\" , \"SQL\" , \"Java\" , \"C++\"])\n",
    "    # new.writerow([\"Python\" , \"sql\" , \"Java\"])\n",
    "    new.writerows([[\"Python\" , \"Java\" , \"C++\" , \"Visual Basic\" , \".NET\"], [\"100\" , \"40\" , \"43\" , \"44\" , \"43\"]])\n",
    "os.popen(\"day.csv\")"
   ]
  },
  {
   "cell_type": "code",
   "execution_count": 41,
   "id": "d202618d-17b4-4a3d-b02c-2f57cc7ae06a",
   "metadata": {},
   "outputs": [
    {
     "data": {
      "text/plain": [
       "'\\n# writer method syntax - >\\n\\n# writer() \\n# writerow() \\n# writerows() \\n\\nwith open(\"file_name\" , \"mode\" , newline = \"\") as file_obj:\\n    newVar = csv.writer(file) \\n    newVar.writerow([\"\"])\\n    newVar.writerows([[\" \"] , [\"\"]])\\n\\nos.popen(\"file_name\")\\n'"
      ]
     },
     "execution_count": 41,
     "metadata": {},
     "output_type": "execute_result"
    }
   ],
   "source": [
    "\"\"\"\n",
    "# writer method syntax - >\n",
    "\n",
    "# writer() \n",
    "# writerow() \n",
    "# writerows() \n",
    "\n",
    "with open(\"file_name\" , \"mode\" , newline = \"\") as file_obj:\n",
    "    newVar = csv.writer(file) \n",
    "    newVar.writerow([\"\"])\n",
    "    newVar.writerows([[\" \"] , [\"\"]])\n",
    "\n",
    "os.popen(\"file_name\")\n",
    "\"\"\""
   ]
  },
  {
   "cell_type": "code",
   "execution_count": 81,
   "id": "d24e81d9-1d93-4b44-a116-eeff3d917468",
   "metadata": {},
   "outputs": [
    {
     "data": {
      "text/plain": [
       "<os._wrap_close at 0x123870b7f80>"
      ]
     },
     "execution_count": 81,
     "metadata": {},
     "output_type": "execute_result"
    }
   ],
   "source": [
    "# DictWriter() - here we have to pass the data in the form of dictonary \n",
    "# header -> \n",
    "with open(\"food.csv\" , \"w\" , newline = \"\") as file2:\n",
    "    new = csv.DictWriter(file2,[\"Name\" , \"Price\"])\n",
    "    new.writeheader()\n",
    "    # new.writerow({\"Name\" :\"Idle\" , \"Price\" : 100})\n",
    "    new.writerows([{\"Name\": \"Idle\", \"Price\": 100}]) \n",
    "\n",
    "os.popen(\"food.csv\")"
   ]
  },
  {
   "cell_type": "code",
   "execution_count": 83,
   "id": "0ed04352-e800-469f-81a1-d33b7cf50bf0",
   "metadata": {},
   "outputs": [],
   "source": [
    "# readng csv \n",
    "# reader() \n",
    "# DictReader()\n"
   ]
  },
  {
   "cell_type": "code",
   "execution_count": 93,
   "id": "7b5612d3-c266-4ec1-a4b6-29183bc88f54",
   "metadata": {},
   "outputs": [
    {
     "name": "stdout",
     "output_type": "stream",
     "text": [
      "[['Python', 'Java', 'C++', 'Visual Basic', '.NET'], ['100', '40', '43', '44', '43']]\n"
     ]
    }
   ],
   "source": [
    "# reader() \n",
    "with open(\"day.csv\") as file:\n",
    "    new = csv.reader(file)\n",
    "    print(list(new))\n",
    "    "
   ]
  },
  {
   "cell_type": "code",
   "execution_count": null,
   "id": "ba76e900-c767-4375-a69d-245f485fae51",
   "metadata": {},
   "outputs": [],
   "source": []
  }
 ],
 "metadata": {
  "kernelspec": {
   "display_name": "Python 3 (ipykernel)",
   "language": "python",
   "name": "python3"
  },
  "language_info": {
   "codemirror_mode": {
    "name": "ipython",
    "version": 3
   },
   "file_extension": ".py",
   "mimetype": "text/x-python",
   "name": "python",
   "nbconvert_exporter": "python",
   "pygments_lexer": "ipython3",
   "version": "3.12.4"
  }
 },
 "nbformat": 4,
 "nbformat_minor": 5
}
