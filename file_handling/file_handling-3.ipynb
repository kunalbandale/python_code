{
 "cells": [
  {
   "cell_type": "code",
   "execution_count": 3,
   "id": "d3b58971-38bb-41ec-9afd-c223957420ca",
   "metadata": {},
   "outputs": [],
   "source": [
    "# pickle | unpickling (serilization and deserizlation)\n",
    "# - to convert normal python to obejct to ByteStream \n",
    "# - serilization \n",
    "# - vise-versa to convert bytestream to normal python object -> unpickling \n"
   ]
  },
  {
   "cell_type": "code",
   "execution_count": 5,
   "id": "3748ee5f-e8ba-48b2-b9d8-86830771fd93",
   "metadata": {},
   "outputs": [],
   "source": [
    "import pickle \n",
    "# .pkl "
   ]
  },
  {
   "cell_type": "code",
   "execution_count": 7,
   "id": "ee6904ed-9492-4146-a2a1-d3daba7316ab",
   "metadata": {},
   "outputs": [],
   "source": [
    "# methods  \n",
    "# dump()  -> storing (python object to byteStream)\n",
    "# dumps() \n",
    "# load() -> (ByteStream to normal python object ) \n",
    "# loads()"
   ]
  },
  {
   "cell_type": "code",
   "execution_count": 9,
   "id": "f147c18e-3009-4208-a5ef-15d7e60bce9f",
   "metadata": {},
   "outputs": [],
   "source": [
    "# dump and load we are using in file handling  \n",
    "# dumps and loads we are using in wihtout file hanlding "
   ]
  },
  {
   "cell_type": "code",
   "execution_count": 15,
   "id": "1e7b1586-9590-4bf4-a869-10ddee6f9677",
   "metadata": {},
   "outputs": [
    {
     "name": "stdout",
     "output_type": "stream",
     "text": [
      "b'\\x80\\x04\\x95\\x1c\\x00\\x00\\x00\\x00\\x00\\x00\\x00]\\x94(\\x8c\\x03abc\\x94\\x8c\\x03xyz\\x94\\x8c\\x03pqr\\x94K\\xe9M\\xe3\\x10e.'\n",
      "['abc', 'xyz', 'pqr', 233, 4323]\n"
     ]
    }
   ],
   "source": [
    "# dumps() \n",
    "x = [\"abc\" , \"xyz\" , \"pqr\" , 233 ,4323] \n",
    "y = pickle.dumps(x) \n",
    "print(y)\n",
    "\n",
    "# loads()  \n",
    "z = pickle.loads(y)\n",
    "print(z)"
   ]
  },
  {
   "cell_type": "code",
   "execution_count": 17,
   "id": "1a0590d5-d439-41d1-9a1a-7a458506acb1",
   "metadata": {},
   "outputs": [
    {
     "name": "stdout",
     "output_type": "stream",
     "text": [
      "C:\\Users\\banda\\PycharmProjects\\python_code\\file_handling\n"
     ]
    }
   ],
   "source": [
    "# using file handling \n",
    "import os \n",
    "print(os.getcwd())\n"
   ]
  },
  {
   "cell_type": "code",
   "execution_count": 25,
   "id": "afe15d96-5642-4037-b2bf-617da5a6bad6",
   "metadata": {},
   "outputs": [
    {
     "data": {
      "text/plain": [
       "<os._wrap_close at 0x1f3fa828260>"
      ]
     },
     "execution_count": 25,
     "metadata": {},
     "output_type": "execute_result"
    }
   ],
   "source": [
    "with open(\"dumps.pkl\" , \"wb\") as file: \n",
    "    new=pickle.dump([\"abc\" , \"xyz\" , \"pqr\" , 233 ,4323],file)\n",
    "os.popen(\"dumps.pkl\")"
   ]
  },
  {
   "cell_type": "code",
   "execution_count": 31,
   "id": "74439884-b524-487d-bbcb-bfc2ceb98a7c",
   "metadata": {},
   "outputs": [
    {
     "name": "stdout",
     "output_type": "stream",
     "text": [
      "['abc', 'xyz', 'pqr', 233, 4323]\n"
     ]
    }
   ],
   "source": [
    "with open(\"dumps.pkl\" , \"rb\") as file :\n",
    "    new1 = pickle.load(file)\n",
    "    print(new1)"
   ]
  }
 ],
 "metadata": {
  "kernelspec": {
   "display_name": "Python 3 (ipykernel)",
   "language": "python",
   "name": "python3"
  },
  "language_info": {
   "codemirror_mode": {
    "name": "ipython",
    "version": 3
   },
   "file_extension": ".py",
   "mimetype": "text/x-python",
   "name": "python",
   "nbconvert_exporter": "python",
   "pygments_lexer": "ipython3",
   "version": "3.12.4"
  }
 },
 "nbformat": 4,
 "nbformat_minor": 5
}
