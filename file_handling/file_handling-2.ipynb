{
 "cells": [
  {
   "cell_type": "code",
   "execution_count": 11,
   "id": "90e9ff06-ae1d-45c7-9169-036f5afb0948",
   "metadata": {},
   "outputs": [
    {
     "name": "stdout",
     "output_type": "stream",
     "text": [
      "C:\\Users\\banda\\PycharmProjects\\python_code\\file_handling\n"
     ]
    }
   ],
   "source": [
    "import os \n",
    "from collections import deque\n",
    "print(os.getcwd())"
   ]
  },
  {
   "cell_type": "code",
   "execution_count": 21,
   "id": "deb91d10-2443-45a0-9ecb-843aa378da0a",
   "metadata": {},
   "outputs": [
    {
     "name": "stdout",
     "output_type": "stream",
     "text": [
      "deque(['python\\n', 'sql\\n', 'java\\n', 'ruby\\n', 'react\\n', 'html \\n', 'css js\\n'])\n"
     ]
    }
   ],
   "source": [
    "with open(\"data.txt\" , \"r\") as file: \n",
    "    new = deque(file) \n",
    "    print(new) "
   ]
  },
  {
   "cell_type": "code",
   "execution_count": 19,
   "id": "d0f7726d-c388-44f3-ba4a-7b12fc9c747d",
   "metadata": {},
   "outputs": [
    {
     "data": {
      "text/plain": [
       "<_io.TextIOWrapper name='data.txt' mode='r' encoding='cp1252'>"
      ]
     },
     "execution_count": 19,
     "metadata": {},
     "output_type": "execute_result"
    }
   ],
   "source": [
    "file"
   ]
  },
  {
   "cell_type": "code",
   "execution_count": 33,
   "id": "b72420a5-4854-4586-939e-4861ea01fc59",
   "metadata": {},
   "outputs": [
    {
     "name": "stdout",
     "output_type": "stream",
     "text": [
      "python\n",
      "\n",
      "sql\n",
      "\n",
      "java\n",
      "\n",
      "ruby\n",
      "\n"
     ]
    }
   ],
   "source": [
    "from itertools import islice \n",
    "\n",
    "with open(\"data.txt\" , \"r\") as file1:\n",
    "    new = islice(file1,0,4)\n",
    "    for i in new: \n",
    "        print(i)"
   ]
  },
  {
   "cell_type": "code",
   "execution_count": 35,
   "id": "a87ce382-7ada-4aa3-b98d-ec131f0ce4b7",
   "metadata": {},
   "outputs": [],
   "source": [
    "# tell()\n",
    "# seek() \n"
   ]
  },
  {
   "cell_type": "code",
   "execution_count": 56,
   "id": "efbb94ae-fdf3-4796-87ba-ccf9a35781d4",
   "metadata": {},
   "outputs": [
    {
     "name": "stdout",
     "output_type": "stream",
     "text": [
      "0\n",
      "python\n",
      "\n",
      "7\n",
      "2\n"
     ]
    }
   ],
   "source": [
    "with open(\"data.txt\" , \"r\") as file3:\n",
    "    print(file3.tell())\n",
    "    print(file3.readline())\n",
    "    print(file3.tell()) # information about where our cursor will be present \n",
    "    # seek() -> navigation purpose we are using seek()\n",
    "    file3.seek(2)\n",
    "    print(file3.tell())"
   ]
  }
 ],
 "metadata": {
  "kernelspec": {
   "display_name": "Python 3 (ipykernel)",
   "language": "python",
   "name": "python3"
  },
  "language_info": {
   "codemirror_mode": {
    "name": "ipython",
    "version": 3
   },
   "file_extension": ".py",
   "mimetype": "text/x-python",
   "name": "python",
   "nbconvert_exporter": "python",
   "pygments_lexer": "ipython3",
   "version": "3.12.4"
  }
 },
 "nbformat": 4,
 "nbformat_minor": 5
}
