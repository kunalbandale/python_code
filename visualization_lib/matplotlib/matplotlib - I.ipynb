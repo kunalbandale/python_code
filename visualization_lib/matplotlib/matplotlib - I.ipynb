{
 "cells": [
  {
   "cell_type": "markdown",
   "id": "d0030b4d-4b2c-4d49-b0aa-b31a541cd460",
   "metadata": {},
   "source": [
    "### matplotlib\n",
    "- It is a data visulzation library.\n",
    "- mat is nothing but maths | plot is nothing but graph and lib is library.\n",
    "- we can completely visuzalie the data."
   ]
  },
  {
   "cell_type": "code",
   "execution_count": null,
   "id": "60295e33-213f-4b49-8b74-26864f4b5938",
   "metadata": {},
   "outputs": [],
   "source": [
    "# installing library\n",
    "# !pip install matplotlib"
   ]
  },
  {
   "cell_type": "code",
   "execution_count": 5,
   "id": "fee29bf6-2e60-45ab-b903-807466119451",
   "metadata": {},
   "outputs": [
    {
     "data": {
      "text/plain": [
       "'3.8.4'"
      ]
     },
     "execution_count": 5,
     "metadata": {},
     "output_type": "execute_result"
    }
   ],
   "source": [
    "# import library \n",
    "# import matplotlib as mt\n",
    "# know the version of matplotlib\n",
    "# mt.__version__"
   ]
  },
  {
   "cell_type": "code",
   "execution_count": 7,
   "id": "be5a843f-4412-44d2-ab59-0626e9833147",
   "metadata": {},
   "outputs": [],
   "source": [
    "# pyplot sub module \n",
    "# import matplotlib.pyplot as plt"
   ]
  },
  {
   "cell_type": "code",
   "execution_count": 9,
   "id": "31599d8c-9b62-461f-b2a2-b333546a9989",
   "metadata": {},
   "outputs": [],
   "source": [
    "# ------------------\n",
    "# line plot \n",
    "# griod plot \n",
    "# scatter plot \n",
    "# pygraph \n",
    "# heatmap \n",
    "# pie graph \n",
    "# histogram \n",
    "# stack plot \n",
    "# box plot \n",
    "# barh plot \n",
    "# -----------------"
   ]
  },
  {
   "cell_type": "markdown",
   "id": "2cbaf7d2-00bc-4d69-bbb9-8538066cb7c7",
   "metadata": {},
   "source": [
    "<pre>\n",
    "Difference Between Axis and Axes \n",
    "Axis - dimensions (x,y,x',y')\n",
    "Axes - place to store the plot.\n",
    "</pre>"
   ]
  },
  {
   "cell_type": "raw",
   "id": "0d12bce5-9382-4ac1-a54f-4bd7d98a8f06",
   "metadata": {},
   "source": [
    "concepts:\n",
    "\n",
    "----------\n",
    "markers\n",
    "---------\n",
    "- dimond \n",
    "- circle\n",
    "- box \n",
    "\n",
    "marker property:\n",
    "marker edge color - outer \n",
    "market face color - inner \n",
    "\n",
    "change the size of the marker \n",
    "property:\n",
    "ms | markersize = \"3\"\n",
    "\n",
    "\n",
    "----------------------\n",
    "types of line format \n",
    "---------------------\n",
    "- solid \n",
    "- dotted \n",
    "- dash \n",
    "\n",
    "-----------\n",
    "colors : \n",
    "-----------\n",
    "color property \n",
    "color = \"yellow\"\n",
    "\n",
    "x-label\n",
    "y-label \n",
    "title()\n",
    "\n",
    "----------------\n",
    "legend()\n",
    "linestyle \n",
    "----------------\n",
    "show() - to display the graph \n",
    "\n"
   ]
  },
  {
   "cell_type": "raw",
   "id": "558d56e4-602c-4453-845e-1ae021b353e8",
   "metadata": {},
   "source": [
    "🎯 Marker Styles\n",
    "\n",
    "Markers are symbols used to denote data points on a plot.\n",
    "\n",
    "Common Marker Types:\n",
    "\n",
    "| Marker Type | Symbol | Description |\n",
    "| ----------- | ------ | ----------- |\n",
    "| `'o'`       | ●      | Circle      |\n",
    "| `'D'`       | ◆     | Diamond     |\n",
    "| `'s'`       | ■      | Square/Box  |\n",
    "\n",
    "Marker Properties:\n",
    "\n",
    "* `marker` – sets the marker style (`'o'`, `'D'`, `'s'`, etc.)\n",
    "* `markeredgecolor` or `mec` – sets the **outer edge color** of the marker\n",
    "* `markerfacecolor` or `mfc` – sets the **inner fill color** of the marker\n",
    "* `markersize` or `ms` – changes the **size** of the marker\n",
    "\n",
    "---\n",
    "\n",
    "📈 Line Styles\n",
    "\n",
    "Defines how the line between data points appears.\n",
    "\n",
    "Line Style Options:\n",
    "\n",
    "| Style  | Symbol  | Description   |\n",
    "| ------ | ------- | ------------- |\n",
    "| `'–'`  | solid   | Solid line    |\n",
    "| `':'`  | dotted  | Dotted line   |\n",
    "| `'--'` | dashed  | Dashed line   |\n",
    "| `'-.'` | dashdot | Dash-dot line |\n",
    "\n",
    "Property:\n",
    "\n",
    "`linestyle` or `ls`\n",
    "\n",
    "\n",
    "---\n",
    "\n",
    "🎨 Color Options\n",
    "\n",
    "Used to define the color of the plot line or markers.\n",
    "\n",
    "Property:\n",
    "\n",
    "`color`\n",
    "\n",
    "\n",
    "🏷️ Axis Labels & Title\n",
    "\n",
    "* `plt.xlabel(\"X-Axis Label\")`\n",
    "* `plt.ylabel(\"Y-Axis Label\")`\n",
    "* `plt.title(\"Your Plot Title\")`\n",
    "\n",
    "---\n",
    "\n",
    "🧾 Legend\n",
    "\n",
    "Adds a legend to the plot for identification.\n",
    "\n",
    "* Use `label=\"Line 1\"` in `plot()`\n",
    "* Then call `plt.legend()` to display it\n",
    "\n",
    "\n",
    "\n"
   ]
  },
  {
   "cell_type": "code",
   "execution_count": 135,
   "id": "dbfb6e56-1a11-446d-80cc-947e348b44b2",
   "metadata": {},
   "outputs": [
    {
     "data": {
      "image/png": "[encoded data removed]",
      "text/plain": [
       "<Figure size 640x480 with 1 Axes>"
      ]
     },
     "metadata": {},
     "output_type": "display_data"
    }
   ],
   "source": [
    "# importing lib\n",
    "import matplotlib.pyplot as plt \n",
    "import numpy as np \n",
    "\n",
    "x = [1,2,3,4,5,6]\n",
    "y = [1,2,3,4,5,6]\n",
    "\n",
    "\n",
    "plt.plot(x,y, color = \"black\" , \n",
    "         marker = \"s\" , \n",
    "         mec = \"r\" , \n",
    "         mfc=\"white\",\n",
    "         ls = \"dotted\", # dotted , dashdot , solid , None \n",
    "         label = \"High\"\n",
    "         \n",
    "        )\n",
    "# grid lines will show \n",
    "plt.grid(axis=\"both\" , color=\"blue\" , lw=0.2) # axis = \"y\" | axis = \"x\" | lw = 5 | \n",
    "\n",
    "\n",
    "\n",
    "# axis \n",
    "plt.xlabel(\"x-axis\" , fontsize = 25)\n",
    "plt.ylabel(\"y-axis\" , fontsize = 25)\n",
    "plt.title(\"Line Plot\" , fontsize = 25)\n",
    "# display \n",
    "plt.legend(loc = \"right\" , \n",
    "           framealpha = 0.8 , \n",
    "           shadow = True , \n",
    "           fancybox = True , \n",
    "           facecolor = \"lightblue\" , \n",
    "           edgecolor=\"red\" ) # loc | framealpha | shadow | fancybox | facecolor | edgecolor \n",
    "# save to local dir. \n",
    "plt.savefig(\"myplot.png\")\n",
    "\n",
    "# display the graph/plot\n",
    "plt.show()\n",
    "\n",
    "\n",
    "\n"
   ]
  },
  {
   "cell_type": "code",
   "execution_count": 157,
   "id": "38976822-7f25-4995-a546-690d0b510ef5",
   "metadata": {},
   "outputs": [
    {
     "name": "stdout",
     "output_type": "stream",
     "text": [
      "[ 1  2  3  4  5  6  7  8  9 10]\n",
      "[ 1  2  3  4  5  6  7  8  9 10]\n"
     ]
    },
    {
     "data": {
      "image/png": "[encoded data removed]",
      "text/plain": [
       "<Figure size 640x480 with 1 Axes>"
      ]
     },
     "metadata": {},
     "output_type": "display_data"
    }
   ],
   "source": [
    "# use numpy arange()\n",
    "var1 = np.arange(1,11)\n",
    "var2 = np.arange(1,11)\n",
    "print(var1)\n",
    "print(var2)\n",
    "\n",
    "plt.plot(var1,var2)\n",
    "plt.show()\n"
   ]
  },
  {
   "cell_type": "code",
   "execution_count": null,
   "id": "26af8442-bd7d-4642-ac54-6f35f7a314c5",
   "metadata": {},
   "outputs": [],
   "source": []
  }
 ],
 "metadata": {
  "kernelspec": {
   "display_name": "Python 3 (ipykernel)",
   "language": "python",
   "name": "python3"
  },
  "language_info": {
   "codemirror_mode": {
    "name": "ipython",
    "version": 3
   },
   "file_extension": ".py",
   "mimetype": "text/x-python",
   "name": "python",
   "nbconvert_exporter": "python",
   "pygments_lexer": "ipython3",
   "version": "3.12.4"
  }
 },
 "nbformat": 4,
 "nbformat_minor": 5
}
