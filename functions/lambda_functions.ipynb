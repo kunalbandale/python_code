{
 "cells": [
  {
   "cell_type": "code",
   "execution_count": 1,
   "id": "f42484a5-0c44-4d4a-a3b5-3022e6b2f306",
   "metadata": {},
   "outputs": [
    {
     "data": {
      "text/plain": [
       "'\\nvar = lambda par1,par2,paran  : expression \\n        # if else problem using lambda \\n        \\n'"
      ]
     },
     "execution_count": 1,
     "metadata": {},
     "output_type": "execute_result"
    }
   ],
   "source": [
    "# lambda function syntax \n",
    "# lambda is an anonomyns function i.e a function without name \n",
    "        \n",
    "\"\"\"\n",
    "# without using any condition\n",
    "var = lambda par1,par2,paran  : expression \n",
    "\"\"\"\n",
    "    "
   ]
  },
  {
   "cell_type": "code",
   "execution_count": 3,
   "id": "9be28718-913e-4dc5-8f82-b63030781a0d",
   "metadata": {},
   "outputs": [
    {
     "data": {
      "text/plain": [
       "'\\nUsing if-else condition \\nvar = lambda par1,para2,paran : TSB if cond else FSB. \\n'"
      ]
     },
     "execution_count": 3,
     "metadata": {},
     "output_type": "execute_result"
    }
   ],
   "source": [
    "\"\"\"\n",
    "Using if-else condition \n",
    "var = lambda par1,para2,paran : TSB if cond else FSB. \n",
    "\"\"\""
   ]
  },
  {
   "cell_type": "code",
   "execution_count": 5,
   "id": "e7e25d37-924a-4731-afff-28a85c57971d",
   "metadata": {},
   "outputs": [],
   "source": [
    "# drawbacks of lambda functions \n",
    "# we can't use return keyword \n",
    "# we can't return multiple values \n",
    "# if you want then store in the form of tuple \n",
    "# we can't use the looping statements\n",
    "# we can use comprehension \n",
    "# we cannot use compound assignment operator in lambda function"
   ]
  },
  {
   "cell_type": "code",
   "execution_count": 7,
   "id": "1e4abff6-2814-47c7-8513-de6410ac61f4",
   "metadata": {},
   "outputs": [
    {
     "data": {
      "text/plain": [
       "'\\nvariableName = lambda par1,par2,par3,par n : comprehension \\n'"
      ]
     },
     "execution_count": 7,
     "metadata": {},
     "output_type": "execute_result"
    }
   ],
   "source": [
    "# by using comprehension \n",
    "\"\"\"\n",
    "variableName = lambda par1,par2,par3,par n : comprehension \n",
    "\"\"\"\n"
   ]
  },
  {
   "cell_type": "code",
   "execution_count": 22,
   "id": "65daf8bf-9b05-45a9-9aa1-1e665d8f3f88",
   "metadata": {},
   "outputs": [
    {
     "name": "stdin",
     "output_type": "stream",
     "text": [
      "Enter a Number 2\n"
     ]
    },
    {
     "data": {
      "text/plain": [
       "4"
      ]
     },
     "execution_count": 22,
     "metadata": {},
     "output_type": "execute_result"
    }
   ],
   "source": [
    "# examples \n",
    "# wap to find square of even number and cube of odd given number \n",
    "number = int(input(\"Enter a Number\")) \n",
    "even_odd = lambda num  : num ** 2 if num % 2 == 0 else num **3 \n",
    "even_odd(number)"
   ]
  },
  {
   "cell_type": "code",
   "execution_count": 32,
   "id": "d5c95941-9fc5-4e76-885b-88befd2f7000",
   "metadata": {},
   "outputs": [
    {
     "data": {
      "text/plain": [
       "[1331, 144, 2197, 196]"
      ]
     },
     "execution_count": 32,
     "metadata": {},
     "output_type": "execute_result"
    }
   ],
   "source": [
    "l = [11,12,13,14]\n",
    "even_num = lambda num:[i**2 if i % 2 == 0 else i ** 3 for i in num]\n",
    "even_num(l) "
   ]
  },
  {
   "cell_type": "code",
   "execution_count": 37,
   "id": "7a7498c6-1994-48fb-98f4-6f9298075acb",
   "metadata": {},
   "outputs": [
    {
     "name": "stdin",
     "output_type": "stream",
     "text": [
      "Enter Any Number:  -44\n"
     ]
    },
    {
     "name": "stdout",
     "output_type": "stream",
     "text": [
      "44\n"
     ]
    }
   ],
   "source": [
    "# wap to convert negative number to postive number \n",
    "\n",
    "number = int(input(\"Enter Any Number: \"))\n",
    "neg_to_pos = lambda num: abs(num) if num < 0 else num\n",
    "print(neg_to_pos(number))\n"
   ]
  },
  {
   "cell_type": "code",
   "execution_count": 49,
   "id": "2d4e61f8-0e48-455a-b35e-970664a33520",
   "metadata": {},
   "outputs": [
    {
     "name": "stdout",
     "output_type": "stream",
     "text": [
      "['Sony', 'are', 'bye']\n"
     ]
    }
   ],
   "source": [
    "a = {\"hello\": \"Sony\" , \"How\" : \"are\" , \"you\" : \"bye\"}\n",
    "result = lambda di:[di[i]for i in di]\n",
    "print(result(a))"
   ]
  },
  {
   "cell_type": "code",
   "execution_count": 55,
   "id": "98da3e41-6ccf-444b-a92a-a98439ebff9b",
   "metadata": {},
   "outputs": [
    {
     "data": {
      "text/plain": [
       "[4, 144, 169, 196]"
      ]
     },
     "execution_count": 55,
     "metadata": {},
     "output_type": "execute_result"
    }
   ],
   "source": [
    "# square all the number and return in the list format \n",
    "l = [2,12,13,14]\n",
    "sq = lambda num:[i**2 for i in num]\n",
    "sq(l) "
   ]
  },
  {
   "cell_type": "code",
   "execution_count": 57,
   "id": "5e0b3181-01a9-4a41-a86b-26c8f870778a",
   "metadata": {},
   "outputs": [
    {
     "data": {
      "text/plain": [
       "['kayak', 'mom', 'dad']"
      ]
     },
     "execution_count": 57,
     "metadata": {},
     "output_type": "execute_result"
    }
   ],
   "source": [
    "# wap to check list elements are palindrome or not \n",
    "# l = [\"nayana\" , \"kayak\" , \"mom\" , \"school\" , \"bag\" , \"dad\"]\n",
    "l = [\"nayana\" , \"kayak\" , \"mom\" , \"school\" , \"bag\" , \"dad\"]\n",
    "check = lambda num:[i for i in l if i == i[::-1]]\n",
    "check(l)"
   ]
  },
  {
   "cell_type": "code",
   "execution_count": 61,
   "id": "3fb71cea-4519-4290-b662-3f8c65da2619",
   "metadata": {},
   "outputs": [
    {
     "data": {
      "text/plain": [
       "[(0, 100), (1, 200), (2, 300), (3, 400), (4, 500)]"
      ]
     },
     "execution_count": 61,
     "metadata": {},
     "output_type": "execute_result"
    }
   ],
   "source": [
    "# wap to print the numbers present in a list with their corresponding indices pair \n",
    "# l = [100,200,300,400,500]\n",
    "l = [100,200,300,400,500]\n",
    "indices = lambda num: [i for i in enumerate(l)]\n",
    "indices(l)"
   ]
  },
  {
   "cell_type": "code",
   "execution_count": 63,
   "id": "6ae810b7-6a7d-45e0-99ff-c0a42444010f",
   "metadata": {},
   "outputs": [],
   "source": [
    "# map class \n",
    "# works on inbuilt function user defined function and lambda function \n",
    "# whenver we want to pass value one by one\n",
    "\n",
    "# map(function_name , iteraable , iteraable.....) \n",
    "\n",
    "\n"
   ]
  },
  {
   "cell_type": "code",
   "execution_count": 79,
   "id": "8f528519-4988-4481-8f88-a1da06425b87",
   "metadata": {},
   "outputs": [
    {
     "data": {
      "text/plain": [
       "['m', 'l', 'j', 'w', 'y']"
      ]
     },
     "execution_count": 79,
     "metadata": {},
     "output_type": "execute_result"
    }
   ],
   "source": [
    "# wap to create a list of first charcters fro each name \n",
    "# names = [\"manu\" , \"lohit\" , \"jivago\" , \"wank\" , \"yaseen\"]\n",
    "\n",
    "names = [\"manu\" , \"lohit\" , \"jivago\" , \"wank\" , \"yaseen\"]\n",
    "first_char = lambda word : word[0]\n",
    "res = (map(first_char,names))\n",
    "list(res)"
   ]
  },
  {
   "cell_type": "code",
   "execution_count": null,
   "id": "3e1f8812-eec4-4bdd-941d-cc3446bad58f",
   "metadata": {},
   "outputs": [],
   "source": []
  }
 ],
 "metadata": {
  "kernelspec": {
   "display_name": "Python 3 (ipykernel)",
   "language": "python",
   "name": "python3"
  },
  "language_info": {
   "codemirror_mode": {
    "name": "ipython",
    "version": 3
   },
   "file_extension": ".py",
   "mimetype": "text/x-python",
   "name": "python",
   "nbconvert_exporter": "python",
   "pygments_lexer": "ipython3",
   "version": "3.12.4"
  }
 },
 "nbformat": 4,
 "nbformat_minor": 5
}
