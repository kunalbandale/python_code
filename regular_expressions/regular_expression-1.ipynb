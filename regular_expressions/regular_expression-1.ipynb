{
 "cells": [
  {
   "cell_type": "code",
   "execution_count": 5,
   "id": "90a1f8eb-4109-449d-9b9d-d23cb11b0ee5",
   "metadata": {},
   "outputs": [
    {
     "data": {
      "text/plain": [
       "' \\nRegular Expression (regex)\\nIf we want to represet group string according to particular pattern match that time we have to go for regular expression concept.\\n-----------\\nStep 1 : \\nimport re \\n\\n'"
      ]
     },
     "execution_count": 5,
     "metadata": {},
     "output_type": "execute_result"
    }
   ],
   "source": [
    "\"\"\" \n",
    "Regular Expression (regex)\n",
    "If we want to represet group string according to particular pattern match that time we have to go for regular expression concept.\n",
    "---------------\n",
    "A-Z\n",
    "a-z\n",
    "0-9\n",
    "---------------\n",
    "Step 1 : \n",
    "import re \n",
    "\n",
    "To work on this pattern we have 7 methods \n",
    "1. match()      - >  always check the beginning (present in the beginning)\n",
    "    - start()\n",
    "    - end()\n",
    "    - group()\n",
    "    \n",
    "2. fullmatch() -> complete string it will be checking \n",
    "    - start()\n",
    "    - end()\n",
    "    - group()\n",
    "    \n",
    "3. search() -> want to check particular charcter \n",
    "    - start()\n",
    "    - end()\n",
    "    - group()\n",
    "    \n",
    "4. findall() \n",
    "\n",
    "5. sub() \n",
    "6. subn() \n",
    "\n",
    "7. split() \n",
    "\n",
    "8. finditer() - find all occurence we can use finditer (typecasting / loop to print otherwise it will print object address)\n",
    " \n",
    "\n",
    "\"\"\""
   ]
  },
  {
   "cell_type": "code",
   "execution_count": 13,
   "id": "052274d8-7f51-452d-9e6b-f6b4b8f382fe",
   "metadata": {},
   "outputs": [
    {
     "name": "stdout",
     "output_type": "stream",
     "text": [
      "None\n",
      "None\n",
      "<re.Match object; span=(0, 9), match='afternoon'>\n"
     ]
    }
   ],
   "source": [
    "import re \n",
    "# match \n",
    "# new_var = re.match(\"Pattern\" , \"source_of_string\") \n",
    "x = \"afternoon\" \n",
    "y=re.match(\"noon\" , x)\n",
    "print(y)\n",
    "\n",
    "y1 = re.match(\"ter\" , x) \n",
    "print(y1)\n",
    "\n",
    "\n",
    "y2 = re.match(\"afternoon\" , x) \n",
    "print(y2)"
   ]
  },
  {
   "cell_type": "code",
   "execution_count": 19,
   "id": "41d676fb-62dd-48b4-9994-08b99df6da4c",
   "metadata": {},
   "outputs": [
    {
     "name": "stdout",
     "output_type": "stream",
     "text": [
      "<re.Match object; span=(0, 5), match='after'>\n",
      "None\n"
     ]
    }
   ],
   "source": [
    "y3 = re.match(\"after\" , x) \n",
    "print(y3)\n",
    "\n",
    "y4 = re.match(\"fter\",x)\n",
    "print(y4)"
   ]
  },
  {
   "cell_type": "code",
   "execution_count": 29,
   "id": "5ea26348-4cde-48a9-a6cf-8b4ec3d1b198",
   "metadata": {},
   "outputs": [
    {
     "name": "stdout",
     "output_type": "stream",
     "text": [
      "<re.Match object; span=(0, 5), match='after'>\n",
      "0\n",
      "5\n",
      "after\n"
     ]
    }
   ],
   "source": [
    "y5 = re.match(\"after\" , x) \n",
    "print(y5) # span=(0, 5), match='after'\n",
    "print(y5.start())\n",
    "print(y5.end())\n",
    "print(y5.group())"
   ]
  },
  {
   "cell_type": "code",
   "execution_count": 51,
   "id": "858247c3-355c-4737-9ce5-43f2cab9be11",
   "metadata": {},
   "outputs": [
    {
     "name": "stdout",
     "output_type": "stream",
     "text": [
      "<re.Match object; span=(0, 9), match='afternoon'>\n",
      "0\n",
      "9\n",
      "afternoon\n"
     ]
    }
   ],
   "source": [
    "# fullmatch - > complete string it will be checking \n",
    "x1 = re.fullmatch(\"afternoon\",x)\n",
    "print(x1)\n",
    "\n",
    "print(x1.start())\n",
    "print(x1.end())\n",
    "print(x1.group())"
   ]
  },
  {
   "cell_type": "code",
   "execution_count": 53,
   "id": "7e9f6639-9b9a-46b6-90fc-daf8df4aaa4d",
   "metadata": {},
   "outputs": [
    {
     "name": "stdout",
     "output_type": "stream",
     "text": [
      "None\n"
     ]
    }
   ],
   "source": [
    "w1 = re.fullmatch(\"fternoon\" , x) \n",
    "print(w1)"
   ]
  },
  {
   "cell_type": "code",
   "execution_count": 59,
   "id": "0522b920-9bd1-489b-ab42-031cac9ef853",
   "metadata": {},
   "outputs": [
    {
     "name": "stdout",
     "output_type": "stream",
     "text": [
      "None\n"
     ]
    }
   ],
   "source": [
    "w2 = re.fullmatch(\"after\" , x)\n",
    "print(w2)"
   ]
  },
  {
   "cell_type": "code",
   "execution_count": 61,
   "id": "3b5788d8-8217-4737-9582-77617a7d7952",
   "metadata": {},
   "outputs": [],
   "source": [
    "# what is difference between match and fullmatch "
   ]
  },
  {
   "cell_type": "code",
   "execution_count": 63,
   "id": "e5579706-a66e-4418-bc65-9a70d6444230",
   "metadata": {},
   "outputs": [],
   "source": [
    "# search -> want to check particular charcter "
   ]
  },
  {
   "cell_type": "code",
   "execution_count": 69,
   "id": "337a5ec4-20ad-495c-8540-196a3657b1cb",
   "metadata": {},
   "outputs": [
    {
     "name": "stdout",
     "output_type": "stream",
     "text": [
      "<re.Match object; span=(1, 2), match='o'>\n",
      "1\n",
      "2\n",
      "o\n"
     ]
    }
   ],
   "source": [
    "# new_var = re.search(\"pattern\" , source_of_string) \n",
    "\n",
    "e = \"goood morning\" \n",
    "d = re.search(\"o\" , e) # first occ, of the charcter \n",
    "print(d)\n",
    "print(d.start())\n",
    "print(d.end())\n",
    "print(d.group())"
   ]
  },
  {
   "cell_type": "code",
   "execution_count": 87,
   "id": "68f35271-9ef9-44e1-9a06-d777101504f0",
   "metadata": {},
   "outputs": [
    {
     "name": "stdout",
     "output_type": "stream",
     "text": [
      "<callable_iterator object at 0x00000282159DE650>\n",
      "<re.Match object; span=(1, 2), match='e'>\n",
      "<re.Match object; span=(15, 16), match='e'>\n",
      "<re.Match object; span=(25, 26), match='e'>\n"
     ]
    }
   ],
   "source": [
    "# finditer() \n",
    "# new_var_name = re.finditer(\"pattern\" , source_of_string)\n",
    "\n",
    "name = \"Hello World , learn , code , python\" \n",
    "w = re.finditer(\"e\" , name)\n",
    "print(w) # <callable_iterator object at 0x0000028215B7A140>\n",
    "\n",
    "for i in w:\n",
    "    print(i)"
   ]
  },
  {
   "cell_type": "code",
   "execution_count": 105,
   "id": "1494815d-b25a-4591-b534-48ffe3dc81b6",
   "metadata": {},
   "outputs": [
    {
     "name": "stdout",
     "output_type": "stream",
     "text": [
      "mor*i*g\n"
     ]
    }
   ],
   "source": [
    "# sub and subn \n",
    "# new_var_name = re.sub(\"old_char\" , \"new_char\" , src_of _string , count) \n",
    "new = \"morning\" \n",
    "t = re.sub(\"n\" , \"*\" , new , 2)\n",
    "print(t)\n"
   ]
  },
  {
   "cell_type": "code",
   "execution_count": 107,
   "id": "2f2d9262-5fee-425c-96ee-9b2171cfb34a",
   "metadata": {},
   "outputs": [],
   "source": [
    "# spilt \n",
    "# new_var = re.split(\"pattern\" , source , maxsplit) \n"
   ]
  },
  {
   "cell_type": "code",
   "execution_count": 137,
   "id": "f0a9a75a-f59d-47e7-a40a-d76f061b6a2d",
   "metadata": {},
   "outputs": [
    {
     "name": "stdout",
     "output_type": "stream",
     "text": [
      "['1', '0', '1']\n",
      "['H', 'W', 'P', 'Y', 'T', 'H', 'O', 'N']\n",
      "['e', 'l', 'l', 'o', 'o', 'r', 'l', 'd']\n",
      "['H', 'e', 'l', 'l', 'o', 'W', 'o', 'r', 'l', 'd', 'P', 'Y', 'T', 'H', 'O', 'N', '1', '0', '1']\n"
     ]
    }
   ],
   "source": [
    "# basic patterns  23 patterns \n",
    "# findall - get the output in the form of list \n",
    "# match only uppercase char \n",
    "# new_char = re.findall(\"pattern\" , src) \n",
    "\n",
    "var = \"Hello World , PYTHON - 101\" \n",
    "r = re.findall(\"[0-9]\" , var) # numbers\n",
    "print(r)\n",
    "\n",
    "r1 = re.findall(\"[A-Z]\" , var) # uppercase\n",
    "print(r1)\n",
    "\n",
    "\n",
    "r2 = re.findall(\"[a-z]\" , var) # lowercase \n",
    "print(r2)\n",
    "\n",
    "\n",
    "r3 = re.findall(\"[A-Za-z0-9]\" , var)\n",
    "print(r3)"
   ]
  },
  {
   "cell_type": "code",
   "execution_count": 145,
   "id": "3b7194bd-7657-47d0-a9de-8dc182264c27",
   "metadata": {},
   "outputs": [
    {
     "name": "stdout",
     "output_type": "stream",
     "text": [
      "['1', '0', '1']\n"
     ]
    }
   ],
   "source": [
    "q5 = re.findall(r\"\\d\" , var) # 0-9\n",
    "print(q5)"
   ]
  },
  {
   "cell_type": "code",
   "execution_count": 149,
   "id": "bba9a52d-4786-4577-a137-7102eb1544a7",
   "metadata": {},
   "outputs": [
    {
     "name": "stdout",
     "output_type": "stream",
     "text": [
      "['H', 'e', 'l', 'l', 'o', ' ', 'W', 'o', 'r', 'l', 'd', ' ', ',', ' ', 'P', 'Y', 'T', 'H', 'O', 'N', ' ', '-', ' ']\n"
     ]
    }
   ],
   "source": [
    "q6 = re.findall(r\"\\D\" , var) # 0-9\n",
    "print(q6)"
   ]
  },
  {
   "cell_type": "code",
   "execution_count": null,
   "id": "12e7b85d-d3ab-4642-803b-874e39970682",
   "metadata": {},
   "outputs": [],
   "source": [
    "# i want to match white spaces \n",
    "q"
   ]
  }
 ],
 "metadata": {
  "kernelspec": {
   "display_name": "Python 3 (ipykernel)",
   "language": "python",
   "name": "python3"
  },
  "language_info": {
   "codemirror_mode": {
    "name": "ipython",
    "version": 3
   },
   "file_extension": ".py",
   "mimetype": "text/x-python",
   "name": "python",
   "nbconvert_exporter": "python",
   "pygments_lexer": "ipython3",
   "version": "3.12.4"
  }
 },
 "nbformat": 4,
 "nbformat_minor": 5
}
