{
 "cells": [
  {
   "cell_type": "code",
   "execution_count": 1,
   "id": "2a3c03b5-b6e1-47fa-b116-7f73274ddc2e",
   "metadata": {},
   "outputs": [
    {
     "data": {
      "text/plain": [
       "'  \\nuser defined errors \\n-> raise if we want to raise the user defined error we use this keyword \\n---------------------------------------------------------------------------\\n\\nclass UserDefinedError(Exception / BaseException) : \\n    # pass \\n\\n\\n\\n\\n'"
      ]
     },
     "execution_count": 1,
     "metadata": {},
     "output_type": "execute_result"
    }
   ],
   "source": [
    "\"\"\"  \n",
    "user defined errors \n",
    "-> raise if we want to raise the user defined error we use this keyword \n",
    "---------------------------------------------------------------------------\n",
    "\n",
    "class UserDefinedError(Exception / BaseException) : \n",
    "    # pass / ... \n",
    "\"\"\""
   ]
  },
  {
   "cell_type": "code",
   "execution_count": 23,
   "id": "010405a2-0aa1-4c5d-8035-bac7d9418cde",
   "metadata": {},
   "outputs": [
    {
     "ename": "MetroError",
     "evalue": "",
     "output_type": "error",
     "traceback": [
      "\u001b[1;31m---------------------------------------------------------------------------\u001b[0m",
      "\u001b[1;31mMetroError\u001b[0m                                Traceback (most recent call last)",
      "Cell \u001b[1;32mIn[23], line 9\u001b[0m\n\u001b[0;32m      6\u001b[0m     \u001b[38;5;28;01melse\u001b[39;00m: \n\u001b[0;32m      7\u001b[0m         \u001b[38;5;28;01mraise\u001b[39;00m MetroError \u001b[38;5;66;03m# MetroError \u001b[39;00m\n\u001b[1;32m----> 9\u001b[0m demo(\u001b[38;5;241m-\u001b[39m\u001b[38;5;241m10\u001b[39m)\n",
      "Cell \u001b[1;32mIn[23], line 7\u001b[0m, in \u001b[0;36mdemo\u001b[1;34m(x)\u001b[0m\n\u001b[0;32m      5\u001b[0m     \u001b[38;5;28mprint\u001b[39m(\u001b[38;5;124m\"\u001b[39m\u001b[38;5;124mIts +ve number\u001b[39m\u001b[38;5;124m\"\u001b[39m)\n\u001b[0;32m      6\u001b[0m \u001b[38;5;28;01melse\u001b[39;00m: \n\u001b[1;32m----> 7\u001b[0m     \u001b[38;5;28;01mraise\u001b[39;00m MetroError\n",
      "\u001b[1;31mMetroError\u001b[0m: "
     ]
    }
   ],
   "source": [
    "class MetroError(Exception):\n",
    "    pass \n",
    "def demo(x):\n",
    "    if x > 0:\n",
    "        print(\"Its +ve number\")\n",
    "    else: \n",
    "        raise MetroError # MetroError \n",
    "\n",
    "demo(-10)\n",
    "    "
   ]
  },
  {
   "cell_type": "code",
   "execution_count": 29,
   "id": "4202ddcd-53a2-4d45-93fa-924f327958c7",
   "metadata": {},
   "outputs": [
    {
     "ename": "ValidPasswordError",
     "evalue": "",
     "output_type": "error",
     "traceback": [
      "\u001b[1;31m---------------------------------------------------------------------------\u001b[0m",
      "\u001b[1;31mValidPasswordError\u001b[0m                        Traceback (most recent call last)",
      "Cell \u001b[1;32mIn[29], line 9\u001b[0m\n\u001b[0;32m      6\u001b[0m     \u001b[38;5;28;01melse\u001b[39;00m: \n\u001b[0;32m      7\u001b[0m         \u001b[38;5;28;01mraise\u001b[39;00m ValidPasswordError\n\u001b[1;32m----> 9\u001b[0m lenght(\u001b[38;5;241m2\u001b[39m)\n",
      "Cell \u001b[1;32mIn[29], line 7\u001b[0m, in \u001b[0;36mlenght\u001b[1;34m(x)\u001b[0m\n\u001b[0;32m      5\u001b[0m     \u001b[38;5;28mprint\u001b[39m(\u001b[38;5;124m\"\u001b[39m\u001b[38;5;124mValid Password\u001b[39m\u001b[38;5;124m\"\u001b[39m)\n\u001b[0;32m      6\u001b[0m \u001b[38;5;28;01melse\u001b[39;00m: \n\u001b[1;32m----> 7\u001b[0m     \u001b[38;5;28;01mraise\u001b[39;00m ValidPasswordError\n",
      "\u001b[1;31mValidPasswordError\u001b[0m: "
     ]
    }
   ],
   "source": [
    "class ValidPasswordError(BaseException): \n",
    "    ... \n",
    "def lenght(x): \n",
    "    if x == 10: \n",
    "        print(\"Valid Password\")\n",
    "    else: \n",
    "        raise ValidPasswordError # ValidPasswordError\n",
    "\n",
    "\n",
    "lenght(2)\n",
    "# lenght(44)"
   ]
  },
  {
   "cell_type": "code",
   "execution_count": null,
   "id": "2c2cba6c-7891-498a-8a11-58cb493145ff",
   "metadata": {},
   "outputs": [],
   "source": []
  }
 ],
 "metadata": {
  "kernelspec": {
   "display_name": "Python 3 (ipykernel)",
   "language": "python",
   "name": "python3"
  },
  "language_info": {
   "codemirror_mode": {
    "name": "ipython",
    "version": 3
   },
   "file_extension": ".py",
   "mimetype": "text/x-python",
   "name": "python",
   "nbconvert_exporter": "python",
   "pygments_lexer": "ipython3",
   "version": "3.12.4"
  }
 },
 "nbformat": 4,
 "nbformat_minor": 5
}
