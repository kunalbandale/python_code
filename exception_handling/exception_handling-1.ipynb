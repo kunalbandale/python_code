{
 "cells": [
  {
   "cell_type": "code",
   "execution_count": 5,
   "id": "6ce84df0-11d8-48c1-9a90-8b3c9f5cf12d",
   "metadata": {},
   "outputs": [
    {
     "ename": "SyntaxError",
     "evalue": "incomplete input (223363570.py, line 7)",
     "output_type": "error",
     "traceback": [
      "\u001b[1;36m  Cell \u001b[1;32mIn[5], line 7\u001b[1;36m\u001b[0m\n\u001b[1;33m    \u001b[0m\n\u001b[1;37m    ^\u001b[0m\n\u001b[1;31mSyntaxError\u001b[0m\u001b[1;31m:\u001b[0m incomplete input\n"
     ]
    }
   ],
   "source": [
    "# exception handling \n",
    "# syntax error \n",
    "\n",
    "s = \"good afternoon\"\n",
    "print(s)\n",
    "print(s  # syntax error ')' as never closed \n",
    "      "
   ]
  },
  {
   "cell_type": "code",
   "execution_count": 9,
   "id": "f209b49b-caa2-4cec-95ec-0736563cb49f",
   "metadata": {},
   "outputs": [
    {
     "ename": "SyntaxError",
     "evalue": "expected ':' (1577624483.py, line 1)",
     "output_type": "error",
     "traceback": [
      "\u001b[1;36m  Cell \u001b[1;32mIn[9], line 1\u001b[1;36m\u001b[0m\n\u001b[1;33m    for i in [1,2,3,4]\u001b[0m\n\u001b[1;37m                      ^\u001b[0m\n\u001b[1;31mSyntaxError\u001b[0m\u001b[1;31m:\u001b[0m expected ':'\n"
     ]
    }
   ],
   "source": [
    "for i in [1,2,3,4] # SyntaxError: expected ':'\n",
    "    print(i)"
   ]
  },
  {
   "cell_type": "code",
   "execution_count": 15,
   "id": "e6d8d215-cbb5-4756-89ee-ac19ae287cd3",
   "metadata": {},
   "outputs": [
    {
     "data": {
      "text/plain": [
       "'\\ntry block -> \\n* try keyword \\n* tryblock while execution of the program in which line it wil show error that line we have to mention in try block \\n\\nexcept block -> \\n* except keyword \\n* if we want to handle trybock error means we have to use except block. \\n* in except block easily we can handle the error. \\n\\nNote : - \\n\\n'"
      ]
     },
     "execution_count": 15,
     "metadata": {},
     "output_type": "execute_result"
    }
   ],
   "source": [
    "# what is the difference between try block and except block \n",
    "\n",
    "\"\"\"\n",
    "try block -> \n",
    "* try keyword \n",
    "* tryblock while execution of the program in which line it wil show error that line we have to mention in try block \n",
    "\n",
    "except block -> \n",
    "* except keyword \n",
    "* if we want to handle trybock error means we have to use except block. \n",
    "* in except block easily we can handle the error. \n",
    "\n",
    "Types of Except Block \n",
    " 1. default except block\n",
    " 2. specific except block \n",
    " 3. multiple except block \n",
    " 4. generic except block  \n",
    "\"\"\""
   ]
  },
  {
   "cell_type": "code",
   "execution_count": 17,
   "id": "dd546124-36e4-42d5-b8d6-e1ab2d1d50ad",
   "metadata": {},
   "outputs": [
    {
     "data": {
      "text/plain": [
       "'\\nsteps : \\n\\n1) when we dont know what kind of error it wil occur that time we have to go for default except block. \\n\\nsyntax: - \\n\\ntry: \\n    ERROR LINE \\nexcept: \\n    Statement/Handling Line\\n'"
      ]
     },
     "execution_count": 17,
     "metadata": {},
     "output_type": "execute_result"
    }
   ],
   "source": [
    "\"\"\"\n",
    "steps : \n",
    "\n",
    "1) when we dont know what kind of error it wil occur that time we have to go for default except block. \n",
    "\n",
    "syntax: - \n",
    "\n",
    "try: \n",
    "    ERROR LINE \n",
    "except: \n",
    "    Statement/Handling Line\n",
    "\"\"\"\n"
   ]
  },
  {
   "cell_type": "code",
   "execution_count": 43,
   "id": "42ce391e-38b4-421d-a052-f5c42e2dd8a4",
   "metadata": {},
   "outputs": [
    {
     "name": "stdout",
     "output_type": "stream",
     "text": [
      "3\n",
      "No error in try block\n"
     ]
    }
   ],
   "source": [
    "# default \n",
    "\n",
    "d = [1,2,3,4,5]\n",
    "try: \n",
    "    print(d[2])\n",
    "except: \n",
    "    print(\"Error\")\n",
    "\n",
    "print(\"No error in try block\")\n"
   ]
  },
  {
   "cell_type": "code",
   "execution_count": 55,
   "id": "78a1e738-d062-4349-8522-bc14b76745b8",
   "metadata": {},
   "outputs": [
    {
     "name": "stdout",
     "output_type": "stream",
     "text": [
      "ERROR!!!\n"
     ]
    }
   ],
   "source": [
    "a = 10 \n",
    "b = 5 \n",
    "\n",
    "try: \n",
    "    print(a/d) \n",
    "except: \n",
    "    print(\"ERROR!!!\")\n"
   ]
  },
  {
   "cell_type": "code",
   "execution_count": 59,
   "id": "7cc2575c-3b47-4d5b-a3b6-78366d3d1bd1",
   "metadata": {},
   "outputs": [
    {
     "name": "stdout",
     "output_type": "stream",
     "text": [
      "ERROR!!!\n"
     ]
    }
   ],
   "source": [
    "a = 10 \n",
    "b = 0\n",
    "\n",
    "try: \n",
    "    print(a/b)  # ZeroDivisonError \n",
    "except: \n",
    "    print(\"ERROR!!!\")"
   ]
  },
  {
   "cell_type": "code",
   "execution_count": 71,
   "id": "14de2a08-ce0a-4634-971a-afbc6408d536",
   "metadata": {},
   "outputs": [
    {
     "name": "stdout",
     "output_type": "stream",
     "text": [
      "Zero Division Error handled\n"
     ]
    }
   ],
   "source": [
    "# specific \n",
    "# example \n",
    "# when we know what kind of error will occur we go for specific error \n",
    "\"\"\"\n",
    "try :\n",
    "    error_line\n",
    "except Error_Name: \n",
    "    stmt \n",
    "\"\"\"\n",
    "\n",
    "a = 10 \n",
    "try:\n",
    "    print(a/0)\n",
    "except ZeroDivisionError:\n",
    "    print(\"Zero Division Error handled\")"
   ]
  },
  {
   "cell_type": "code",
   "execution_count": 88,
   "id": "54453cbe-43f1-49e8-af61-92b8547337ef",
   "metadata": {},
   "outputs": [
    {
     "name": "stdout",
     "output_type": "stream",
     "text": [
      "'str' object has no attribute 'append'\n"
     ]
    }
   ],
   "source": [
    "w = \"PYTHON\" \n",
    "try: \n",
    "    print(w.append(101))\n",
    "except AttributeError as ae: \n",
    "    print(ae)"
   ]
  },
  {
   "cell_type": "code",
   "execution_count": 101,
   "id": "ef64e59a-87fd-4938-92bb-e643ef503374",
   "metadata": {},
   "outputs": [
    {
     "name": "stdout",
     "output_type": "stream",
     "text": [
      "ERROR!!!!\n"
     ]
    }
   ],
   "source": [
    "r = {34:43,34:100}\n",
    "# r[24] \n",
    "try: \n",
    "    print(r[23])\n",
    "except KeyError: \n",
    "    print(\"ERROR!!!!\")"
   ]
  },
  {
   "cell_type": "code",
   "execution_count": 107,
   "id": "2bc69325-3ab4-423a-a9aa-1f5dedeb40e8",
   "metadata": {},
   "outputs": [
    {
     "name": "stdout",
     "output_type": "stream",
     "text": [
      "name 'x' is not defined\n",
      "Completed ✅ \n"
     ]
    }
   ],
   "source": [
    "# multiple except block  \n",
    "# by using single try block we can execute multiple except block. \n",
    "\n",
    "\"\"\" \n",
    "try: \n",
    "    errorline \n",
    "except Error_Name:\n",
    "    stmt \n",
    "except Error_Name: \n",
    "    stmt \n",
    "\n",
    "---------------------------------\n",
    "try : \n",
    "    print() \n",
    "except (err1,err2,err3,err,4......): \n",
    "    print()\n",
    "\n",
    "\"\"\"\n",
    "a = 10 \n",
    "try:\n",
    "    print(a/x)\n",
    "except ZeroDivisionError as z:\n",
    "    print(z)\n",
    "except NameError as ne: \n",
    "    print(ne)\n",
    "except AttributeError as ae: \n",
    "    print(ae)\n",
    "except KeyError as ke: \n",
    "    print(ke)\n",
    "finally:\n",
    "    print(\"Completed ✅ \")\n",
    "    "
   ]
  },
  {
   "cell_type": "code",
   "execution_count": 113,
   "id": "dcfa76d3-6f25-4532-8a7f-3851150894f7",
   "metadata": {},
   "outputs": [
    {
     "name": "stdout",
     "output_type": "stream",
     "text": [
      "error!!\n"
     ]
    }
   ],
   "source": [
    "a = 10 \n",
    "try : \n",
    "    print(a/b)\n",
    "except (ZeroDivisionError , NameError , ArithmeticError , AttributeError , KeyError): \n",
    "    print(\"error!!\")"
   ]
  },
  {
   "cell_type": "code",
   "execution_count": 117,
   "id": "f2c6e430-5613-43e4-a686-a313465eb1e0",
   "metadata": {},
   "outputs": [
    {
     "name": "stdout",
     "output_type": "stream",
     "text": [
      "An unexpected error occurred!\n"
     ]
    }
   ],
   "source": [
    "# generic error \n",
    "try:\n",
    "    # Code that might raise an exception\n",
    "    result = 10 / 0\n",
    "except ValueError:\n",
    "     print(\"Invalid value entered.\")\n",
    "except: # This is the generic except block\n",
    "    print(\"An unexpected error occurred!\")"
   ]
  }
 ],
 "metadata": {
  "kernelspec": {
   "display_name": "Python 3 (ipykernel)",
   "language": "python",
   "name": "python3"
  },
  "language_info": {
   "codemirror_mode": {
    "name": "ipython",
    "version": 3
   },
   "file_extension": ".py",
   "mimetype": "text/x-python",
   "name": "python",
   "nbconvert_exporter": "python",
   "pygments_lexer": "ipython3",
   "version": "3.12.4"
  }
 },
 "nbformat": 4,
 "nbformat_minor": 5
}
