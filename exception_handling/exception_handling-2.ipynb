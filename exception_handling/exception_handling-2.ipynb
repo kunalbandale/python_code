{
 "cells": [
  {
   "cell_type": "code",
   "execution_count": 4,
   "id": "56d69daa-db04-417d-9036-3a80c2aa7cb8",
   "metadata": {},
   "outputs": [
    {
     "data": {
      "text/plain": [
       "' \\ntry - except important to write except block both are complusary to mention \\n\\n    try: \\n        # pass\\n    except: \\n        # pass \\n    else: \\n        # pass \\n    finally: \\n        # pass \\n\\ntry     -> in which line showing error \\nexcept  -> handle error here \\nelse    -> wherenve you dont have any error in try block automically else block will be executed \\nfinally -> keyword no matter weather error is present or not always finally block will be executing  (code cleanup purpose we are using finally block)\\n\\n'"
      ]
     },
     "execution_count": 4,
     "metadata": {},
     "output_type": "execute_result"
    }
   ],
   "source": [
    "# exception handling \n",
    "\"\"\" \n",
    "try - except important to write except block both are complusary to mention \n",
    "\n",
    "    try: \n",
    "        # pass\n",
    "    except: \n",
    "        # pass \n",
    "    else: \n",
    "        # pass \n",
    "    finally: \n",
    "        # pass \n",
    "\n",
    "try     -> in which line showing error \n",
    "except  -> handle error here \n",
    "else    -> wherenve you dont have any error in try block automically else block will be executed \n",
    "finally -> keyword no matter weather error is present or not always finally block will be executing  (code cleanup purpose we are using finally block)\n",
    "\n",
    "\"\"\"\n"
   ]
  },
  {
   "cell_type": "code",
   "execution_count": 18,
   "id": "2b6087e1-e506-4635-bb04-aa39c4501331",
   "metadata": {},
   "outputs": [
    {
     "name": "stdout",
     "output_type": "stream",
     "text": [
      "list index out of range\n"
     ]
    }
   ],
   "source": [
    "# try block and except block and else block  \n",
    "\n",
    "d = [1,2,3,4,5]\n",
    "\n",
    "try:\n",
    "    print(d[13])  # IndexError\n",
    "except IndexError as ie:\n",
    "    print(ie)\n",
    "else: \n",
    "    print(\"No error occured! all test cases passed ✅\")"
   ]
  },
  {
   "cell_type": "code",
   "execution_count": 29,
   "id": "5075ba7f-604b-4b91-b8f0-6b96fe05d95d",
   "metadata": {},
   "outputs": [
    {
     "name": "stdout",
     "output_type": "stream",
     "text": [
      "list index out of range\n",
      "Code Execution Completed\n"
     ]
    }
   ],
   "source": [
    "# finally block \n",
    "# try block and except block and else block  \n",
    "\n",
    "d = [1,2,3,4,5]\n",
    "\n",
    "try:\n",
    "    print(d[13])  # IndexError\n",
    "except IndexError as ie:\n",
    "    print(ie)\n",
    "else: \n",
    "    print(\"No error occured!\")\n",
    "finally: \n",
    "    print(\"Code Execution Completed\")"
   ]
  },
  {
   "cell_type": "code",
   "execution_count": 33,
   "id": "d483c06d-35ee-4dad-9dc6-4360c5bd1fda",
   "metadata": {},
   "outputs": [
    {
     "data": {
      "text/plain": [
       "' \\nnested try-except\\n    \\n    try: \\n        #error-line              \\n        try : \\n            # error-line        \\n        except: \\n            # stmt \\n    except: \\n        #stmt \\n\\n'"
      ]
     },
     "execution_count": 33,
     "metadata": {},
     "output_type": "execute_result"
    }
   ],
   "source": [
    "# concept \n",
    "\"\"\" \n",
    "nested try-except\n",
    "    \n",
    "    try: \n",
    "        #error-line              \n",
    "        try : \n",
    "            # error-line        \n",
    "        except: \n",
    "            # stmt \n",
    "    except: \n",
    "        #stmt \n",
    "\n",
    "\"\"\""
   ]
  },
  {
   "cell_type": "code",
   "execution_count": 53,
   "id": "10449c4b-8700-4ff4-a80c-7ff0ad22410b",
   "metadata": {},
   "outputs": [
    {
     "name": "stdout",
     "output_type": "stream",
     "text": [
      "2.0\n",
      "No Error\n"
     ]
    }
   ],
   "source": [
    "a = 10\n",
    "b = 5\n",
    "\n",
    "try:\n",
    "    print(a/b)           \n",
    "    try:\n",
    "        print(a/d)       \n",
    "    except NameError as ne:\n",
    "        print(ne)        \n",
    "except:\n",
    "    print(\"No Error\")"
   ]
  }
 ],
 "metadata": {
  "kernelspec": {
   "display_name": "Python 3 (ipykernel)",
   "language": "python",
   "name": "python3"
  },
  "language_info": {
   "codemirror_mode": {
    "name": "ipython",
    "version": 3
   },
   "file_extension": ".py",
   "mimetype": "text/x-python",
   "name": "python",
   "nbconvert_exporter": "python",
   "pygments_lexer": "ipython3",
   "version": "3.12.4"
  }
 },
 "nbformat": 4,
 "nbformat_minor": 5
}
