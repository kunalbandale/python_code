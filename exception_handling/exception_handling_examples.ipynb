{
 "cells": [
  {
   "cell_type": "code",
   "execution_count": 15,
   "id": "e177ce26-06d0-4c10-83b8-c90584904765",
   "metadata": {},
   "outputs": [
    {
     "name": "stdout",
     "output_type": "stream",
     "text": [
      "division by zero\n",
      "code completed\n"
     ]
    }
   ],
   "source": [
    "# handle ZeroDivisonError \n",
    "def div(a,b):\n",
    "    try: \n",
    "        res = (a/b)\n",
    "        print(res)\n",
    "    except ZeroDivisionError as zde:\n",
    "        print(zde) \n",
    "    else: \n",
    "        print(\"No error\")\n",
    "    finally:\n",
    "        print(\"code completed\")\n",
    "\n",
    "# div(10,4)\n",
    "div(10,0)"
   ]
  },
  {
   "cell_type": "code",
   "execution_count": 21,
   "id": "b49af9c4-54cc-40b0-aca3-f662889691ba",
   "metadata": {},
   "outputs": [
    {
     "name": "stdout",
     "output_type": "stream",
     "text": [
      "[Errno 2] No such file or directory: 'python.txt'\n"
     ]
    }
   ],
   "source": [
    "# FileNotFoundError  \n",
    "try: \n",
    "    file = open(\"python.txt\" , \"r\") \n",
    "    print(file.read())\n",
    "except FileNotFoundError as fne: \n",
    "    print(fne)"
   ]
  },
  {
   "cell_type": "code",
   "execution_count": 23,
   "id": "d5249752-7503-4182-b413-3ae219ef9958",
   "metadata": {},
   "outputs": [
    {
     "name": "stdin",
     "output_type": "stream",
     "text": [
      "enter the number ddg\n"
     ]
    },
    {
     "name": "stdout",
     "output_type": "stream",
     "text": [
      "invalid literal for int() with base 10: 'ddg'\n"
     ]
    }
   ],
   "source": [
    "try:\n",
    "    age = int(input(\"enter the number\"))\n",
    "    print(age) \n",
    "except ValueError as ve:\n",
    "    print(ve)\n"
   ]
  },
  {
   "cell_type": "code",
   "execution_count": null,
   "id": "a792694a-78ee-48c5-9657-3a0712b62374",
   "metadata": {},
   "outputs": [],
   "source": []
  }
 ],
 "metadata": {
  "kernelspec": {
   "display_name": "Python 3 (ipykernel)",
   "language": "python",
   "name": "python3"
  },
  "language_info": {
   "codemirror_mode": {
    "name": "ipython",
    "version": 3
   },
   "file_extension": ".py",
   "mimetype": "text/x-python",
   "name": "python",
   "nbconvert_exporter": "python",
   "pygments_lexer": "ipython3",
   "version": "3.12.4"
  }
 },
 "nbformat": 4,
 "nbformat_minor": 5
}
