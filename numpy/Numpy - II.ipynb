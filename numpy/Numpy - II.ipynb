{
 "cells": [
  {
   "cell_type": "raw",
   "id": "26b4ea78-083e-4c26-a47d-f439e78e11bc",
   "metadata": {},
   "source": [
    "++++++++\n",
    "TOPICS : \n",
    "++++++++\n",
    "\n",
    "------------------\n",
    "Array Properties\n",
    "------------------\n",
    "1. ndim\n",
    "2. shape\n",
    "3. size\n",
    "4. dtype\n",
    "5. nbytes\n",
    "\n",
    "-------------------\n",
    "Array Manipulation\n",
    "-------------------\n",
    "1.reshape()\n",
    "2.flatten()\n",
    "3.ravel()\n",
    "4.resize()\n",
    "5.concatenate()\n",
    "6.stack()\n",
    "7.hstack()\n",
    "8.vstack()\n",
    "\n",
    "\n",
    "------------------\n",
    "predefined arrays\n",
    "-----------------\n",
    "1.zeros()\n",
    "2.ones()\n",
    "3.full()\n",
    "4.eye()\n",
    "5.linspace()\n",
    "6.rand()\n",
    "7.randint()\n",
    "8.arange()\n",
    "\n"
   ]
  },
  {
   "cell_type": "code",
   "execution_count": 11,
   "id": "e74293a0-c105-441a-ba15-3ec34ea8f58a",
   "metadata": {},
   "outputs": [
    {
     "name": "stdout",
     "output_type": "stream",
     "text": [
      "[ 11 100 300 500  30 500]\n",
      "\n",
      " ndim : 1\n",
      "\n",
      " shape : (6,)\n",
      "\n",
      " size : 6\n",
      "\n",
      " dtype : int32\n",
      "\n",
      " nbytes : 24\n"
     ]
    }
   ],
   "source": [
    "import numpy as np\n",
    "\n",
    "arr = np.array([11,100,300,500,30,500])\n",
    "print(arr)\n",
    "print()\n",
    "print(f\" ndim : {arr.ndim}\")\n",
    "print()\n",
    "print(f\" shape : {arr.shape}\")\n",
    "print()\n",
    "print(f\" size : {arr.size}\")\n",
    "print()\n",
    "print(f\" dtype : {arr.dtype}\")\n",
    "print()\n",
    "print(f\" nbytes : {arr.nbytes}\")"
   ]
  },
  {
   "cell_type": "code",
   "execution_count": 47,
   "id": "f1fd53a0-dd83-40f6-b91a-d99f62849fe2",
   "metadata": {},
   "outputs": [
    {
     "name": "stdout",
     "output_type": "stream",
     "text": [
      "[[10 20 30 40]\n",
      " [50 60 70 80]]\n"
     ]
    }
   ],
   "source": [
    "dim2 = np.array([[10,20,30,40,] , [50,60,70,80]])\n",
    "print(dim2)"
   ]
  },
  {
   "cell_type": "code",
   "execution_count": 49,
   "id": "aa838ac8-0fc6-4483-a57f-7470622fa8a7",
   "metadata": {},
   "outputs": [
    {
     "name": "stdout",
     "output_type": "stream",
     "text": [
      "2\n"
     ]
    }
   ],
   "source": [
    "print(dim2.ndim)"
   ]
  },
  {
   "cell_type": "code",
   "execution_count": 79,
   "id": "b1dcc324-9f8c-4c80-a176-1acff40bc948",
   "metadata": {},
   "outputs": [
    {
     "name": "stdout",
     "output_type": "stream",
     "text": [
      "[[10 20]\n",
      " [30 40]\n",
      " [50 60]\n",
      " [70 80]]\n",
      "\n",
      "[10 20 30 40 50 60 70 80]\n"
     ]
    }
   ],
   "source": [
    "# reshape()\n",
    "print(dim2.reshape(4,2))\n",
    "print()\n",
    "print(dim2.reshape(-1))"
   ]
  },
  {
   "cell_type": "code",
   "execution_count": 53,
   "id": "c954d9a8-9d02-4499-9d03-ee7624049d9d",
   "metadata": {},
   "outputs": [
    {
     "name": "stdout",
     "output_type": "stream",
     "text": [
      "[10 20 30 40 50 60 70 80]\n"
     ]
    }
   ],
   "source": [
    "# flatten\n",
    "print(dim2.flatten())"
   ]
  },
  {
   "cell_type": "code",
   "execution_count": 55,
   "id": "9ae86809-b233-4a2a-946e-8b07686e1732",
   "metadata": {},
   "outputs": [
    {
     "name": "stdout",
     "output_type": "stream",
     "text": [
      "[10 20 30 40 50 60 70 80]\n"
     ]
    }
   ],
   "source": [
    "print(dim2.flatten(order = \"C\"))"
   ]
  },
  {
   "cell_type": "code",
   "execution_count": 59,
   "id": "e2d25221-3a7b-40b2-9e25-4c6f1469aabb",
   "metadata": {},
   "outputs": [
    {
     "name": "stdout",
     "output_type": "stream",
     "text": [
      "[10 50 20 60 30 70 40 80]\n"
     ]
    }
   ],
   "source": [
    "print(dim2.flatten(order = \"F\"))"
   ]
  },
  {
   "cell_type": "code",
   "execution_count": 61,
   "id": "04155d8d-2c6e-432b-b766-e19687ac78dc",
   "metadata": {},
   "outputs": [
    {
     "name": "stdout",
     "output_type": "stream",
     "text": [
      "[10 20 30 40 50 60 70 80]\n"
     ]
    }
   ],
   "source": [
    "# ravel()\n",
    "ra = dim2.ravel()\n",
    "print(ra)"
   ]
  },
  {
   "cell_type": "code",
   "execution_count": 71,
   "id": "6ac09c40-1d82-451f-b25d-23f0a19b3f97",
   "metadata": {},
   "outputs": [
    {
     "name": "stdout",
     "output_type": "stream",
     "text": [
      "[10 20 30 40 50 60 70 80]\n"
     ]
    }
   ],
   "source": [
    "ra = dim2.ravel(order = \"C\")\n",
    "print(ra)"
   ]
  },
  {
   "cell_type": "code",
   "execution_count": 75,
   "id": "62cfec9e-0833-4977-a8b0-880c5dc7bd99",
   "metadata": {},
   "outputs": [
    {
     "name": "stdout",
     "output_type": "stream",
     "text": [
      "[10 50 20 60 30 70 40 80]\n"
     ]
    }
   ],
   "source": [
    "ra = dim2.ravel(order = \"F\")\n",
    "print(ra)"
   ]
  },
  {
   "cell_type": "code",
   "execution_count": 81,
   "id": "d29b0feb-1e57-4007-9dc6-9254066196fc",
   "metadata": {},
   "outputs": [],
   "source": [
    "# resize()\n",
    "# negative dimension is not allowed in resize()\n",
    "dim2.resize(2,4) # if you take a new varaible it will show None\n"
   ]
  },
  {
   "cell_type": "code",
   "execution_count": 85,
   "id": "20aa52fb-6c2c-48e9-9467-8fb0bb513557",
   "metadata": {},
   "outputs": [
    {
     "name": "stdout",
     "output_type": "stream",
     "text": [
      "[[10 20 30 40]\n",
      " [50 60 70 80]]\n"
     ]
    }
   ],
   "source": [
    "print(dim2)"
   ]
  },
  {
   "cell_type": "code",
   "execution_count": 87,
   "id": "cb1d2f69-2b7b-468e-864e-631d167b36d3",
   "metadata": {},
   "outputs": [],
   "source": [
    "# predefined arrays "
   ]
  },
  {
   "cell_type": "code",
   "execution_count": 240,
   "id": "8322f54c-ee87-449e-b790-91f4c8bf6bd9",
   "metadata": {},
   "outputs": [],
   "source": [
    "# random.rand(one-args)\n",
    "q = np.random.rand(5)"
   ]
  },
  {
   "cell_type": "code",
   "execution_count": 242,
   "id": "a66a63f8-d626-4aeb-9c40-8ddcba28f3f8",
   "metadata": {},
   "outputs": [
    {
     "data": {
      "text/plain": [
       "array([0.25057308, 0.82800458, 0.97660802, 0.29728226, 0.22186812])"
      ]
     },
     "execution_count": 242,
     "metadata": {},
     "output_type": "execute_result"
    }
   ],
   "source": [
    "q"
   ]
  },
  {
   "cell_type": "code",
   "execution_count": 285,
   "id": "8404f50d-6995-4116-b1de-fd42f90ea32f",
   "metadata": {},
   "outputs": [],
   "source": [
    "# random.randint(1,2) # two arguments\n",
    "q1 = np.random.randint(1,100 , 10)\n",
    "# q1 = np.random.randint() # error takes atleast one"
   ]
  },
  {
   "cell_type": "code",
   "execution_count": 289,
   "id": "4978a836-325e-4ac5-8e83-65c2cc781b63",
   "metadata": {},
   "outputs": [
    {
     "data": {
      "text/plain": [
       "array([94, 86, 90, 55, 32, 14, 22,  1,  6, 90])"
      ]
     },
     "execution_count": 289,
     "metadata": {},
     "output_type": "execute_result"
    }
   ],
   "source": [
    "q1"
   ]
  },
  {
   "cell_type": "code",
   "execution_count": 362,
   "id": "6c6deada-74cb-418f-b5ba-98e7e8b439d5",
   "metadata": {},
   "outputs": [
    {
     "name": "stdout",
     "output_type": "stream",
     "text": [
      "abc\n"
     ]
    }
   ],
   "source": [
    "# within choice it will be giving the output\n",
    "w = [12, 78, 900 , \"abc\" , 2+4j , 12 , 34]\n",
    "e = np.random.choice(w)\n",
    "print(e)"
   ]
  },
  {
   "cell_type": "code",
   "execution_count": 364,
   "id": "c63faf89-a328-4c6e-aec1-58a8f5adab00",
   "metadata": {},
   "outputs": [
    {
     "name": "stdout",
     "output_type": "stream",
     "text": [
      "python\n"
     ]
    }
   ],
   "source": [
    "e1 = np.random.choice([\"python\" , \"sql\"])\n",
    "print(e1)"
   ]
  },
  {
   "cell_type": "code",
   "execution_count": 400,
   "id": "8ced020e-fc95-4c2c-8233-57cc417db091",
   "metadata": {},
   "outputs": [],
   "source": [
    "np.random.shuffle(w)"
   ]
  },
  {
   "cell_type": "code",
   "execution_count": 402,
   "id": "f072d046-6dc2-4524-9013-d98618a7f168",
   "metadata": {},
   "outputs": [
    {
     "name": "stdout",
     "output_type": "stream",
     "text": [
      "[12, 900, 12, 34, 'abc', 78, (2+4j)]\n"
     ]
    }
   ],
   "source": [
    "print(w)"
   ]
  },
  {
   "cell_type": "code",
   "execution_count": 449,
   "id": "31003703-b5d0-4152-a5d1-98127875c382",
   "metadata": {},
   "outputs": [],
   "source": [
    "# eye()\n",
    "w = np.zeros(2)\n",
    "w = np.zeros((2,2))\n",
    "w = np.zeros((2,2,2) , dtype = \"int\")"
   ]
  },
  {
   "cell_type": "code",
   "execution_count": 451,
   "id": "1c19a5ba-d414-4f84-bdbb-543050d1c203",
   "metadata": {},
   "outputs": [
    {
     "data": {
      "text/plain": [
       "array([[[0, 0],\n",
       "        [0, 0]],\n",
       "\n",
       "       [[0, 0],\n",
       "        [0, 0]]])"
      ]
     },
     "execution_count": 451,
     "metadata": {},
     "output_type": "execute_result"
    }
   ],
   "source": [
    "w"
   ]
  },
  {
   "cell_type": "code",
   "execution_count": 447,
   "id": "5462d4e6-d1ad-4143-8640-d32d7fd0189a",
   "metadata": {},
   "outputs": [],
   "source": [
    "w = np.ones(5)\n",
    "w = np.ones((5,5))\n",
    "w = np.ones((5,5,5), )"
   ]
  },
  {
   "cell_type": "code",
   "execution_count": 443,
   "id": "4cb65c8b-8eb0-4a61-8467-5df00c25fd75",
   "metadata": {},
   "outputs": [
    {
     "data": {
      "text/plain": [
       "array([[[1., 1., 1., 1., 1.],\n",
       "        [1., 1., 1., 1., 1.],\n",
       "        [1., 1., 1., 1., 1.],\n",
       "        [1., 1., 1., 1., 1.],\n",
       "        [1., 1., 1., 1., 1.]],\n",
       "\n",
       "       [[1., 1., 1., 1., 1.],\n",
       "        [1., 1., 1., 1., 1.],\n",
       "        [1., 1., 1., 1., 1.],\n",
       "        [1., 1., 1., 1., 1.],\n",
       "        [1., 1., 1., 1., 1.]],\n",
       "\n",
       "       [[1., 1., 1., 1., 1.],\n",
       "        [1., 1., 1., 1., 1.],\n",
       "        [1., 1., 1., 1., 1.],\n",
       "        [1., 1., 1., 1., 1.],\n",
       "        [1., 1., 1., 1., 1.]],\n",
       "\n",
       "       [[1., 1., 1., 1., 1.],\n",
       "        [1., 1., 1., 1., 1.],\n",
       "        [1., 1., 1., 1., 1.],\n",
       "        [1., 1., 1., 1., 1.],\n",
       "        [1., 1., 1., 1., 1.]],\n",
       "\n",
       "       [[1., 1., 1., 1., 1.],\n",
       "        [1., 1., 1., 1., 1.],\n",
       "        [1., 1., 1., 1., 1.],\n",
       "        [1., 1., 1., 1., 1.],\n",
       "        [1., 1., 1., 1., 1.]]])"
      ]
     },
     "execution_count": 443,
     "metadata": {},
     "output_type": "execute_result"
    }
   ],
   "source": [
    "w"
   ]
  },
  {
   "cell_type": "code",
   "execution_count": 460,
   "id": "173621f5-deec-4dd5-9d6e-fc0dba4e6520",
   "metadata": {},
   "outputs": [],
   "source": [
    "a = np.full((3,3),10)"
   ]
  },
  {
   "cell_type": "code",
   "execution_count": 464,
   "id": "e0e517a9-9aff-4eb8-95fb-b3a6d014cfcb",
   "metadata": {},
   "outputs": [
    {
     "data": {
      "text/plain": [
       "array([[10, 10, 10],\n",
       "       [10, 10, 10],\n",
       "       [10, 10, 10]])"
      ]
     },
     "execution_count": 464,
     "metadata": {},
     "output_type": "execute_result"
    }
   ],
   "source": [
    "a"
   ]
  },
  {
   "cell_type": "code",
   "execution_count": 478,
   "id": "48ad87cc-0598-49de-857b-21592ea8ca4c",
   "metadata": {},
   "outputs": [],
   "source": [
    "# chage the dimnensions\n",
    "q = np.eye(4)"
   ]
  },
  {
   "cell_type": "code",
   "execution_count": 480,
   "id": "abca28a0-7c20-4ece-97d9-a191630c252d",
   "metadata": {},
   "outputs": [
    {
     "data": {
      "text/plain": [
       "array([[1., 0., 0., 0.],\n",
       "       [0., 1., 0., 0.],\n",
       "       [0., 0., 1., 0.],\n",
       "       [0., 0., 0., 1.]])"
      ]
     },
     "execution_count": 480,
     "metadata": {},
     "output_type": "execute_result"
    }
   ],
   "source": [
    "q"
   ]
  }
 ],
 "metadata": {
  "kernelspec": {
   "display_name": "Python 3 (ipykernel)",
   "language": "python",
   "name": "python3"
  },
  "language_info": {
   "codemirror_mode": {
    "name": "ipython",
    "version": 3
   },
   "file_extension": ".py",
   "mimetype": "text/x-python",
   "name": "python",
   "nbconvert_exporter": "python",
   "pygments_lexer": "ipython3",
   "version": "3.12.4"
  }
 },
 "nbformat": 4,
 "nbformat_minor": 5
}
