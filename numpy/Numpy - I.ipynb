{
 "cells": [
  {
   "cell_type": "code",
   "execution_count": 3,
   "id": "bb012f25-cbac-4b24-8b0e-744e9ea668ed",
   "metadata": {},
   "outputs": [
    {
     "name": "stdout",
     "output_type": "stream",
     "text": [
      "1.26.4\n"
     ]
    }
   ],
   "source": [
    "# check version of numpy\n",
    "import numpy as np\n",
    "print(np.__version__)"
   ]
  },
  {
   "cell_type": "code",
   "execution_count": 5,
   "id": "fec04420-8f66-49b7-91c0-6ff3284bd440",
   "metadata": {},
   "outputs": [],
   "source": [
    "# array \n",
    "# the process of converting other data type array \n",
    "# that time we have to use array function \n",
    "# inbuilt function - comes under of numpy\n",
    "a = [1,2,3,4,5]"
   ]
  },
  {
   "cell_type": "code",
   "execution_count": 9,
   "id": "55d69d46-6d78-48d0-9a10-2347ec93d35a",
   "metadata": {},
   "outputs": [
    {
     "name": "stdout",
     "output_type": "stream",
     "text": [
      "<class 'list'>\n"
     ]
    }
   ],
   "source": [
    "print(type(a)) # <class 'list'>"
   ]
  },
  {
   "cell_type": "code",
   "execution_count": 25,
   "id": "d9b41a25-9588-4aed-8ff1-a8c1eaa716a1",
   "metadata": {},
   "outputs": [],
   "source": [
    "# array()\n",
    "a = np.array([1,2,3,4,5,6]) "
   ]
  },
  {
   "cell_type": "code",
   "execution_count": 31,
   "id": "bfb7114e-ca11-470d-814e-238559b52aaf",
   "metadata": {},
   "outputs": [
    {
     "data": {
      "text/plain": [
       "numpy.ndarray"
      ]
     },
     "execution_count": 31,
     "metadata": {},
     "output_type": "execute_result"
    }
   ],
   "source": [
    "type(a) # numpy.ndarray"
   ]
  },
  {
   "cell_type": "code",
   "execution_count": 35,
   "id": "1a13d9c5-86dc-463b-adfa-77d685378ca6",
   "metadata": {},
   "outputs": [
    {
     "name": "stdout",
     "output_type": "stream",
     "text": [
      "[1 2 3 4 5 6]\n"
     ]
    }
   ],
   "source": [
    "print(a) # [1 2 3 4 5 6]"
   ]
  },
  {
   "cell_type": "code",
   "execution_count": 39,
   "id": "af4ddb05-e021-4cde-9f85-65f69687e214",
   "metadata": {},
   "outputs": [
    {
     "name": "stdout",
     "output_type": "stream",
     "text": [
      "[12 23 53 13 45]\n"
     ]
    }
   ],
   "source": [
    "y = (12,23,53,13,45)\n",
    "z = np.array(y)\n",
    "print(z)\n",
    "# Output:-\n",
    "# [12 23 53 13 45]"
   ]
  },
  {
   "cell_type": "code",
   "execution_count": 41,
   "id": "25ce63d1-d22e-425b-bd93-c839e67a3035",
   "metadata": {},
   "outputs": [
    {
     "name": "stdout",
     "output_type": "stream",
     "text": [
      "[1.+0.j 2.+0.j 3.+0.j 1.+4.j]\n"
     ]
    }
   ],
   "source": [
    "# with complex number\n",
    "w = [1,2,3,1+4j]\n",
    "convert = np.array(w)\n",
    "print(convert)\n",
    "# converted all the numbers to complex\n",
    "# [1.+0.j 2.+0.j 3.+0.j 1.+4.j]"
   ]
  },
  {
   "cell_type": "code",
   "execution_count": 43,
   "id": "112f4eea-7dfe-4567-9198-28d3e1261c85",
   "metadata": {},
   "outputs": [
    {
     "name": "stdout",
     "output_type": "stream",
     "text": [
      "[1. 2. 3. 1.]\n"
     ]
    }
   ],
   "source": [
    "# with float number\n",
    "w = [1,2,3,1.0]\n",
    "convert = np.array(w)\n",
    "print(convert)\n",
    "# [1. 2. 3. 1.]"
   ]
  },
  {
   "cell_type": "code",
   "execution_count": 53,
   "id": "c9517c69-32a8-45b0-a46e-457015591373",
   "metadata": {},
   "outputs": [
    {
     "name": "stdout",
     "output_type": "stream",
     "text": [
      "<class 'numpy.ndarray'>\n"
     ]
    }
   ],
   "source": [
    "x = 100\n",
    "s=np.array(x)\n",
    "print(type(s)) # <class 'numpy.ndarray'>"
   ]
  },
  {
   "cell_type": "code",
   "execution_count": 69,
   "id": "d2d6d5c6-cc68-4998-b39f-c5a07e016bd9",
   "metadata": {},
   "outputs": [],
   "source": [
    "blank_array = np.array([])\n",
    "blank_array = np.array(())"
   ]
  },
  {
   "cell_type": "code",
   "execution_count": 71,
   "id": "e8291fe6-72c2-4bed-8706-cf9b5b6135d8",
   "metadata": {},
   "outputs": [
    {
     "data": {
      "text/plain": [
       "array([], dtype=float64)"
      ]
     },
     "execution_count": 71,
     "metadata": {},
     "output_type": "execute_result"
    }
   ],
   "source": [
    "blank_array"
   ]
  },
  {
   "cell_type": "code",
   "execution_count": 83,
   "id": "299d9dbe-1f87-4adb-a2e2-3d62ff398c67",
   "metadata": {},
   "outputs": [
    {
     "name": "stdout",
     "output_type": "stream",
     "text": [
      "1\n"
     ]
    }
   ],
   "source": [
    "# check dimnension\n",
    "# ndim\n",
    "print(convert.ndim)"
   ]
  },
  {
   "cell_type": "code",
   "execution_count": 85,
   "id": "6c5ce992-cd1b-4459-b4f2-07f7545dd178",
   "metadata": {},
   "outputs": [
    {
     "name": "stdout",
     "output_type": "stream",
     "text": [
      "[[1 2 3]\n",
      " [4 5 6]]\n"
     ]
    }
   ],
   "source": [
    "# 2-d array in the form of matrix \n",
    "w1 = np.array([[1,2,3] , [4,5,6]])\n",
    "print(w1)\n",
    "# output\n",
    "# [[1 2 3]\n",
    "# [4 5 6]]"
   ]
  },
  {
   "cell_type": "code",
   "execution_count": 97,
   "id": "22ec0e7b-bee5-4e5d-8343-8beb76eedd0a",
   "metadata": {},
   "outputs": [
    {
     "name": "stdout",
     "output_type": "stream",
     "text": [
      "(2, 3)\n",
      "6\n",
      "int32\n",
      "2\n"
     ]
    }
   ],
   "source": [
    "print(w1.shape) # (2, 3)\n",
    "print(w1.size) # 6\n",
    "print(w1.dtype) # int32\n",
    "print(w1.ndim) # 2"
   ]
  },
  {
   "cell_type": "code",
   "execution_count": 113,
   "id": "536f68d8-de80-4efc-a71f-735514331b67",
   "metadata": {
    "scrolled": true
   },
   "outputs": [
    {
     "name": "stdout",
     "output_type": "stream",
     "text": [
      "[[1 2]\n",
      " [3 4]\n",
      " [5 6]]\n",
      "\n",
      "[[1]\n",
      " [2]\n",
      " [3]\n",
      " [4]\n",
      " [5]\n",
      " [6]]\n",
      "\n",
      "[[1 2 3 4 5 6]]\n",
      "\n",
      "[1 2 3 4 5 6]\n"
     ]
    }
   ],
   "source": [
    "# i want to change the strucutre the matrix\n",
    "# concept name : reshape\n",
    "print(w1.reshape(3,2))\n",
    "print()\n",
    "print(w1.reshape(6,1))\n",
    "print()\n",
    "print(w1.reshape(1,6))\n",
    "print()\n",
    "print(w1.reshape(6))\n",
    "\n",
    "# output:-\n",
    "# [[1 2]\n",
    "# [3 4]\n",
    "# [5 6]]"
   ]
  },
  {
   "cell_type": "code",
   "execution_count": 121,
   "id": "dfff4883-3077-4a9d-b13f-b40cdd345ce1",
   "metadata": {},
   "outputs": [
    {
     "name": "stdout",
     "output_type": "stream",
     "text": [
      "(3, 3)\n",
      "[1 2 3 3 4 5 6 7 8]\n",
      "[[1 2 3 3 4 5 6 7 8]]\n"
     ]
    }
   ],
   "source": [
    "new_array = np.array([[1,2,3] , [3,4,5] , [6,7,8]])\n",
    "print(new_array.shape) # (3,3)\n",
    "print(new_array.reshape(9))\n",
    "print(new_array.reshape(1,9))"
   ]
  },
  {
   "cell_type": "code",
   "execution_count": 123,
   "id": "065e2ba7-1917-4354-819b-cac87616b2ec",
   "metadata": {},
   "outputs": [
    {
     "name": "stdout",
     "output_type": "stream",
     "text": [
      "[1 2 3 3 4 5 6 7 8]\n"
     ]
    }
   ],
   "source": [
    "print(new_array.reshape(-1)) # multi dimension array to single dimension array simply use -1 with reshape "
   ]
  },
  {
   "cell_type": "code",
   "execution_count": 129,
   "id": "433a07ef-4bd3-4e14-a3a2-10786677b6ad",
   "metadata": {},
   "outputs": [
    {
     "name": "stdout",
     "output_type": "stream",
     "text": [
      "[1 2 3 3 4 5 6 7 8]\n"
     ]
    }
   ],
   "source": [
    "# flatten()\n",
    "# convert 2-d aray to 1-d array \n",
    "print(new_array.flatten())"
   ]
  },
  {
   "cell_type": "code",
   "execution_count": 144,
   "id": "c833224b-f5c5-4bc7-81b1-260c7dc4357b",
   "metadata": {},
   "outputs": [
    {
     "name": "stdout",
     "output_type": "stream",
     "text": [
      "[1 2 3 3 4 5 6 7 8]\n",
      "=====================\n",
      "[1 3 6 2 4 7 3 5 8]\n"
     ]
    }
   ],
   "source": [
    "# parameter order\n",
    "print(new_array.flatten(order = \"C\")) # C -> rows (by deafult execute thorugh order format)\n",
    "print(\"=====================\")\n",
    "print(new_array.flatten(order = \"F\")) # F -> col (by deafult execute thorugh order format)"
   ]
  },
  {
   "cell_type": "code",
   "execution_count": 173,
   "id": "70f2d28d-7baf-4f79-a354-28b37fe4831a",
   "metadata": {},
   "outputs": [
    {
     "name": "stdout",
     "output_type": "stream",
     "text": [
      "[[1 2 3 4 5 6 7]]\n"
     ]
    }
   ],
   "source": [
    "# convert single dim.. to multidimensional \n",
    "converting = np.array([1,2,3,4,5,6,7], ndmin =2)\n",
    "print(converting)"
   ]
  },
  {
   "cell_type": "code",
   "execution_count": 177,
   "id": "c0400205-e983-4986-98e6-81dafda01bc7",
   "metadata": {},
   "outputs": [
    {
     "name": "stdout",
     "output_type": "stream",
     "text": [
      "[0 1 2 3 4 5 6 7 8 9]\n"
     ]
    }
   ],
   "source": [
    "# range() -> arange()\n",
    "# startIndex , EndIndex , StepValue\n",
    "# there is only one difference in range function we cant use float . arange we can use float number.\n",
    "\n",
    "t = np.arange(10)\n",
    "print(t)"
   ]
  }
 ],
 "metadata": {
  "kernelspec": {
   "display_name": "Python 3 (ipykernel)",
   "language": "python",
   "name": "python3"
  },
  "language_info": {
   "codemirror_mode": {
    "name": "ipython",
    "version": 3
   },
   "file_extension": ".py",
   "mimetype": "text/x-python",
   "name": "python",
   "nbconvert_exporter": "python",
   "pygments_lexer": "ipython3",
   "version": "3.12.4"
  }
 },
 "nbformat": 4,
 "nbformat_minor": 5
}
