{
 "cells": [
  {
   "cell_type": "code",
   "execution_count": 1,
   "id": "6682df48-075d-4062-94e1-a2f8a14c8e5e",
   "metadata": {},
   "outputs": [],
   "source": [
    "# import li\n",
    "import numpy as np"
   ]
  },
  {
   "cell_type": "code",
   "execution_count": null,
   "id": "955dd937-a108-408b-951c-3b1b81f1933b",
   "metadata": {},
   "outputs": [],
   "source": [
    "# Cal in NumPy\n"
   ]
  }
 ],
 "metadata": {
  "kernelspec": {
   "display_name": "Python 3 (ipykernel)",
   "language": "python",
   "name": "python3"
  },
  "language_info": {
   "codemirror_mode": {
    "name": "ipython",
    "version": 3
   },
   "file_extension": ".py",
   "mimetype": "text/x-python",
   "name": "python",
   "nbconvert_exporter": "python",
   "pygments_lexer": "ipython3",
   "version": "3.12.4"
  }
 },
 "nbformat": 4,
 "nbformat_minor": 5
}
