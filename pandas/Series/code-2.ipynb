{
 "cells": [
  {
   "cell_type": "raw",
   "id": "b6691983-e0fe-4954-b75f-49b0faf2e9c5",
   "metadata": {},
   "source": [
    "Topics Covered :\n",
    "--------------------\n",
    "- head()\n",
    "- tail()\n",
    "- sample()\n",
    "- describe()\n",
    "- info()\n",
    "- sum()\n",
    "- min() , max()\n",
    "- hasnans\n",
    "- dropna()\n",
    "- fillna()\n",
    "- replace()\n",
    "- sort_values()\n",
    "- sort_index()\n",
    "- duplicated()\n",
    "- drop_duplicates()\n",
    "- accesing the pandas with slicing , indexing and nested list format\n",
    "- drop() | del | pop()\n",
    "- concat()"
   ]
  },
  {
   "cell_type": "code",
   "execution_count": 91,
   "id": "691bde83-8533-4971-a221-1a231040ba95",
   "metadata": {},
   "outputs": [
    {
     "name": "stdout",
     "output_type": "stream",
     "text": [
      "0    1.0\n",
      "1    2.0\n",
      "2    3.0\n",
      "3    4.0\n",
      "4    5.0\n",
      "dtype: float64\n",
      "=========================\n",
      "0    1.0\n",
      "1    2.0\n",
      "2    3.0\n",
      "dtype: float64\n"
     ]
    }
   ],
   "source": [
    "import pandas as pd\n",
    "\n",
    "x = [1,2,3,4,5,6,7,8,9,0,1,2,None,3,5,6,7,8,90, None ]\n",
    "\n",
    "data = pd.Series(x)\n",
    "# top 5 rows\n",
    "print(data.head())\n",
    "\n",
    "print(\"=========================\")\n",
    "\n",
    "# customize rows\n",
    "print(data.head(3))\n"
   ]
  },
  {
   "cell_type": "code",
   "execution_count": 93,
   "id": "fbc045ca-9aea-4732-99cc-5e740ef7fad8",
   "metadata": {},
   "outputs": [
    {
     "name": "stdout",
     "output_type": "stream",
     "text": [
      "15     6.0\n",
      "16     7.0\n",
      "17     8.0\n",
      "18    90.0\n",
      "19     NaN\n",
      "dtype: float64\n",
      "============================\n",
      "19   NaN\n",
      "dtype: float64\n"
     ]
    }
   ],
   "source": [
    "# bottom 5 | last 5 rows first bottom then above that it will display\n",
    "print(data.tail())\n",
    "print(\"============================\")\n",
    "print(data.tail(1))"
   ]
  },
  {
   "cell_type": "code",
   "execution_count": 95,
   "id": "f89fc3e8-b246-4620-b925-c8dda20d3b7d",
   "metadata": {},
   "outputs": [
    {
     "name": "stdout",
     "output_type": "stream",
     "text": [
      "=======================\n"
     ]
    },
    {
     "data": {
      "text/plain": [
       "16    7.0\n",
       "1     2.0\n",
       "17    8.0\n",
       "dtype: float64"
      ]
     },
     "execution_count": 95,
     "metadata": {},
     "output_type": "execute_result"
    }
   ],
   "source": [
    "# sample()\n",
    "# randomly it will throw row \n",
    "# if you didnt mention it will thorw 1 row\n",
    "# \n",
    "data.sample() # 1 row \n",
    "\n",
    "print(\"=======================\")\n",
    "\n",
    "data.sample(3) # 3 rows "
   ]
  },
  {
   "cell_type": "code",
   "execution_count": 97,
   "id": "34c55462-2fbd-4104-9ce2-8e2fb8bbdff2",
   "metadata": {},
   "outputs": [
    {
     "data": {
      "text/plain": [
       "count    18.000000\n",
       "mean      9.277778\n",
       "std      20.326180\n",
       "min       0.000000\n",
       "25%       2.250000\n",
       "50%       5.000000\n",
       "75%       7.000000\n",
       "max      90.000000\n",
       "dtype: float64"
      ]
     },
     "execution_count": 97,
     "metadata": {},
     "output_type": "execute_result"
    }
   ],
   "source": [
    "# stats data like count , mean , std , min , max etc.\n",
    "data.describe()"
   ]
  },
  {
   "cell_type": "code",
   "execution_count": 99,
   "id": "3d5ee8be-a434-4ea3-a613-958afdb1e1b8",
   "metadata": {},
   "outputs": [
    {
     "name": "stdout",
     "output_type": "stream",
     "text": [
      "<class 'pandas.core.series.Series'>\n",
      "RangeIndex: 20 entries, 0 to 19\n",
      "Series name: None\n",
      "Non-Null Count  Dtype  \n",
      "--------------  -----  \n",
      "18 non-null     float64\n",
      "dtypes: float64(1)\n",
      "memory usage: 292.0 bytes\n"
     ]
    }
   ],
   "source": [
    "# information of column \n",
    "# col-name is mentioning\n",
    "# range format it will be showing \n",
    "# how much memeory \n",
    "data.info()"
   ]
  },
  {
   "cell_type": "code",
   "execution_count": 101,
   "id": "e37f74fe-ca61-494b-a581-901327c9a7d2",
   "metadata": {},
   "outputs": [
    {
     "name": "stdout",
     "output_type": "stream",
     "text": [
      "167.0\n"
     ]
    }
   ],
   "source": [
    "# sum of that list\n",
    "print(data.sum())"
   ]
  },
  {
   "cell_type": "code",
   "execution_count": 103,
   "id": "3826dad2-76f1-4463-bd4e-0af3876483cc",
   "metadata": {},
   "outputs": [
    {
     "name": "stdout",
     "output_type": "stream",
     "text": [
      "min0.0\n",
      "------------\n",
      "max  90.0\n"
     ]
    }
   ],
   "source": [
    "print(f\"min{  data.min()}\")\n",
    "print(\"------------\")\n",
    "print(f\"max  { data.max()}\")"
   ]
  },
  {
   "cell_type": "code",
   "execution_count": 105,
   "id": "fd8fa29c-9523-4b12-beee-3c6d19cf2655",
   "metadata": {},
   "outputs": [
    {
     "name": "stdout",
     "output_type": "stream",
     "text": [
      "True\n"
     ]
    }
   ],
   "source": [
    "# hasnas\n",
    "# if you have empty space then -> False\n",
    "# otherwise -> True\n",
    "print(data.hasnans)"
   ]
  },
  {
   "cell_type": "code",
   "execution_count": 115,
   "id": "92e2bb76-627e-4007-aee4-3b46ea570166",
   "metadata": {},
   "outputs": [
    {
     "name": "stdout",
     "output_type": "stream",
     "text": [
      "0      1.0\n",
      "1      2.0\n",
      "2      3.0\n",
      "3      4.0\n",
      "4      5.0\n",
      "5      6.0\n",
      "6      7.0\n",
      "7      8.0\n",
      "8      9.0\n",
      "9      0.0\n",
      "10     1.0\n",
      "11     2.0\n",
      "13     3.0\n",
      "14     5.0\n",
      "15     6.0\n",
      "16     7.0\n",
      "17     8.0\n",
      "18    90.0\n",
      "dtype: float64\n"
     ]
    }
   ],
   "source": [
    "# remove the NaN values from the data / list \n",
    "print(data.dropna())"
   ]
  },
  {
   "cell_type": "code",
   "execution_count": 121,
   "id": "12dc8f76-c0ec-477c-9169-6642217314be",
   "metadata": {},
   "outputs": [
    {
     "name": "stdout",
     "output_type": "stream",
     "text": [
      "0      1.0\n",
      "1      2.0\n",
      "2      3.0\n",
      "3      4.0\n",
      "4      5.0\n",
      "5      6.0\n",
      "6      7.0\n",
      "7      8.0\n",
      "8      9.0\n",
      "9      0.0\n",
      "10     1.0\n",
      "11     2.0\n",
      "12    33.0\n",
      "13     3.0\n",
      "14     5.0\n",
      "15     6.0\n",
      "16     7.0\n",
      "17     8.0\n",
      "18    90.0\n",
      "19    33.0\n",
      "dtype: float64\n"
     ]
    }
   ],
   "source": [
    "# now want to put some data on the blank values use fillna()\n",
    "# i passed 33 for NaN value \n",
    "print(data.fillna(33))"
   ]
  },
  {
   "cell_type": "code",
   "execution_count": 125,
   "id": "8fee1fa1-830b-41bb-80ae-4e7e1e447726",
   "metadata": {},
   "outputs": [
    {
     "name": "stdout",
     "output_type": "stream",
     "text": [
      "0         1.0\n",
      "1         2.0\n",
      "2         3.0\n",
      "3         4.0\n",
      "4         5.0\n",
      "5         6.0\n",
      "6         7.0\n",
      "7         8.0\n",
      "8     10000.0\n",
      "9         0.0\n",
      "10        1.0\n",
      "11        2.0\n",
      "12        NaN\n",
      "13        3.0\n",
      "14        5.0\n",
      "15        6.0\n",
      "16        7.0\n",
      "17        8.0\n",
      "18       90.0\n",
      "19        NaN\n",
      "dtype: float64\n"
     ]
    }
   ],
   "source": [
    "# already you have created one column in place of particular we can replace with any value \n",
    "# replace() -> method oldVlaue - NewValue \n",
    "print(data.replace(9,10000))"
   ]
  },
  {
   "cell_type": "code",
   "execution_count": 135,
   "id": "2f3d588c-de43-40c7-9c9b-8af286c6af60",
   "metadata": {},
   "outputs": [
    {
     "name": "stdout",
     "output_type": "stream",
     "text": [
      "9      0.0\n",
      "0      1.0\n",
      "10     1.0\n",
      "1      2.0\n",
      "11     2.0\n",
      "2      3.0\n",
      "13     3.0\n",
      "3      4.0\n",
      "4      5.0\n",
      "14     5.0\n",
      "5      6.0\n",
      "15     6.0\n",
      "6      7.0\n",
      "16     7.0\n",
      "7      8.0\n",
      "17     8.0\n",
      "8      9.0\n",
      "18    90.0\n",
      "12     NaN\n",
      "19     NaN\n",
      "dtype: float64\n",
      "====================\n",
      "0      1.0\n",
      "1      2.0\n",
      "2      3.0\n",
      "3      4.0\n",
      "4      5.0\n",
      "5      6.0\n",
      "6      7.0\n",
      "7      8.0\n",
      "8      9.0\n",
      "9      0.0\n",
      "10     1.0\n",
      "11     2.0\n",
      "12     NaN\n",
      "13     3.0\n",
      "14     5.0\n",
      "15     6.0\n",
      "16     7.0\n",
      "17     8.0\n",
      "18    90.0\n",
      "19     NaN\n",
      "dtype: float64\n"
     ]
    }
   ],
   "source": [
    "# sort_values()\n",
    "# sort_index()\n",
    "print(data.sort_values())\n",
    "print(\"====================\")\n",
    "print(data.sort_index())"
   ]
  },
  {
   "cell_type": "code",
   "execution_count": 149,
   "id": "a128c0a0-bf11-4ec4-90dc-c233694a20d8",
   "metadata": {},
   "outputs": [
    {
     "name": "stdout",
     "output_type": "stream",
     "text": [
      "0     False\n",
      "1     False\n",
      "2     False\n",
      "3     False\n",
      "4     False\n",
      "5     False\n",
      "6     False\n",
      "7     False\n",
      "8     False\n",
      "9     False\n",
      "10     True\n",
      "11     True\n",
      "12    False\n",
      "13     True\n",
      "14     True\n",
      "15     True\n",
      "16     True\n",
      "17     True\n",
      "18    False\n",
      "19     True\n",
      "dtype: bool\n"
     ]
    }
   ],
   "source": [
    "print(data.duplicated()) # duplicat will show True | else False for non-duplicate | returns bool value "
   ]
  },
  {
   "cell_type": "code",
   "execution_count": 157,
   "id": "7cf14829-7bfc-4184-9ba0-028229fa50e1",
   "metadata": {},
   "outputs": [
    {
     "name": "stdout",
     "output_type": "stream",
     "text": [
      "0      1.0\n",
      "1      2.0\n",
      "2      3.0\n",
      "3      4.0\n",
      "4      5.0\n",
      "5      6.0\n",
      "6      7.0\n",
      "7      8.0\n",
      "8      9.0\n",
      "9      0.0\n",
      "12     NaN\n",
      "18    90.0\n",
      "dtype: float64\n"
     ]
    }
   ],
   "source": [
    "# want to remove duplicate value \n",
    "print(data.drop_duplicates())"
   ]
  },
  {
   "cell_type": "code",
   "execution_count": 179,
   "id": "499003df-dfad-44a6-b91d-197b56c940f5",
   "metadata": {},
   "outputs": [
    {
     "name": "stdout",
     "output_type": "stream",
     "text": [
      "2.0\n",
      "-----------\n",
      "0    1.0\n",
      "1    2.0\n",
      "2    3.0\n",
      "3    4.0\n",
      "dtype: float64\n",
      "-------------\n",
      "2    3.0\n",
      "3    4.0\n",
      "dtype: float64\n"
     ]
    }
   ],
   "source": [
    "print(data[1]) # indexing\n",
    "print(\"-----------\")\n",
    "print(data[:4:1]) #slicing\n",
    "print(\"-------------\")\n",
    "# thorugh indexing printing multiple data\n",
    "print(data[[2,3]]) # use nested list"
   ]
  },
  {
   "cell_type": "code",
   "execution_count": 209,
   "id": "576d0b1c-face-4dff-96d7-954652adc7fa",
   "metadata": {},
   "outputs": [],
   "source": [
    "# drop() | del | pop()\n",
    "# print(data.drop([1,3,4,5]))\n",
    "# print(data.pop(5))\n",
    "# del data \n",
    "# del data[6] "
   ]
  },
  {
   "cell_type": "code",
   "execution_count": 213,
   "id": "22d046eb-686b-4363-a57c-dbb01a941838",
   "metadata": {},
   "outputs": [],
   "source": [
    "z = [1,2,3,4,5,5,6,7]\n",
    "data = pd.Series(z)\n"
   ]
  },
  {
   "cell_type": "code",
   "execution_count": 225,
   "id": "d70211b0-8df3-48fa-bf26-8ff0459522d9",
   "metadata": {},
   "outputs": [],
   "source": [
    "data[0] = 0\n",
    "data[2] = 0\n",
    "data[4] = 0"
   ]
  },
  {
   "cell_type": "code",
   "execution_count": 227,
   "id": "da762945-2c78-4ded-b37f-e92ec441397b",
   "metadata": {},
   "outputs": [
    {
     "data": {
      "text/plain": [
       "0    0\n",
       "1    2\n",
       "2    0\n",
       "3    4\n",
       "4    0\n",
       "5    5\n",
       "6    6\n",
       "7    7\n",
       "dtype: object"
      ]
     },
     "execution_count": 227,
     "metadata": {},
     "output_type": "execute_result"
    }
   ],
   "source": [
    "data"
   ]
  },
  {
   "cell_type": "code",
   "execution_count": 229,
   "id": "b3593267-48fa-4efa-aae7-5b2ef9bd6c33",
   "metadata": {},
   "outputs": [],
   "source": [
    "# data = pd.concat([d,y], ignore_index = True) # we can add mulitple rows (Yes)"
   ]
  }
 ],
 "metadata": {
  "kernelspec": {
   "display_name": "Python 3 (ipykernel)",
   "language": "python",
   "name": "python3"
  },
  "language_info": {
   "codemirror_mode": {
    "name": "ipython",
    "version": 3
   },
   "file_extension": ".py",
   "mimetype": "text/x-python",
   "name": "python",
   "nbconvert_exporter": "python",
   "pygments_lexer": "ipython3",
   "version": "3.12.4"
  }
 },
 "nbformat": 4,
 "nbformat_minor": 5
}
