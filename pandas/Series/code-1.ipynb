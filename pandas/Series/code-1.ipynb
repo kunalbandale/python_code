{
 "cells": [
  {
   "cell_type": "markdown",
   "id": "809d3b42-79c2-4e8d-8f9b-7a699c450748",
   "metadata": {},
   "source": [
    "### Pandas\n",
    "- Series()\n",
    "- DataFrame()"
   ]
  },
  {
   "cell_type": "code",
   "execution_count": null,
   "id": "7c3a1ea1-613b-4440-ac73-3fc87a920ac9",
   "metadata": {},
   "outputs": [],
   "source": [
    "!pip install pandas"
   ]
  },
  {
   "cell_type": "code",
   "execution_count": 13,
   "id": "402010f9-896c-41fc-b8df-7f05bbbc8be5",
   "metadata": {},
   "outputs": [
    {
     "name": "stdout",
     "output_type": "stream",
     "text": [
      "2.2.2\n"
     ]
    }
   ],
   "source": [
    "# chech version of pandas\n",
    "import pandas\n",
    "print(pandas.__version__)"
   ]
  },
  {
   "cell_type": "code",
   "execution_count": 15,
   "id": "57a0ee03-bbf9-4a03-972d-e8350e630ad1",
   "metadata": {},
   "outputs": [
    {
     "name": "stdout",
     "output_type": "stream",
     "text": [
      "2.2.2\n"
     ]
    }
   ],
   "source": [
    "# chech version of pandas\n",
    "import pandas as pd\n",
    "print(pd.__version__)"
   ]
  },
  {
   "cell_type": "markdown",
   "id": "bc94776b-4529-456a-9577-d1946a8eb6e3",
   "metadata": {},
   "source": [
    "### Series()\n",
    "<pre>\n",
    "- Series()\n",
    "Works on one dimensional data\n",
    "</pre>\n",
    "<pre>\n",
    "- Syntax:-\n",
    "newVar = pandas.Series(iter)\n",
    "</pre>\n",
    "  "
   ]
  },
  {
   "cell_type": "code",
   "execution_count": 68,
   "id": "00339ae1-0068-4620-826c-d63eeb625c21",
   "metadata": {},
   "outputs": [
    {
     "name": "stdout",
     "output_type": "stream",
     "text": [
      "0      10\n",
      "1      20\n",
      "2      30\n",
      "3      40\n",
      "4      50\n",
      "5      60\n",
      "6      70\n",
      "7      80\n",
      "8      90\n",
      "9     100\n",
      "10    110\n",
      "11    120\n",
      "12    130\n",
      "13    140\n",
      "14    150\n",
      "15    160\n",
      "16    170\n",
      "dtype: int64\n",
      "0      10\n",
      "1      20\n",
      "2      30\n",
      "3      40\n",
      "4      50\n",
      "5      60\n",
      "6      70\n",
      "7      80\n",
      "8      90\n",
      "9     100\n",
      "10    110\n",
      "11    120\n",
      "12    130\n",
      "13    140\n",
      "14    150\n",
      "15    160\n",
      "16    170\n",
      "Name: Number, dtype: int64\n"
     ]
    }
   ],
   "source": [
    "x = [10,20,30,40,50,60,70,80,90,100,110,120,130,140,150,160,170]\n",
    "y = pd.Series(x)\n",
    "print(y)\n",
    "\n",
    "# how to delete index number bydeafult its present \n",
    "# i want to take different number \n",
    "# y = pd.Series(x,index = ['a' , 'b' , ........]) # numbers should match with chars \n"
   ]
  },
  {
   "cell_type": "code",
   "execution_count": 70,
   "id": "78e3397d-1575-4b90-8d2e-9ccd09eff9ff",
   "metadata": {},
   "outputs": [
    {
     "name": "stdout",
     "output_type": "stream",
     "text": [
      "0      10\n",
      "1      20\n",
      "2      30\n",
      "3      40\n",
      "4      50\n",
      "5      60\n",
      "6      70\n",
      "7      80\n",
      "8      90\n",
      "9     100\n",
      "10    110\n",
      "11    120\n",
      "12    130\n",
      "13    140\n",
      "14    150\n",
      "15    160\n",
      "16    170\n",
      "Name: Number, dtype: int64\n"
     ]
    }
   ],
   "source": [
    "# give name to column\n",
    "y=pd.Series(x,name = \"Number\")\n",
    "print(y)"
   ]
  },
  {
   "cell_type": "code",
   "execution_count": 142,
   "id": "937b9413-7c4f-45e1-9eaf-897b123b57c3",
   "metadata": {},
   "outputs": [
    {
     "name": "stdout",
     "output_type": "stream",
     "text": [
      "17\n",
      "--------------------------------------\n",
      "(17,)\n",
      "--------------------------------------\n",
      "RangeIndex(start=0, stop=17, step=1)\n",
      "--------------------------------------\n",
      "1\n",
      "--------------------------------------\n",
      "[ 10  20  30  40  50  60  70  80  90 100 110 120 130 140 150 160 170]\n",
      "--------------------------------------\n",
      "17\n",
      "--------------------------------------\n",
      "Number\n",
      "10     1\n",
      "100    1\n",
      "160    1\n",
      "150    1\n",
      "140    1\n",
      "130    1\n",
      "120    1\n",
      "110    1\n",
      "90     1\n",
      "20     1\n",
      "80     1\n",
      "70     1\n",
      "60     1\n",
      "50     1\n",
      "40     1\n",
      "30     1\n",
      "170    1\n",
      "Name: count, dtype: int64\n",
      "--------------------------------------\n",
      "[ 10  20  30  40  50  60  70  80  90 100 110 120 130 140 150 160 170]\n",
      "--------------------------------------\n",
      "17\n",
      "--------------------------------------\n",
      "<bound method Series.isnull of 0      10\n",
      "1      20\n",
      "2      30\n",
      "3      40\n",
      "4      50\n",
      "5      60\n",
      "6      70\n",
      "7      80\n",
      "8      90\n",
      "9     100\n",
      "10    110\n",
      "11    120\n",
      "12    130\n",
      "13    140\n",
      "14    150\n",
      "15    160\n",
      "16    170\n",
      "Name: Number, dtype: int64>\n",
      "--------------------------------------\n",
      "<bound method Series.notnull of 0      10\n",
      "1      20\n",
      "2      30\n",
      "3      40\n",
      "4      50\n",
      "5      60\n",
      "6      70\n",
      "7      80\n",
      "8      90\n",
      "9     100\n",
      "10    110\n",
      "11    120\n",
      "12    130\n",
      "13    140\n",
      "14    150\n",
      "15    160\n",
      "16    170\n",
      "Name: Number, dtype: int64>\n",
      "int64\n",
      "[RangeIndex(start=0, stop=17, step=1)]\n",
      "False\n",
      "16    170\n",
      "15    160\n",
      "14    150\n",
      "13    140\n",
      "12    130\n",
      "Name: Number, dtype: int64\n",
      "0    10\n",
      "1    20\n",
      "2    30\n",
      "3    40\n",
      "4    50\n",
      "Name: Number, dtype: int64\n"
     ]
    }
   ],
   "source": [
    "# some more \n",
    "# know the size\n",
    "print(y.size)\n",
    "# 17\n",
    "\n",
    "print(\"--------------------------------------\")\n",
    "\n",
    "# know the shape\n",
    "print(y.shape) # we get output in the form of tuples total 17 rows here\n",
    "# only number of rows not columns in Series()\n",
    "# (17,)\n",
    "\n",
    "print(\"--------------------------------------\")\n",
    "\n",
    "# know the index\n",
    "print(y.index)\n",
    "# RangeIndex(start=0, stop=17, step=1)\n",
    "\n",
    "print(\"--------------------------------------\")\n",
    "\n",
    "# know the dimension\n",
    "print(y.ndim) # 1\n",
    "\n",
    "print(\"--------------------------------------\")\n",
    "\n",
    "# know the only values\n",
    "print(y.values)\n",
    "\n",
    "print(\"--------------------------------------\")\n",
    "\n",
    "# using method count()\n",
    "print(y.count())\n",
    "\n",
    "print(\"--------------------------------------\")\n",
    "\n",
    "# how many times praciular element present count will be return\n",
    "print(y.value_counts())\n",
    "\n",
    "\n",
    "print(\"--------------------------------------\")\n",
    "\n",
    "# unqiue()\n",
    "print(y.unique())\n",
    "\n",
    "print(\"--------------------------------------\")\n",
    "#\n",
    "print(y.nunique())\n",
    "\n",
    "print(\"--------------------------------------\")\n",
    "#\n",
    "print(y.isnull)\n",
    "\n",
    "print(\"--------------------------------------\")\n",
    "# \n",
    "print(y.notnull)\n",
    "print(y.dtype)\n",
    "print(y.axes)\n",
    "print(y.empty)\n",
    "print(y.nlargest())\n",
    "print(y.nsmallest())"
   ]
  },
  {
   "cell_type": "code",
   "execution_count": 136,
   "id": "5bdb5f89-d29a-4003-b50c-582aed82a65f",
   "metadata": {},
   "outputs": [
    {
     "name": "stdout",
     "output_type": "stream",
     "text": [
      "a    1\n",
      "b    2\n",
      "c    3\n",
      "d    4\n",
      "dtype: int64\n",
      "[Index(['a', 'b', 'c', 'd'], dtype='object')]\n",
      "False\n"
     ]
    }
   ],
   "source": [
    "z = [1,2,3,4]\n",
    "\n",
    "q = pd.Series(z,index=(\"a\" , \"b\" , \"c\" , \"d\"))\n",
    "print(q)\n",
    "print(q.axes)\n",
    "print(q.empty) # col is empty output will be True otherwise False "
   ]
  },
  {
   "cell_type": "code",
   "execution_count": null,
   "id": "adf3d482-8ae8-49b3-8144-aa0769760ec6",
   "metadata": {},
   "outputs": [],
   "source": []
  }
 ],
 "metadata": {
  "kernelspec": {
   "display_name": "Python 3 (ipykernel)",
   "language": "python",
   "name": "python3"
  },
  "language_info": {
   "codemirror_mode": {
    "name": "ipython",
    "version": 3
   },
   "file_extension": ".py",
   "mimetype": "text/x-python",
   "name": "python",
   "nbconvert_exporter": "python",
   "pygments_lexer": "ipython3",
   "version": "3.12.4"
  }
 },
 "nbformat": 4,
 "nbformat_minor": 5
}
