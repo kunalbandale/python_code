{
 "cells": [
  {
   "cell_type": "markdown",
   "id": "4b4d117d-f43b-4b2b-93b0-d1fbb0535aa6",
   "metadata": {},
   "source": [
    "#### Pandas (DataFrame) - I\n",
    "<pre>\n",
    "- if you want to create multiple columns we go for dataframes\n",
    "- DataFrame is inbuilt class\n",
    "</pre>\n",
    "\n",
    "<pre>\n",
    "    syntax:-\n",
    "    import pandas as pd\n",
    "    newVar = pd.DataFrame(dict) # mantotory to pass dict.. \n",
    "    print(newVar)\n",
    "</pre>"
   ]
  },
  {
   "cell_type": "raw",
   "id": "f8b308ed-a05f-4a6a-8dff-9860a267348f",
   "metadata": {},
   "source": [
    "Topics Covered :\n",
    "---------------------\n",
    "- shape \n",
    "- size\n",
    "- index\n",
    "- columns\n",
    "- dtypes\n",
    "- values\n",
    "- fetching single col | multiple col \n",
    "- head()\n",
    "- tail()\n",
    "- sample()\n",
    "- info()\n",
    "- describe() \n",
    "- describe() with include \n",
    "- iterrows()"
   ]
  },
  {
   "cell_type": "code",
   "execution_count": 15,
   "id": "1ea54f9e-2509-4002-a573-72d4d2430d22",
   "metadata": {},
   "outputs": [
    {
     "name": "stdout",
     "output_type": "stream",
     "text": [
      "  STUDENT  SUBJECT  TOTAL_MARKS\n",
      "0   Rahul   Python           33\n",
      "1   Rohit    Excel           75\n",
      "2    Sony  PowerBI           24\n",
      "3     Ram      SQL           90\n"
     ]
    }
   ],
   "source": [
    "# import library \n",
    "import pandas as pd\n",
    "\n",
    "# generating data\n",
    "student_name = [\"Rahul\" , \"Rohit\" , \"Sony\" , \"Ram\"]\n",
    "total_marks = [33,75,24,90]\n",
    "subject_name = [\"Python\" , \"Excel\" , \"PowerBI\" , \"SQL\"]\n",
    "\n",
    "# all three variable want to store in one variable \n",
    "# {'student_name' : value} \n",
    "# in key pos with quotes | value can be without quotes\n",
    "\n",
    "details = {\"STUDENT\": student_name , \"SUBJECT\" : subject_name , \"TOTAL_MARKS\" : total_marks}\n",
    "\n",
    "sdata = pd.DataFrame(details)\n",
    "\n",
    "print(sdata)"
   ]
  },
  {
   "cell_type": "code",
   "execution_count": 23,
   "id": "3787784c-d16b-4f02-9313-ada6234a0b12",
   "metadata": {},
   "outputs": [
    {
     "name": "stdout",
     "output_type": "stream",
     "text": [
      "      SN      SUB\n",
      "0  Rahul   Python\n",
      "1  Rohit    Excel\n",
      "2   Sony  PowerBI\n",
      "3    Ram      SQL\n"
     ]
    }
   ],
   "source": [
    "# OR\n",
    "new_data = pd.DataFrame({\"SN\" : [\"Rahul\" , \"Rohit\" , \"Sony\" , \"Ram\"] , \"SUB\" : [\"Python\" , \"Excel\" , \"PowerBI\" , \"SQL\"]})\n",
    "print(new_data)"
   ]
  },
  {
   "cell_type": "code",
   "execution_count": 27,
   "id": "135d3441-7fe4-463e-b99a-304088014fd3",
   "metadata": {},
   "outputs": [
    {
     "name": "stdout",
     "output_type": "stream",
     "text": [
      "  emp_name   salary location\n",
      "0    rahul  1000000     Pune\n",
      "1    rohit   200000   Mumbai\n",
      "2    rohan   460403    Thane\n",
      "3    varad   566030   Nagpur\n"
     ]
    }
   ],
   "source": [
    "# practice table\n",
    "company = pd.DataFrame({\"emp_name\" : [\"rahul\" , \"rohit\" , \"rohan\" , \"varad\"] , \"salary\" : [1000000,200000,460403,566030] , \"location\": [\"Pune\" , \"Mumbai\" , \"Thane\" , \"Nagpur\"]})\n",
    "print(company)"
   ]
  },
  {
   "cell_type": "code",
   "execution_count": 32,
   "id": "81a4aac0-5119-4c9a-a1d4-711c2ca47e81",
   "metadata": {},
   "outputs": [
    {
     "name": "stdout",
     "output_type": "stream",
     "text": [
      "(4, 3)\n"
     ]
    }
   ],
   "source": [
    "# shape -> DataFrame (row , col)\n",
    "print(sdata.shape) # output (4, 3) "
   ]
  },
  {
   "cell_type": "code",
   "execution_count": 34,
   "id": "742e3e86-18d7-4da1-9dae-801616e4a9ed",
   "metadata": {},
   "outputs": [
    {
     "name": "stdout",
     "output_type": "stream",
     "text": [
      "12\n"
     ]
    }
   ],
   "source": [
    "# total elements count will return \n",
    "print(sdata.size) # output 12"
   ]
  },
  {
   "cell_type": "code",
   "execution_count": 36,
   "id": "e78f81a0-cd30-4e21-aec9-88f7f5c3f72f",
   "metadata": {},
   "outputs": [
    {
     "name": "stdout",
     "output_type": "stream",
     "text": [
      "RangeIndex(start=0, stop=4, step=1)\n"
     ]
    }
   ],
   "source": [
    "# index\n",
    "print(sdata.index) # output : RangeIndex(start=0, stop=4, step=1)"
   ]
  },
  {
   "cell_type": "code",
   "execution_count": 38,
   "id": "2775a8c7-872b-4ce1-944d-6ef19fad4c7b",
   "metadata": {},
   "outputs": [
    {
     "name": "stdout",
     "output_type": "stream",
     "text": [
      "Index(['STUDENT', 'SUBJECT', 'TOTAL_MARKS'], dtype='object')\n"
     ]
    }
   ],
   "source": [
    "# print the columns \n",
    "print(sdata.columns) # output : Index(['STUDENT', 'SUBJECT', 'TOTAL_MARKS'], dtype='object')"
   ]
  },
  {
   "cell_type": "code",
   "execution_count": 44,
   "id": "9120f546-fb56-4d26-9421-80e36bd9d5b8",
   "metadata": {},
   "outputs": [
    {
     "name": "stdout",
     "output_type": "stream",
     "text": [
      "STUDENT        object\n",
      "SUBJECT        object\n",
      "TOTAL_MARKS     int64\n",
      "dtype: object\n"
     ]
    }
   ],
   "source": [
    "# return the type of data for columns \n",
    "print(sdata.dtypes)\n"
   ]
  },
  {
   "cell_type": "code",
   "execution_count": 46,
   "id": "958a77c4-2e02-44f5-92a2-dd5ce938f97b",
   "metadata": {},
   "outputs": [
    {
     "name": "stdout",
     "output_type": "stream",
     "text": [
      "[['Rahul' 'Python' 33]\n",
      " ['Rohit' 'Excel' 75]\n",
      " ['Sony' 'PowerBI' 24]\n",
      " ['Ram' 'SQL' 90]]\n"
     ]
    }
   ],
   "source": [
    "# return the values in the list format (nested format) \n",
    "print(sdata.values)"
   ]
  },
  {
   "cell_type": "code",
   "execution_count": 61,
   "id": "5e76c298-bb2c-48c0-8a78-83f7599aea48",
   "metadata": {},
   "outputs": [
    {
     "name": "stdout",
     "output_type": "stream",
     "text": [
      "0    Rahul\n",
      "1    Rohit\n",
      "2     Sony\n",
      "3      Ram\n",
      "Name: STUDENT, dtype: object\n"
     ]
    }
   ],
   "source": [
    "# i want to print a particular column \n",
    "print(sdata[\"STUDENT\"])"
   ]
  },
  {
   "cell_type": "code",
   "execution_count": 69,
   "id": "e841dfb9-5107-46c2-8d1f-14126a19fa86",
   "metadata": {},
   "outputs": [
    {
     "name": "stdout",
     "output_type": "stream",
     "text": [
      "  STUDENT  TOTAL_MARKS\n",
      "0   Rahul           33\n",
      "1   Rohit           75\n",
      "2    Sony           24\n",
      "3     Ram           90\n"
     ]
    }
   ],
   "source": [
    "# if you want to fetch multiple col i.e student and total_marks\n",
    "print(sdata[[\"STUDENT\",\"TOTAL_MARKS\"]])"
   ]
  },
  {
   "cell_type": "code",
   "execution_count": 71,
   "id": "72e60c14-5d66-4152-9dbc-8b8ceebc8ef9",
   "metadata": {},
   "outputs": [
    {
     "name": "stdout",
     "output_type": "stream",
     "text": [
      "  STUDENT  SUBJECT  TOTAL_MARKS\n",
      "0   Rahul   Python           33\n",
      "1   Rohit    Excel           75\n",
      "2    Sony  PowerBI           24\n",
      "3     Ram      SQL           90\n"
     ]
    }
   ],
   "source": [
    "# head() -> top to bottom\n",
    "# tail() -> bottom to top\n",
    "# sample() -> random\n",
    "print(sdata.head())"
   ]
  },
  {
   "cell_type": "code",
   "execution_count": 73,
   "id": "f7750c64-79ff-4334-9459-010403660209",
   "metadata": {},
   "outputs": [
    {
     "name": "stdout",
     "output_type": "stream",
     "text": [
      "  STUDENT  SUBJECT  TOTAL_MARKS\n",
      "0   Rahul   Python           33\n",
      "1   Rohit    Excel           75\n",
      "2    Sony  PowerBI           24\n",
      "3     Ram      SQL           90\n"
     ]
    }
   ],
   "source": [
    "# tail()\n",
    "print(sdata.tail())"
   ]
  },
  {
   "cell_type": "code",
   "execution_count": 80,
   "id": "cfa58442-1654-4308-a727-9154ec5523cd",
   "metadata": {},
   "outputs": [
    {
     "name": "stdout",
     "output_type": "stream",
     "text": [
      "  STUDENT  SUBJECT  TOTAL_MARKS\n",
      "2    Sony  PowerBI           24\n"
     ]
    }
   ],
   "source": [
    "# sample()\n",
    "print(sdata.sample())"
   ]
  },
  {
   "cell_type": "code",
   "execution_count": 100,
   "id": "3a92ae84-f19a-4655-b5ae-dbbe12d2cc53",
   "metadata": {},
   "outputs": [
    {
     "name": "stdout",
     "output_type": "stream",
     "text": [
      "       TOTAL_MARKS\n",
      "count     4.000000\n",
      "mean     55.500000\n",
      "std      31.984371\n",
      "min      24.000000\n",
      "25%      30.750000\n",
      "50%      54.000000\n",
      "75%      78.750000\n",
      "max      90.000000\n",
      "-----------------------------\n",
      "-----------------------------\n",
      "       STUDENT SUBJECT\n",
      "count        4       4\n",
      "unique       4       4\n",
      "top      Rahul  Python\n",
      "freq         1       1\n",
      "-----------------------------\n",
      "-----------------------------\n",
      "       STUDENT SUBJECT  TOTAL_MARKS\n",
      "count        4       4     4.000000\n",
      "unique       4       4          NaN\n",
      "top      Rahul  Python          NaN\n",
      "freq         1       1          NaN\n",
      "mean       NaN     NaN    55.500000\n",
      "std        NaN     NaN    31.984371\n",
      "min        NaN     NaN    24.000000\n",
      "25%        NaN     NaN    30.750000\n",
      "50%        NaN     NaN    54.000000\n",
      "75%        NaN     NaN    78.750000\n",
      "max        NaN     NaN    90.000000\n"
     ]
    }
   ],
   "source": [
    "# describe() -> alwayhs pointing to number column\n",
    "print(sdata.describe())\n",
    "print(\"-----------------------------\")\n",
    "print(\"-----------------------------\")\n",
    "print(sdata.describe(include=\"object\"))\n",
    "print(\"-----------------------------\")\n",
    "print(\"-----------------------------\")\n",
    "print(sdata.describe(include=\"all\"))"
   ]
  },
  {
   "cell_type": "code",
   "execution_count": 90,
   "id": "da6c32af-f369-4c76-ac59-ece5aedd502c",
   "metadata": {},
   "outputs": [
    {
     "name": "stdout",
     "output_type": "stream",
     "text": [
      "<class 'pandas.core.frame.DataFrame'>\n",
      "RangeIndex: 4 entries, 0 to 3\n",
      "Data columns (total 3 columns):\n",
      " #   Column       Non-Null Count  Dtype \n",
      "---  ------       --------------  ----- \n",
      " 0   STUDENT      4 non-null      object\n",
      " 1   SUBJECT      4 non-null      object\n",
      " 2   TOTAL_MARKS  4 non-null      int64 \n",
      "dtypes: int64(1), object(2)\n",
      "memory usage: 228.0+ bytes\n",
      "None\n"
     ]
    }
   ],
   "source": [
    "# info()\n",
    "print(sdata.info())"
   ]
  },
  {
   "cell_type": "code",
   "execution_count": 110,
   "id": "5ad75b59-9d05-4bf4-bb2a-f742e040852d",
   "metadata": {},
   "outputs": [
    {
     "name": "stdout",
     "output_type": "stream",
     "text": [
      "[(0, STUDENT         Rahul\n",
      "SUBJECT        Python\n",
      "TOTAL_MARKS        33\n",
      "Name: 0, dtype: object), (1, STUDENT        Rohit\n",
      "SUBJECT        Excel\n",
      "TOTAL_MARKS       75\n",
      "Name: 1, dtype: object), (2, STUDENT           Sony\n",
      "SUBJECT        PowerBI\n",
      "TOTAL_MARKS         24\n",
      "Name: 2, dtype: object), (3, STUDENT        Ram\n",
      "SUBJECT        SQL\n",
      "TOTAL_MARKS     90\n",
      "Name: 3, dtype: object)]\n",
      "===========================\n",
      "===========================\n",
      "(0, STUDENT         Rahul\n",
      "SUBJECT        Python\n",
      "TOTAL_MARKS        33\n",
      "Name: 0, dtype: object)\n",
      "(1, STUDENT        Rohit\n",
      "SUBJECT        Excel\n",
      "TOTAL_MARKS       75\n",
      "Name: 1, dtype: object)\n",
      "(2, STUDENT           Sony\n",
      "SUBJECT        PowerBI\n",
      "TOTAL_MARKS         24\n",
      "Name: 2, dtype: object)\n",
      "(3, STUDENT        Ram\n",
      "SUBJECT        SQL\n",
      "TOTAL_MARKS     90\n",
      "Name: 3, dtype: object)\n"
     ]
    }
   ],
   "source": [
    "# iterrows()\n",
    "# each person data speartely \n",
    "# direclty use we will get object address\n",
    "# we can use typecasting or looping \n",
    "print(list(sdata.iterrows()))\n",
    "\n",
    "print(\"===========================\")\n",
    "print(\"===========================\")\n",
    "\n",
    "for i in sdata.iterrows():\n",
    "    print(i)"
   ]
  },
  {
   "cell_type": "code",
   "execution_count": null,
   "id": "bb4b9b2c-f573-46e6-a0d6-8241a4e9da6e",
   "metadata": {},
   "outputs": [],
   "source": []
  }
 ],
 "metadata": {
  "kernelspec": {
   "display_name": "Python 3 (ipykernel)",
   "language": "python",
   "name": "python3"
  },
  "language_info": {
   "codemirror_mode": {
    "name": "ipython",
    "version": 3
   },
   "file_extension": ".py",
   "mimetype": "text/x-python",
   "name": "python",
   "nbconvert_exporter": "python",
   "pygments_lexer": "ipython3",
   "version": "3.12.4"
  }
 },
 "nbformat": 4,
 "nbformat_minor": 5
}
