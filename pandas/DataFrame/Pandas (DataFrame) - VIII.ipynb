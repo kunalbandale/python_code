{
 "cells": [
  {
   "cell_type": "raw",
   "id": "497f098a-591e-473b-b338-696c2be7954f",
   "metadata": {},
   "source": [
    "# Reshaping and Pivoting in Pandas\n",
    "Wide Vs Long Format\n",
    "\n",
    "wide format : each variable has its own cloumn\n",
    "long format : variables are stores in a single column with multiple rows\n",
    "\n",
    "pivot() -> converts long --> wide format\n",
    "Syntax:-\n",
    "DataFrame.pivot(index,col,values)"
   ]
  },
  {
   "cell_type": "code",
   "execution_count": 3,
   "id": "fd9c48e2-3fd7-4701-b0cb-3fefedf08fd4",
   "metadata": {},
   "outputs": [],
   "source": [
    "import pandas as pd\n",
    "\n",
    "data = pd.DataFrame({\"DATE\" : [\"03-03-2025\" , \"04-04-2025\" , \"05-05-2025\" ,\" 06-06-2025\"] ,\n",
    "                     \"Name\" : [\"kunal\" , \"varad\" , \"rohan\" , \"sanket\"] , \n",
    "                     \"Sal\" : [1000000,20000,30000,40000]})"
   ]
  },
  {
   "cell_type": "code",
   "execution_count": 5,
   "id": "7d7fbe60-2cae-4b45-bac4-2bc9c1bcc184",
   "metadata": {},
   "outputs": [
    {
     "name": "stdout",
     "output_type": "stream",
     "text": [
      "          DATE    Name      Sal\n",
      "0   03-03-2025   kunal  1000000\n",
      "1   04-04-2025   varad    20000\n",
      "2   05-05-2025   rohan    30000\n",
      "3   06-06-2025  sanket    40000\n"
     ]
    }
   ],
   "source": [
    "print(data)"
   ]
  },
  {
   "cell_type": "code",
   "execution_count": 15,
   "id": "dbdabba9-8fc8-40d7-b5c6-db6bd39a0837",
   "metadata": {},
   "outputs": [
    {
     "data": {
      "text/html": [
       "<div>\n",
       "<style scoped>\n",
       "    .dataframe tbody tr th:only-of-type {\n",
       "        vertical-align: middle;\n",
       "    }\n",
       "\n",
       "    .dataframe tbody tr th {\n",
       "        vertical-align: top;\n",
       "    }\n",
       "\n",
       "    .dataframe thead th {\n",
       "        text-align: right;\n",
       "    }\n",
       "</style>\n",
       "<table border=\"1\" class=\"dataframe\">\n",
       "  <thead>\n",
       "    <tr style=\"text-align: right;\">\n",
       "      <th>Sal</th>\n",
       "      <th>20000</th>\n",
       "      <th>30000</th>\n",
       "      <th>40000</th>\n",
       "      <th>1000000</th>\n",
       "    </tr>\n",
       "    <tr>\n",
       "      <th>DATE</th>\n",
       "      <th></th>\n",
       "      <th></th>\n",
       "      <th></th>\n",
       "      <th></th>\n",
       "    </tr>\n",
       "  </thead>\n",
       "  <tbody>\n",
       "    <tr>\n",
       "      <th>06-06-2025</th>\n",
       "      <td>NaN</td>\n",
       "      <td>NaN</td>\n",
       "      <td>sanket</td>\n",
       "      <td>NaN</td>\n",
       "    </tr>\n",
       "    <tr>\n",
       "      <th>03-03-2025</th>\n",
       "      <td>NaN</td>\n",
       "      <td>NaN</td>\n",
       "      <td>NaN</td>\n",
       "      <td>kunal</td>\n",
       "    </tr>\n",
       "    <tr>\n",
       "      <th>04-04-2025</th>\n",
       "      <td>varad</td>\n",
       "      <td>NaN</td>\n",
       "      <td>NaN</td>\n",
       "      <td>NaN</td>\n",
       "    </tr>\n",
       "    <tr>\n",
       "      <th>05-05-2025</th>\n",
       "      <td>NaN</td>\n",
       "      <td>rohan</td>\n",
       "      <td>NaN</td>\n",
       "      <td>NaN</td>\n",
       "    </tr>\n",
       "  </tbody>\n",
       "</table>\n",
       "</div>"
      ],
      "text/plain": [
       "Sal         20000   30000   40000   1000000\n",
       "DATE                                       \n",
       " 06-06-2025     NaN     NaN  sanket     NaN\n",
       "03-03-2025      NaN     NaN     NaN   kunal\n",
       "04-04-2025    varad     NaN     NaN     NaN\n",
       "05-05-2025      NaN   rohan     NaN     NaN"
      ]
     },
     "execution_count": 15,
     "metadata": {},
     "output_type": "execute_result"
    }
   ],
   "source": [
    "data.pivot(index = \"DATE\" , columns = \"Sal\" , values = \"Name\")"
   ]
  },
  {
   "cell_type": "code",
   "execution_count": 13,
   "id": "83cff4ca-3884-4912-a475-a59d1051d328",
   "metadata": {},
   "outputs": [
    {
     "name": "stdout",
     "output_type": "stream",
     "text": [
      "          DATE    Name      Sal\n",
      "0   03-03-2025   kunal  1000000\n",
      "1   04-04-2025   varad    20000\n",
      "2   05-05-2025   rohan    30000\n",
      "3   06-06-2025  sanket    40000\n"
     ]
    }
   ],
   "source": [
    "print(data)"
   ]
  },
  {
   "cell_type": "code",
   "execution_count": 19,
   "id": "a7ece359-9a22-414c-8ab7-1f926067857d",
   "metadata": {},
   "outputs": [
    {
     "data": {
      "text/html": [
       "<div>\n",
       "<style scoped>\n",
       "    .dataframe tbody tr th:only-of-type {\n",
       "        vertical-align: middle;\n",
       "    }\n",
       "\n",
       "    .dataframe tbody tr th {\n",
       "        vertical-align: top;\n",
       "    }\n",
       "\n",
       "    .dataframe thead th {\n",
       "        text-align: right;\n",
       "    }\n",
       "</style>\n",
       "<table border=\"1\" class=\"dataframe\">\n",
       "  <thead>\n",
       "    <tr style=\"text-align: right;\">\n",
       "      <th>Name</th>\n",
       "      <th>kunal</th>\n",
       "      <th>rohan</th>\n",
       "      <th>sanket</th>\n",
       "      <th>varad</th>\n",
       "    </tr>\n",
       "    <tr>\n",
       "      <th>DATE</th>\n",
       "      <th></th>\n",
       "      <th></th>\n",
       "      <th></th>\n",
       "      <th></th>\n",
       "    </tr>\n",
       "  </thead>\n",
       "  <tbody>\n",
       "    <tr>\n",
       "      <th>06-06-2025</th>\n",
       "      <td>NaN</td>\n",
       "      <td>NaN</td>\n",
       "      <td>40000.0</td>\n",
       "      <td>NaN</td>\n",
       "    </tr>\n",
       "    <tr>\n",
       "      <th>03-03-2025</th>\n",
       "      <td>1000000.0</td>\n",
       "      <td>NaN</td>\n",
       "      <td>NaN</td>\n",
       "      <td>NaN</td>\n",
       "    </tr>\n",
       "    <tr>\n",
       "      <th>04-04-2025</th>\n",
       "      <td>NaN</td>\n",
       "      <td>NaN</td>\n",
       "      <td>NaN</td>\n",
       "      <td>20000.0</td>\n",
       "    </tr>\n",
       "    <tr>\n",
       "      <th>05-05-2025</th>\n",
       "      <td>NaN</td>\n",
       "      <td>30000.0</td>\n",
       "      <td>NaN</td>\n",
       "      <td>NaN</td>\n",
       "    </tr>\n",
       "  </tbody>\n",
       "</table>\n",
       "</div>"
      ],
      "text/plain": [
       "Name             kunal    rohan   sanket    varad\n",
       "DATE                                             \n",
       " 06-06-2025        NaN      NaN  40000.0      NaN\n",
       "03-03-2025   1000000.0      NaN      NaN      NaN\n",
       "04-04-2025         NaN      NaN      NaN  20000.0\n",
       "05-05-2025         NaN  30000.0      NaN      NaN"
      ]
     },
     "execution_count": 19,
     "metadata": {},
     "output_type": "execute_result"
    }
   ],
   "source": [
    "data.pivot_table(index = \"DATE\" , columns = \"Name\" , values = \"Sal\" , aggfunc = \"mean\")"
   ]
  },
  {
   "cell_type": "code",
   "execution_count": 21,
   "id": "79b6a39c-568c-47b8-a1ff-89777505e214",
   "metadata": {},
   "outputs": [
    {
     "data": {
      "text/plain": [
       "0  DATE     03-03-2025\n",
       "   Name          kunal\n",
       "   Sal         1000000\n",
       "1  DATE     04-04-2025\n",
       "   Name          varad\n",
       "   Sal           20000\n",
       "2  DATE     05-05-2025\n",
       "   Name          rohan\n",
       "   Sal           30000\n",
       "3  DATE     06-06-2025\n",
       "   Name         sanket\n",
       "   Sal           40000\n",
       "dtype: object"
      ]
     },
     "execution_count": 21,
     "metadata": {},
     "output_type": "execute_result"
    }
   ],
   "source": [
    "# stack()\n",
    "data.stack() # convert column in row format"
   ]
  },
  {
   "cell_type": "code",
   "execution_count": 23,
   "id": "21c017e8-df70-4cc3-96a3-126664957e2a",
   "metadata": {},
   "outputs": [
    {
     "data": {
      "text/plain": [
       "DATE  0     03-03-2025\n",
       "      1     04-04-2025\n",
       "      2     05-05-2025\n",
       "      3     06-06-2025\n",
       "Name  0          kunal\n",
       "      1          varad\n",
       "      2          rohan\n",
       "      3         sanket\n",
       "Sal   0        1000000\n",
       "      1          20000\n",
       "      2          30000\n",
       "      3          40000\n",
       "dtype: object"
      ]
     },
     "execution_count": 23,
     "metadata": {},
     "output_type": "execute_result"
    }
   ],
   "source": [
    "# unstack()\n",
    "data.unstack() "
   ]
  },
  {
   "cell_type": "code",
   "execution_count": null,
   "id": "28c9f9ff-26fe-4ad7-adc8-dafd0f86ccb2",
   "metadata": {},
   "outputs": [],
   "source": []
  }
 ],
 "metadata": {
  "kernelspec": {
   "display_name": "Python 3 (ipykernel)",
   "language": "python",
   "name": "python3"
  },
  "language_info": {
   "codemirror_mode": {
    "name": "ipython",
    "version": 3
   },
   "file_extension": ".py",
   "mimetype": "text/x-python",
   "name": "python",
   "nbconvert_exporter": "python",
   "pygments_lexer": "ipython3",
   "version": "3.12.4"
  }
 },
 "nbformat": 4,
 "nbformat_minor": 5
}
