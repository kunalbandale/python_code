{
 "cells": [
  {
   "cell_type": "raw",
   "id": "e3084d3f-1426-48f1-9e07-1b829fde1c90",
   "metadata": {},
   "source": [
    "Topics Covered:-\n",
    "- groupby()"
   ]
  },
  {
   "cell_type": "code",
   "execution_count": 1,
   "id": "71d61a77-eb28-4d7f-8da8-18f4c8a9e7ef",
   "metadata": {},
   "outputs": [],
   "source": [
    "import pandas as pd\n"
   ]
  },
  {
   "cell_type": "code",
   "execution_count": 81,
   "id": "7f0b410b-cc6d-485a-87ad-3286e6707ef0",
   "metadata": {},
   "outputs": [],
   "source": [
    "data = pd.DataFrame({\"departmentName\" : [\"HR\" , \"SALES\" , \"CONTENT\" , \"MARKETING\" , \"IT\" , \"IT\"] ,\n",
    "                     \"Emp_Name\" : [\"kunal\" , \"rohan\" , \"sanket\" , \"varad\" , \"ram\" , \"shyam\"] , \n",
    "                     \"Salary\" : [100000,20000,30000,40000,4000,5000]})"
   ]
  },
  {
   "cell_type": "code",
   "execution_count": 32,
   "id": "fa8e8e3c-7ab2-4162-a1e9-71553d5e854f",
   "metadata": {},
   "outputs": [
    {
     "data": {
      "text/html": [
       "<div>\n",
       "<style scoped>\n",
       "    .dataframe tbody tr th:only-of-type {\n",
       "        vertical-align: middle;\n",
       "    }\n",
       "\n",
       "    .dataframe tbody tr th {\n",
       "        vertical-align: top;\n",
       "    }\n",
       "\n",
       "    .dataframe thead th {\n",
       "        text-align: right;\n",
       "    }\n",
       "</style>\n",
       "<table border=\"1\" class=\"dataframe\">\n",
       "  <thead>\n",
       "    <tr style=\"text-align: right;\">\n",
       "      <th></th>\n",
       "      <th>departmentName</th>\n",
       "      <th>Emp_Name</th>\n",
       "      <th>Salary</th>\n",
       "    </tr>\n",
       "  </thead>\n",
       "  <tbody>\n",
       "    <tr>\n",
       "      <th>0</th>\n",
       "      <td>HR</td>\n",
       "      <td>kunal</td>\n",
       "      <td>100000</td>\n",
       "    </tr>\n",
       "    <tr>\n",
       "      <th>1</th>\n",
       "      <td>SALES</td>\n",
       "      <td>rohan</td>\n",
       "      <td>20000</td>\n",
       "    </tr>\n",
       "    <tr>\n",
       "      <th>2</th>\n",
       "      <td>CONTENT</td>\n",
       "      <td>sanket</td>\n",
       "      <td>30000</td>\n",
       "    </tr>\n",
       "    <tr>\n",
       "      <th>3</th>\n",
       "      <td>MARKETING</td>\n",
       "      <td>varad</td>\n",
       "      <td>40000</td>\n",
       "    </tr>\n",
       "    <tr>\n",
       "      <th>4</th>\n",
       "      <td>IT</td>\n",
       "      <td>ram</td>\n",
       "      <td>4000</td>\n",
       "    </tr>\n",
       "    <tr>\n",
       "      <th>5</th>\n",
       "      <td>IT</td>\n",
       "      <td>shyam</td>\n",
       "      <td>5000</td>\n",
       "    </tr>\n",
       "  </tbody>\n",
       "</table>\n",
       "</div>"
      ],
      "text/plain": [
       "  departmentName Emp_Name  Salary\n",
       "0             HR    kunal  100000\n",
       "1          SALES    rohan   20000\n",
       "2        CONTENT   sanket   30000\n",
       "3      MARKETING    varad   40000\n",
       "4             IT      ram    4000\n",
       "5             IT    shyam    5000"
      ]
     },
     "execution_count": 32,
     "metadata": {},
     "output_type": "execute_result"
    }
   ],
   "source": [
    "data"
   ]
  },
  {
   "cell_type": "code",
   "execution_count": 54,
   "id": "d768fba6-4836-41d5-a294-25c21583ba30",
   "metadata": {},
   "outputs": [
    {
     "name": "stdout",
     "output_type": "stream",
     "text": [
      "departmentName\n",
      "CONTENT       30000.0\n",
      "HR           100000.0\n",
      "IT             4500.0\n",
      "MARKETING     40000.0\n",
      "SALES         20000.0\n",
      "Name: Salary, dtype: float64\n"
     ]
    }
   ],
   "source": [
    "# directly groupby operation we get object address \n",
    "# mean()\n",
    "res = data.groupby(\"departmentName\")[\"Salary\"].mean()\n",
    "print(res)"
   ]
  },
  {
   "cell_type": "code",
   "execution_count": 56,
   "id": "6d980298-731a-4ed6-99e8-b74c667a2d93",
   "metadata": {},
   "outputs": [
    {
     "name": "stdout",
     "output_type": "stream",
     "text": [
      "departmentName\n",
      "CONTENT       30000\n",
      "HR           100000\n",
      "IT             9000\n",
      "MARKETING     40000\n",
      "SALES         20000\n",
      "Name: Salary, dtype: int64\n"
     ]
    }
   ],
   "source": [
    "# sum()\n",
    "res = data.groupby(\"departmentName\")[\"Salary\"].sum()\n",
    "print(res)"
   ]
  },
  {
   "cell_type": "code",
   "execution_count": 58,
   "id": "aba66f98-521c-4740-a1b3-fcf8aa17c757",
   "metadata": {},
   "outputs": [
    {
     "name": "stdout",
     "output_type": "stream",
     "text": [
      "departmentName\n",
      "CONTENT      1\n",
      "HR           1\n",
      "IT           2\n",
      "MARKETING    1\n",
      "SALES        1\n",
      "Name: Salary, dtype: int64\n"
     ]
    }
   ],
   "source": [
    "# count()\n",
    "res = data.groupby(\"departmentName\")[\"Salary\"].count()\n",
    "print(res)"
   ]
  },
  {
   "cell_type": "code",
   "execution_count": 60,
   "id": "55988a9b-a1bc-42cc-9616-343d7f2307ae",
   "metadata": {},
   "outputs": [
    {
     "name": "stdout",
     "output_type": "stream",
     "text": [
      "departmentName\n",
      "CONTENT       30000\n",
      "HR           100000\n",
      "IT             4000\n",
      "MARKETING     40000\n",
      "SALES         20000\n",
      "Name: Salary, dtype: int64\n"
     ]
    }
   ],
   "source": [
    "# min()\n",
    "res = data.groupby(\"departmentName\")[\"Salary\"].min()\n",
    "print(res)"
   ]
  },
  {
   "cell_type": "code",
   "execution_count": 62,
   "id": "e5542e92-d891-4b8b-ae8f-fb96790e7428",
   "metadata": {},
   "outputs": [
    {
     "name": "stdout",
     "output_type": "stream",
     "text": [
      "departmentName\n",
      "CONTENT       30000\n",
      "HR           100000\n",
      "IT             5000\n",
      "MARKETING     40000\n",
      "SALES         20000\n",
      "Name: Salary, dtype: int64\n"
     ]
    }
   ],
   "source": [
    "# max()\n",
    "res = data.groupby(\"departmentName\")[\"Salary\"].max()\n",
    "print(res)"
   ]
  },
  {
   "cell_type": "code",
   "execution_count": 64,
   "id": "de3550a2-0044-44a9-a521-0fb8f448efa6",
   "metadata": {},
   "outputs": [
    {
     "name": "stdout",
     "output_type": "stream",
     "text": [
      "departmentName\n",
      "CONTENT       30000\n",
      "HR           100000\n",
      "IT             4000\n",
      "MARKETING     40000\n",
      "SALES         20000\n",
      "Name: Salary, dtype: int64\n"
     ]
    }
   ],
   "source": [
    "# first()\n",
    "# in any department what is first number it will get printed\n",
    "res = data.groupby(\"departmentName\")[\"Salary\"].first()\n",
    "print(res)"
   ]
  },
  {
   "cell_type": "code",
   "execution_count": 66,
   "id": "ce283be3-5878-4910-80c2-d5204e8c4ae2",
   "metadata": {},
   "outputs": [
    {
     "name": "stdout",
     "output_type": "stream",
     "text": [
      "departmentName\n",
      "CONTENT       30000\n",
      "HR           100000\n",
      "IT             5000\n",
      "MARKETING     40000\n",
      "SALES         20000\n",
      "Name: Salary, dtype: int64\n"
     ]
    }
   ],
   "source": [
    "# last()\n",
    "# last nunber in particular dpearment will be printed\n",
    "res = data.groupby(\"departmentName\")[\"Salary\"].last()\n",
    "print(res)"
   ]
  },
  {
   "cell_type": "code",
   "execution_count": 68,
   "id": "4d0cd769-c645-4765-849d-c502c893e64a",
   "metadata": {},
   "outputs": [
    {
     "name": "stdout",
     "output_type": "stream",
     "text": [
      "departmentName\n",
      "CONTENT      1\n",
      "HR           1\n",
      "IT           2\n",
      "MARKETING    1\n",
      "SALES        1\n",
      "Name: Salary, dtype: int64\n"
     ]
    }
   ],
   "source": [
    "# nunique()\n",
    "res = data.groupby(\"departmentName\")[\"Salary\"].nunique()\n",
    "print(res)"
   ]
  },
  {
   "cell_type": "code",
   "execution_count": 90,
   "id": "36ea55ab-a744-4eed-b40c-9d07b4320bef",
   "metadata": {},
   "outputs": [
    {
     "name": "stdout",
     "output_type": "stream",
     "text": [
      "                    mean     sum     min     max  count   first    last  \\\n",
      "departmentName                                                            \n",
      "CONTENT          30000.0   30000   30000   30000      1   30000   30000   \n",
      "HR              100000.0  100000  100000  100000      1  100000  100000   \n",
      "IT                4500.0    9000    4000    5000      2    4000    5000   \n",
      "MARKETING        40000.0   40000   40000   40000      1   40000   40000   \n",
      "SALES            20000.0   20000   20000   20000      1   20000   20000   \n",
      "\n",
      "                  median  nunique  \n",
      "departmentName                     \n",
      "CONTENT          30000.0        1  \n",
      "HR              100000.0        1  \n",
      "IT                4500.0        2  \n",
      "MARKETING        40000.0        1  \n",
      "SALES            20000.0        1  \n"
     ]
    }
   ],
   "source": [
    "# all operations at the time \n",
    "# agg()\n",
    "res = data.groupby(\"departmentName\")[\"Salary\"].agg([\"mean\" , \"sum\" , \"min\" , \"max\" , \"count\" , \"first\" , \"last\" , \"median\" , \"nunique\"])\n",
    "print(res)"
   ]
  },
  {
   "cell_type": "code",
   "execution_count": null,
   "id": "7dd3c6c9-4995-4b4f-b2c7-c783f6ffcf20",
   "metadata": {},
   "outputs": [],
   "source": []
  },
  {
   "cell_type": "code",
   "execution_count": null,
   "id": "9c078bc8-bb31-4e04-ab67-cf3d9387b34c",
   "metadata": {},
   "outputs": [],
   "source": []
  }
 ],
 "metadata": {
  "kernelspec": {
   "display_name": "Python 3 (ipykernel)",
   "language": "python",
   "name": "python3"
  },
  "language_info": {
   "codemirror_mode": {
    "name": "ipython",
    "version": 3
   },
   "file_extension": ".py",
   "mimetype": "text/x-python",
   "name": "python",
   "nbconvert_exporter": "python",
   "pygments_lexer": "ipython3",
   "version": "3.12.4"
  }
 },
 "nbformat": 4,
 "nbformat_minor": 5
}
