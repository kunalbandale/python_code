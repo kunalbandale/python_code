{
 "cells": [
  {
   "cell_type": "raw",
   "id": "25f5ebee-c83f-4ba2-aa9c-d269da6a5bab",
   "metadata": {},
   "source": [
    "Topics :\n",
    "----------\n",
    "merging table\n",
    "-----------\n",
    "concat()\n",
    "merge()\n",
    "join()"
   ]
  },
  {
   "cell_type": "code",
   "execution_count": 179,
   "id": "9f050faf-089f-454f-b9ff-88c85eebf43a",
   "metadata": {},
   "outputs": [],
   "source": [
    "import pandas as pd\n",
    "\n",
    "data = pd.DataFrame({\"ID\" : [1,2,3,4] , \"Name\" : [\"Kunal\" , \"Varad\" , \"Sanket\" , \"Rohan\"]})\n",
    "data2 = pd.DataFrame({\"ID\": [2,6,3,8] , \"Score\" : [100,200,300,400]})\n",
    "data3 = pd.DataFrame({\"Marks\": [100,46,57,78]})\n"
   ]
  },
  {
   "cell_type": "code",
   "execution_count": 181,
   "id": "4c091d47-606e-41f3-995d-1dad42657f2d",
   "metadata": {},
   "outputs": [],
   "source": [
    "# concat()"
   ]
  },
  {
   "cell_type": "code",
   "execution_count": 183,
   "id": "49fa662e-ff67-4620-99f7-9883368338a3",
   "metadata": {},
   "outputs": [],
   "source": [
    "res = pd.concat([data , data2] , ignore_index = True)"
   ]
  },
  {
   "cell_type": "code",
   "execution_count": 185,
   "id": "0dec2947-7c5b-4bbb-aa5a-f22f49defa49",
   "metadata": {},
   "outputs": [
    {
     "data": {
      "text/html": [
       "<div>\n",
       "<style scoped>\n",
       "    .dataframe tbody tr th:only-of-type {\n",
       "        vertical-align: middle;\n",
       "    }\n",
       "\n",
       "    .dataframe tbody tr th {\n",
       "        vertical-align: top;\n",
       "    }\n",
       "\n",
       "    .dataframe thead th {\n",
       "        text-align: right;\n",
       "    }\n",
       "</style>\n",
       "<table border=\"1\" class=\"dataframe\">\n",
       "  <thead>\n",
       "    <tr style=\"text-align: right;\">\n",
       "      <th></th>\n",
       "      <th>ID</th>\n",
       "      <th>Name</th>\n",
       "      <th>Score</th>\n",
       "    </tr>\n",
       "  </thead>\n",
       "  <tbody>\n",
       "    <tr>\n",
       "      <th>0</th>\n",
       "      <td>1</td>\n",
       "      <td>Kunal</td>\n",
       "      <td>NaN</td>\n",
       "    </tr>\n",
       "    <tr>\n",
       "      <th>1</th>\n",
       "      <td>2</td>\n",
       "      <td>Varad</td>\n",
       "      <td>NaN</td>\n",
       "    </tr>\n",
       "    <tr>\n",
       "      <th>2</th>\n",
       "      <td>3</td>\n",
       "      <td>Sanket</td>\n",
       "      <td>NaN</td>\n",
       "    </tr>\n",
       "    <tr>\n",
       "      <th>3</th>\n",
       "      <td>4</td>\n",
       "      <td>Rohan</td>\n",
       "      <td>NaN</td>\n",
       "    </tr>\n",
       "    <tr>\n",
       "      <th>4</th>\n",
       "      <td>2</td>\n",
       "      <td>NaN</td>\n",
       "      <td>100.0</td>\n",
       "    </tr>\n",
       "    <tr>\n",
       "      <th>5</th>\n",
       "      <td>6</td>\n",
       "      <td>NaN</td>\n",
       "      <td>200.0</td>\n",
       "    </tr>\n",
       "    <tr>\n",
       "      <th>6</th>\n",
       "      <td>3</td>\n",
       "      <td>NaN</td>\n",
       "      <td>300.0</td>\n",
       "    </tr>\n",
       "    <tr>\n",
       "      <th>7</th>\n",
       "      <td>8</td>\n",
       "      <td>NaN</td>\n",
       "      <td>400.0</td>\n",
       "    </tr>\n",
       "  </tbody>\n",
       "</table>\n",
       "</div>"
      ],
      "text/plain": [
       "   ID    Name  Score\n",
       "0   1   Kunal    NaN\n",
       "1   2   Varad    NaN\n",
       "2   3  Sanket    NaN\n",
       "3   4   Rohan    NaN\n",
       "4   2     NaN  100.0\n",
       "5   6     NaN  200.0\n",
       "6   3     NaN  300.0\n",
       "7   8     NaN  400.0"
      ]
     },
     "execution_count": 185,
     "metadata": {},
     "output_type": "execute_result"
    }
   ],
   "source": [
    "res"
   ]
  },
  {
   "cell_type": "code",
   "execution_count": 187,
   "id": "eef9acc1-bf64-4dfc-ad74-15bdb79ef85c",
   "metadata": {},
   "outputs": [],
   "source": [
    "res = pd.concat([data , data2] ,  axis = 1 , ignore_index = True)\n",
    "# res = pd.concat([data , data2] ,  axis = 0 , ignore_index = True)"
   ]
  },
  {
   "cell_type": "code",
   "execution_count": 188,
   "id": "2d402e86-9e4a-4e59-992d-6c3f126e0341",
   "metadata": {},
   "outputs": [
    {
     "data": {
      "text/html": [
       "<div>\n",
       "<style scoped>\n",
       "    .dataframe tbody tr th:only-of-type {\n",
       "        vertical-align: middle;\n",
       "    }\n",
       "\n",
       "    .dataframe tbody tr th {\n",
       "        vertical-align: top;\n",
       "    }\n",
       "\n",
       "    .dataframe thead th {\n",
       "        text-align: right;\n",
       "    }\n",
       "</style>\n",
       "<table border=\"1\" class=\"dataframe\">\n",
       "  <thead>\n",
       "    <tr style=\"text-align: right;\">\n",
       "      <th></th>\n",
       "      <th>0</th>\n",
       "      <th>1</th>\n",
       "      <th>2</th>\n",
       "      <th>3</th>\n",
       "    </tr>\n",
       "  </thead>\n",
       "  <tbody>\n",
       "    <tr>\n",
       "      <th>0</th>\n",
       "      <td>1</td>\n",
       "      <td>Kunal</td>\n",
       "      <td>2</td>\n",
       "      <td>100</td>\n",
       "    </tr>\n",
       "    <tr>\n",
       "      <th>1</th>\n",
       "      <td>2</td>\n",
       "      <td>Varad</td>\n",
       "      <td>6</td>\n",
       "      <td>200</td>\n",
       "    </tr>\n",
       "    <tr>\n",
       "      <th>2</th>\n",
       "      <td>3</td>\n",
       "      <td>Sanket</td>\n",
       "      <td>3</td>\n",
       "      <td>300</td>\n",
       "    </tr>\n",
       "    <tr>\n",
       "      <th>3</th>\n",
       "      <td>4</td>\n",
       "      <td>Rohan</td>\n",
       "      <td>8</td>\n",
       "      <td>400</td>\n",
       "    </tr>\n",
       "  </tbody>\n",
       "</table>\n",
       "</div>"
      ],
      "text/plain": [
       "   0       1  2    3\n",
       "0  1   Kunal  2  100\n",
       "1  2   Varad  6  200\n",
       "2  3  Sanket  3  300\n",
       "3  4   Rohan  8  400"
      ]
     },
     "execution_count": 188,
     "metadata": {},
     "output_type": "execute_result"
    }
   ],
   "source": [
    "res"
   ]
  },
  {
   "cell_type": "code",
   "execution_count": 189,
   "id": "9182cc4c-c4d3-4944-8c62-bba3fe240049",
   "metadata": {},
   "outputs": [],
   "source": [
    "res2 = pd.concat([data , data3])"
   ]
  },
  {
   "cell_type": "code",
   "execution_count": 190,
   "id": "af676170-ca2c-473c-af71-131486f15283",
   "metadata": {},
   "outputs": [
    {
     "data": {
      "text/html": [
       "<div>\n",
       "<style scoped>\n",
       "    .dataframe tbody tr th:only-of-type {\n",
       "        vertical-align: middle;\n",
       "    }\n",
       "\n",
       "    .dataframe tbody tr th {\n",
       "        vertical-align: top;\n",
       "    }\n",
       "\n",
       "    .dataframe thead th {\n",
       "        text-align: right;\n",
       "    }\n",
       "</style>\n",
       "<table border=\"1\" class=\"dataframe\">\n",
       "  <thead>\n",
       "    <tr style=\"text-align: right;\">\n",
       "      <th></th>\n",
       "      <th>ID</th>\n",
       "      <th>Name</th>\n",
       "      <th>Marks</th>\n",
       "    </tr>\n",
       "  </thead>\n",
       "  <tbody>\n",
       "    <tr>\n",
       "      <th>0</th>\n",
       "      <td>1.0</td>\n",
       "      <td>Kunal</td>\n",
       "      <td>NaN</td>\n",
       "    </tr>\n",
       "    <tr>\n",
       "      <th>1</th>\n",
       "      <td>2.0</td>\n",
       "      <td>Varad</td>\n",
       "      <td>NaN</td>\n",
       "    </tr>\n",
       "    <tr>\n",
       "      <th>2</th>\n",
       "      <td>3.0</td>\n",
       "      <td>Sanket</td>\n",
       "      <td>NaN</td>\n",
       "    </tr>\n",
       "    <tr>\n",
       "      <th>3</th>\n",
       "      <td>4.0</td>\n",
       "      <td>Rohan</td>\n",
       "      <td>NaN</td>\n",
       "    </tr>\n",
       "    <tr>\n",
       "      <th>0</th>\n",
       "      <td>NaN</td>\n",
       "      <td>NaN</td>\n",
       "      <td>100.0</td>\n",
       "    </tr>\n",
       "    <tr>\n",
       "      <th>1</th>\n",
       "      <td>NaN</td>\n",
       "      <td>NaN</td>\n",
       "      <td>46.0</td>\n",
       "    </tr>\n",
       "    <tr>\n",
       "      <th>2</th>\n",
       "      <td>NaN</td>\n",
       "      <td>NaN</td>\n",
       "      <td>57.0</td>\n",
       "    </tr>\n",
       "    <tr>\n",
       "      <th>3</th>\n",
       "      <td>NaN</td>\n",
       "      <td>NaN</td>\n",
       "      <td>78.0</td>\n",
       "    </tr>\n",
       "  </tbody>\n",
       "</table>\n",
       "</div>"
      ],
      "text/plain": [
       "    ID    Name  Marks\n",
       "0  1.0   Kunal    NaN\n",
       "1  2.0   Varad    NaN\n",
       "2  3.0  Sanket    NaN\n",
       "3  4.0   Rohan    NaN\n",
       "0  NaN     NaN  100.0\n",
       "1  NaN     NaN   46.0\n",
       "2  NaN     NaN   57.0\n",
       "3  NaN     NaN   78.0"
      ]
     },
     "execution_count": 190,
     "metadata": {},
     "output_type": "execute_result"
    }
   ],
   "source": [
    "res2"
   ]
  },
  {
   "cell_type": "code",
   "execution_count": 191,
   "id": "9d575fe5-b251-42aa-a87c-623b2c0d88d6",
   "metadata": {},
   "outputs": [],
   "source": [
    "# merge()\n",
    "# by default it will act as inner join | only matching rows will be taken \n",
    "result = pd.merge(data,data2,on = \"ID\")"
   ]
  },
  {
   "cell_type": "code",
   "execution_count": 192,
   "id": "2e91253e-f3ab-429a-8dbb-1ae32265632c",
   "metadata": {},
   "outputs": [
    {
     "data": {
      "text/html": [
       "<div>\n",
       "<style scoped>\n",
       "    .dataframe tbody tr th:only-of-type {\n",
       "        vertical-align: middle;\n",
       "    }\n",
       "\n",
       "    .dataframe tbody tr th {\n",
       "        vertical-align: top;\n",
       "    }\n",
       "\n",
       "    .dataframe thead th {\n",
       "        text-align: right;\n",
       "    }\n",
       "</style>\n",
       "<table border=\"1\" class=\"dataframe\">\n",
       "  <thead>\n",
       "    <tr style=\"text-align: right;\">\n",
       "      <th></th>\n",
       "      <th>ID</th>\n",
       "      <th>Name</th>\n",
       "      <th>Score</th>\n",
       "    </tr>\n",
       "  </thead>\n",
       "  <tbody>\n",
       "    <tr>\n",
       "      <th>0</th>\n",
       "      <td>2</td>\n",
       "      <td>Varad</td>\n",
       "      <td>100</td>\n",
       "    </tr>\n",
       "    <tr>\n",
       "      <th>1</th>\n",
       "      <td>3</td>\n",
       "      <td>Sanket</td>\n",
       "      <td>300</td>\n",
       "    </tr>\n",
       "  </tbody>\n",
       "</table>\n",
       "</div>"
      ],
      "text/plain": [
       "   ID    Name  Score\n",
       "0   2   Varad    100\n",
       "1   3  Sanket    300"
      ]
     },
     "execution_count": 192,
     "metadata": {},
     "output_type": "execute_result"
    }
   ],
   "source": [
    "result"
   ]
  },
  {
   "cell_type": "code",
   "execution_count": 193,
   "id": "124d4104-1af1-4997-aa71-fa39644c7f89",
   "metadata": {},
   "outputs": [],
   "source": [
    "result = pd.merge(data,data2,on = \"ID\" , how=\"inner\")"
   ]
  },
  {
   "cell_type": "code",
   "execution_count": 194,
   "id": "bf14f280-bb0e-492f-afba-80ce5a5559d4",
   "metadata": {},
   "outputs": [
    {
     "data": {
      "text/html": [
       "<div>\n",
       "<style scoped>\n",
       "    .dataframe tbody tr th:only-of-type {\n",
       "        vertical-align: middle;\n",
       "    }\n",
       "\n",
       "    .dataframe tbody tr th {\n",
       "        vertical-align: top;\n",
       "    }\n",
       "\n",
       "    .dataframe thead th {\n",
       "        text-align: right;\n",
       "    }\n",
       "</style>\n",
       "<table border=\"1\" class=\"dataframe\">\n",
       "  <thead>\n",
       "    <tr style=\"text-align: right;\">\n",
       "      <th></th>\n",
       "      <th>ID</th>\n",
       "      <th>Name</th>\n",
       "      <th>Score</th>\n",
       "    </tr>\n",
       "  </thead>\n",
       "  <tbody>\n",
       "    <tr>\n",
       "      <th>0</th>\n",
       "      <td>2</td>\n",
       "      <td>Varad</td>\n",
       "      <td>100</td>\n",
       "    </tr>\n",
       "    <tr>\n",
       "      <th>1</th>\n",
       "      <td>3</td>\n",
       "      <td>Sanket</td>\n",
       "      <td>300</td>\n",
       "    </tr>\n",
       "  </tbody>\n",
       "</table>\n",
       "</div>"
      ],
      "text/plain": [
       "   ID    Name  Score\n",
       "0   2   Varad    100\n",
       "1   3  Sanket    300"
      ]
     },
     "execution_count": 194,
     "metadata": {},
     "output_type": "execute_result"
    }
   ],
   "source": [
    "result"
   ]
  },
  {
   "cell_type": "code",
   "execution_count": 195,
   "id": "23475ef5-fa17-4625-8a53-038745cd2c74",
   "metadata": {},
   "outputs": [],
   "source": [
    "result = pd.merge(data,data2,on = \"ID\" , how=\"outer\")"
   ]
  },
  {
   "cell_type": "code",
   "execution_count": 196,
   "id": "ac03940d-e4c0-4819-9b10-2e1e1412624e",
   "metadata": {},
   "outputs": [
    {
     "data": {
      "text/html": [
       "<div>\n",
       "<style scoped>\n",
       "    .dataframe tbody tr th:only-of-type {\n",
       "        vertical-align: middle;\n",
       "    }\n",
       "\n",
       "    .dataframe tbody tr th {\n",
       "        vertical-align: top;\n",
       "    }\n",
       "\n",
       "    .dataframe thead th {\n",
       "        text-align: right;\n",
       "    }\n",
       "</style>\n",
       "<table border=\"1\" class=\"dataframe\">\n",
       "  <thead>\n",
       "    <tr style=\"text-align: right;\">\n",
       "      <th></th>\n",
       "      <th>ID</th>\n",
       "      <th>Name</th>\n",
       "      <th>Score</th>\n",
       "    </tr>\n",
       "  </thead>\n",
       "  <tbody>\n",
       "    <tr>\n",
       "      <th>0</th>\n",
       "      <td>1</td>\n",
       "      <td>Kunal</td>\n",
       "      <td>NaN</td>\n",
       "    </tr>\n",
       "    <tr>\n",
       "      <th>1</th>\n",
       "      <td>2</td>\n",
       "      <td>Varad</td>\n",
       "      <td>100.0</td>\n",
       "    </tr>\n",
       "    <tr>\n",
       "      <th>2</th>\n",
       "      <td>3</td>\n",
       "      <td>Sanket</td>\n",
       "      <td>300.0</td>\n",
       "    </tr>\n",
       "    <tr>\n",
       "      <th>3</th>\n",
       "      <td>4</td>\n",
       "      <td>Rohan</td>\n",
       "      <td>NaN</td>\n",
       "    </tr>\n",
       "    <tr>\n",
       "      <th>4</th>\n",
       "      <td>6</td>\n",
       "      <td>NaN</td>\n",
       "      <td>200.0</td>\n",
       "    </tr>\n",
       "    <tr>\n",
       "      <th>5</th>\n",
       "      <td>8</td>\n",
       "      <td>NaN</td>\n",
       "      <td>400.0</td>\n",
       "    </tr>\n",
       "  </tbody>\n",
       "</table>\n",
       "</div>"
      ],
      "text/plain": [
       "   ID    Name  Score\n",
       "0   1   Kunal    NaN\n",
       "1   2   Varad  100.0\n",
       "2   3  Sanket  300.0\n",
       "3   4   Rohan    NaN\n",
       "4   6     NaN  200.0\n",
       "5   8     NaN  400.0"
      ]
     },
     "execution_count": 196,
     "metadata": {},
     "output_type": "execute_result"
    }
   ],
   "source": [
    "result"
   ]
  },
  {
   "cell_type": "code",
   "execution_count": 197,
   "id": "34242f7e-43f2-4f26-a6e1-8b9548a0a571",
   "metadata": {},
   "outputs": [],
   "source": [
    "data = pd.DataFrame({\"EMP_ID\" : [11,12,13,14] , \"Name\" : [\"Kunal\" , \"Varad\" , \"Sanket\" , \"Rohan\"]})\n",
    "data2 = pd.DataFrame({\"ID\": [2,6,3,8] , \"Score\" : [100,200,300,400]})\n",
    "res = pd.merge(data , data2 , left_on = \"EMP_ID\" ,right_on = \"ID\" , how = \"outer\")\n"
   ]
  },
  {
   "cell_type": "code",
   "execution_count": 198,
   "id": "cec7c67f-5899-4157-b406-5417101ffed0",
   "metadata": {},
   "outputs": [
    {
     "data": {
      "text/html": [
       "<div>\n",
       "<style scoped>\n",
       "    .dataframe tbody tr th:only-of-type {\n",
       "        vertical-align: middle;\n",
       "    }\n",
       "\n",
       "    .dataframe tbody tr th {\n",
       "        vertical-align: top;\n",
       "    }\n",
       "\n",
       "    .dataframe thead th {\n",
       "        text-align: right;\n",
       "    }\n",
       "</style>\n",
       "<table border=\"1\" class=\"dataframe\">\n",
       "  <thead>\n",
       "    <tr style=\"text-align: right;\">\n",
       "      <th></th>\n",
       "      <th>EMP_ID</th>\n",
       "      <th>Name</th>\n",
       "      <th>ID</th>\n",
       "      <th>Score</th>\n",
       "    </tr>\n",
       "  </thead>\n",
       "  <tbody>\n",
       "    <tr>\n",
       "      <th>0</th>\n",
       "      <td>NaN</td>\n",
       "      <td>NaN</td>\n",
       "      <td>2.0</td>\n",
       "      <td>100.0</td>\n",
       "    </tr>\n",
       "    <tr>\n",
       "      <th>1</th>\n",
       "      <td>NaN</td>\n",
       "      <td>NaN</td>\n",
       "      <td>3.0</td>\n",
       "      <td>300.0</td>\n",
       "    </tr>\n",
       "    <tr>\n",
       "      <th>2</th>\n",
       "      <td>NaN</td>\n",
       "      <td>NaN</td>\n",
       "      <td>6.0</td>\n",
       "      <td>200.0</td>\n",
       "    </tr>\n",
       "    <tr>\n",
       "      <th>3</th>\n",
       "      <td>NaN</td>\n",
       "      <td>NaN</td>\n",
       "      <td>8.0</td>\n",
       "      <td>400.0</td>\n",
       "    </tr>\n",
       "    <tr>\n",
       "      <th>4</th>\n",
       "      <td>11.0</td>\n",
       "      <td>Kunal</td>\n",
       "      <td>NaN</td>\n",
       "      <td>NaN</td>\n",
       "    </tr>\n",
       "    <tr>\n",
       "      <th>5</th>\n",
       "      <td>12.0</td>\n",
       "      <td>Varad</td>\n",
       "      <td>NaN</td>\n",
       "      <td>NaN</td>\n",
       "    </tr>\n",
       "    <tr>\n",
       "      <th>6</th>\n",
       "      <td>13.0</td>\n",
       "      <td>Sanket</td>\n",
       "      <td>NaN</td>\n",
       "      <td>NaN</td>\n",
       "    </tr>\n",
       "    <tr>\n",
       "      <th>7</th>\n",
       "      <td>14.0</td>\n",
       "      <td>Rohan</td>\n",
       "      <td>NaN</td>\n",
       "      <td>NaN</td>\n",
       "    </tr>\n",
       "  </tbody>\n",
       "</table>\n",
       "</div>"
      ],
      "text/plain": [
       "   EMP_ID    Name   ID  Score\n",
       "0     NaN     NaN  2.0  100.0\n",
       "1     NaN     NaN  3.0  300.0\n",
       "2     NaN     NaN  6.0  200.0\n",
       "3     NaN     NaN  8.0  400.0\n",
       "4    11.0   Kunal  NaN    NaN\n",
       "5    12.0   Varad  NaN    NaN\n",
       "6    13.0  Sanket  NaN    NaN\n",
       "7    14.0   Rohan  NaN    NaN"
      ]
     },
     "execution_count": 198,
     "metadata": {},
     "output_type": "execute_result"
    }
   ],
   "source": [
    "res"
   ]
  },
  {
   "cell_type": "code",
   "execution_count": 199,
   "id": "a7090aaa-5cb7-4173-b009-a8db6d1f83ba",
   "metadata": {},
   "outputs": [],
   "source": [
    "d1 = pd.DataFrame({\"SAL\" : [1000,2000,4000]} , index = [\"x\" , \"y\" , \"z\"])\n",
    "d2 = pd.DataFrame({\"EMP_ID\" : [\"A1\",\"B1\",\"C1\"]} , index = [\"x\" , \"y\" , \"z\"])"
   ]
  },
  {
   "cell_type": "code",
   "execution_count": 200,
   "id": "d9470236-3cf6-494d-841d-b4fd773069f1",
   "metadata": {},
   "outputs": [],
   "source": [
    "res = pd.merge(d1 , d2 , left_index = True , right_index = True)"
   ]
  },
  {
   "cell_type": "code",
   "execution_count": 201,
   "id": "899668c2-56e5-42bc-91cd-500205a79a9b",
   "metadata": {},
   "outputs": [
    {
     "data": {
      "text/html": [
       "<div>\n",
       "<style scoped>\n",
       "    .dataframe tbody tr th:only-of-type {\n",
       "        vertical-align: middle;\n",
       "    }\n",
       "\n",
       "    .dataframe tbody tr th {\n",
       "        vertical-align: top;\n",
       "    }\n",
       "\n",
       "    .dataframe thead th {\n",
       "        text-align: right;\n",
       "    }\n",
       "</style>\n",
       "<table border=\"1\" class=\"dataframe\">\n",
       "  <thead>\n",
       "    <tr style=\"text-align: right;\">\n",
       "      <th></th>\n",
       "      <th>SAL</th>\n",
       "      <th>EMP_ID</th>\n",
       "    </tr>\n",
       "  </thead>\n",
       "  <tbody>\n",
       "    <tr>\n",
       "      <th>x</th>\n",
       "      <td>1000</td>\n",
       "      <td>A1</td>\n",
       "    </tr>\n",
       "    <tr>\n",
       "      <th>y</th>\n",
       "      <td>2000</td>\n",
       "      <td>B1</td>\n",
       "    </tr>\n",
       "    <tr>\n",
       "      <th>z</th>\n",
       "      <td>4000</td>\n",
       "      <td>C1</td>\n",
       "    </tr>\n",
       "  </tbody>\n",
       "</table>\n",
       "</div>"
      ],
      "text/plain": [
       "    SAL EMP_ID\n",
       "x  1000     A1\n",
       "y  2000     B1\n",
       "z  4000     C1"
      ]
     },
     "execution_count": 201,
     "metadata": {},
     "output_type": "execute_result"
    }
   ],
   "source": [
    "res"
   ]
  },
  {
   "cell_type": "code",
   "execution_count": 202,
   "id": "fc34832d-5afb-40fd-9310-f2fe672c2e48",
   "metadata": {},
   "outputs": [],
   "source": [
    "# while working in pandas cross join is not reccomded \n",
    "# create two tables with same data\n",
    "# use suffixes \n"
   ]
  },
  {
   "cell_type": "code",
   "execution_count": 203,
   "id": "ea782b4a-574d-4c29-8e7a-3dfcd9b5a640",
   "metadata": {},
   "outputs": [
    {
     "name": "stdout",
     "output_type": "stream",
     "text": [
      "   Data  SAL_olddata  SAL_newdata\n",
      "0    PY        10000        10000\n",
      "1  JAVA        20000        20000\n",
      "2  .NET         3000         3000\n"
     ]
    }
   ],
   "source": [
    "import pandas as pd\n",
    "\n",
    "x = pd.DataFrame({\"Data\": [\"PY\" , \"JAVA\", \".NET\"], \"SAL\": [10000, 20000,3000]})\n",
    "y = pd.DataFrame({\"Data\": [\"PY\" , \"JAVA\", \".NET\"], \"SAL\": [10000, 20000,3000]})\n",
    "\n",
    "res = pd.merge(x, y, on=\"Data\", suffixes=(\"_olddata\", \"_newdata\"))\n",
    "\n",
    "print(res)\n"
   ]
  },
  {
   "cell_type": "code",
   "execution_count": null,
   "id": "782020c5-bafa-4d56-93a3-a282d8ada8df",
   "metadata": {},
   "outputs": [],
   "source": [
    "#join "
   ]
  },
  {
   "cell_type": "code",
   "execution_count": 242,
   "id": "366dd12e-143c-4db1-b0b5-140999fd06ce",
   "metadata": {},
   "outputs": [
    {
     "name": "stdout",
     "output_type": "stream",
     "text": [
      "   EMP_ID    Name  ID  Score\n",
      "0      11   Kunal   2    100\n",
      "1      12   Varad   6    200\n",
      "2      13  Sanket   3    300\n",
      "3      14   Rohan   8    400\n"
     ]
    }
   ],
   "source": [
    "res = (data.join(data2 , how = \"outer\"))\n",
    "print(res)"
   ]
  },
  {
   "cell_type": "code",
   "execution_count": null,
   "id": "c11b4247-107b-480d-9463-a048bd8660f2",
   "metadata": {},
   "outputs": [],
   "source": []
  }
 ],
 "metadata": {
  "kernelspec": {
   "display_name": "Python 3 (ipykernel)",
   "language": "python",
   "name": "python3"
  },
  "language_info": {
   "codemirror_mode": {
    "name": "ipython",
    "version": 3
   },
   "file_extension": ".py",
   "mimetype": "text/x-python",
   "name": "python",
   "nbconvert_exporter": "python",
   "pygments_lexer": "ipython3",
   "version": "3.12.4"
  }
 },
 "nbformat": 4,
 "nbformat_minor": 5
}
