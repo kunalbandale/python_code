{
 "cells": [
  {
   "cell_type": "raw",
   "id": "af76abf5-37a4-45f3-93ef-14fb0a53506c",
   "metadata": {},
   "source": [
    "Topics Covered\n",
    "-------------------\n",
    "- rename() \n",
    "- replace()\n",
    "- astype()\n",
    "- sort_values()\n",
    "- sort_index()\n",
    "- rank()"
   ]
  },
  {
   "cell_type": "code",
   "execution_count": 9,
   "id": "17f3f34f-d436-4337-ae46-b3097819dc91",
   "metadata": {},
   "outputs": [
    {
     "name": "stdout",
     "output_type": "stream",
     "text": [
      "  Information   Duration\n",
      "0      python    3 month\n",
      "1         sql    1 month\n",
      "2     powerbi  2.5 month\n",
      "3       excel    5 month\n"
     ]
    }
   ],
   "source": [
    "import pandas as pd\n",
    "\n",
    "data = pd.DataFrame( {\"Information\" : ['python' , 'sql' , 'powerbi' , 'excel'] , \n",
    "                     \"Duration\" : [\"3 month\" , \"1 month\" , \"2.5 month\" , \"5 month\"]\n",
    "                     })\n",
    "print(data)"
   ]
  },
  {
   "cell_type": "code",
   "execution_count": 19,
   "id": "75cdafde-fcb8-48b9-b9bc-556b8c8a0939",
   "metadata": {},
   "outputs": [
    {
     "name": "stdout",
     "output_type": "stream",
     "text": [
      "    Information   Duration\n",
      "100      python    3 month\n",
      "200         sql    1 month\n",
      "300     powerbi  2.5 month\n",
      "3         excel    5 month\n"
     ]
    }
   ],
   "source": [
    "# rename(col) -> if you want to change coln name we can go for rename()\n",
    "# varName.rename(columns = {\"oldName\" : \"newName\"})\n",
    "# change col information to INFO\n",
    "data.rename(columns = {\"Information\" : \"INFO\"})\n",
    "\n",
    "# we can change multiple columns as well \n",
    "data.rename(columns = {\"Information\" : \"INFO\" , \"Duration\" : \"DUE\"})\n",
    "\n",
    "# i want to change row index\n",
    "print(data.rename(index = {0:100,1:200,2:300}))\n"
   ]
  },
  {
   "cell_type": "code",
   "execution_count": 45,
   "id": "3b6be626-98d6-44a1-9d89-3a90af7f9bef",
   "metadata": {},
   "outputs": [
    {
     "name": "stdout",
     "output_type": "stream",
     "text": [
      "-------------------\n",
      "  Information   Duration\n",
      "0          py    3 month\n",
      "1         SQL    1 month\n",
      "2          BI  2.5 month\n",
      "3         XLS    5 month\n"
     ]
    }
   ],
   "source": [
    "# replace()\n",
    "# in the place of python i want to replace PY\n",
    "data[\"Information\"] = data[\"Information\"].replace(\"python\" , 'py')\n",
    "print(data)\n",
    "\n",
    "print(\"-------------------\")\n",
    "\n",
    "# \n",
    "data[\"Information\"] = data[\"Information\"].replace({\"Python\" : \"PY\" , \"sql\" : \"SQL\" , \"powerbi\" : \"BI\" , \"excel\":\"XLS\"})\n",
    "print(data)\n"
   ]
  },
  {
   "cell_type": "code",
   "execution_count": 69,
   "id": "ccd82173-a308-42b0-8867-c20203c11827",
   "metadata": {},
   "outputs": [
    {
     "name": "stdout",
     "output_type": "stream",
     "text": [
      "    name  age  score\n",
      "0  kunal   20    100\n",
      "1    ram   24     40\n",
      "2    raj   31     20\n",
      "3    roy   22     40\n",
      "-------------------------\n",
      "<class 'pandas.core.frame.DataFrame'>\n",
      "RangeIndex: 4 entries, 0 to 3\n",
      "Data columns (total 3 columns):\n",
      " #   Column  Non-Null Count  Dtype \n",
      "---  ------  --------------  ----- \n",
      " 0   name    4 non-null      object\n",
      " 1   age     4 non-null      int64 \n",
      " 2   score   4 non-null      int64 \n",
      "dtypes: int64(2), object(1)\n",
      "memory usage: 228.0+ bytes\n",
      "None\n"
     ]
    }
   ],
   "source": [
    "# create a table [name age score] using DataFrame\n",
    "sdata = pd.DataFrame({\"name\" : [\"kunal\" , \"ram\" , \"raj\" , \"roy\"] , \n",
    "                     \"age\":[20,24,31,22],\n",
    "                      \"score\" : [100,40,20,40]\n",
    "                      })\n",
    "print(sdata)\n",
    "print(\"-------------------------\")\n",
    "print(sdata.info())"
   ]
  },
  {
   "cell_type": "code",
   "execution_count": 79,
   "id": "1b52e83f-c0c8-408d-ace8-db10016bc24c",
   "metadata": {},
   "outputs": [
    {
     "name": "stdout",
     "output_type": "stream",
     "text": [
      "0    True\n",
      "1    True\n",
      "2    True\n",
      "3    True\n",
      "Name: age, dtype: bool\n"
     ]
    }
   ],
   "source": [
    "# now i want to change age column data type \n",
    "# print(sdata[\"age\"].astype(float))\n",
    "# to change data type use astype()\n",
    "print(sdata[\"age\"].astype(bool))"
   ]
  },
  {
   "cell_type": "code",
   "execution_count": 95,
   "id": "2224c280-2c02-4ac1-a7a0-1a4c6bd357b3",
   "metadata": {},
   "outputs": [
    {
     "name": "stdout",
     "output_type": "stream",
     "text": [
      "    name  age  score\n",
      "0  kunal   20    100\n",
      "3    roy   22     40\n",
      "1    ram   24     40\n",
      "2    raj   31     20\n",
      "---------------------------------\n",
      "    name  age  score\n",
      "2    raj   31     20\n",
      "1    ram   24     40\n",
      "3    roy   22     40\n",
      "0  kunal   20    100\n",
      "---------------------------------\n",
      "    name  age  score\n",
      "2    raj   31     20\n",
      "1    ram   24     40\n",
      "3    roy   22     40\n",
      "0  kunal   20    100\n"
     ]
    }
   ],
   "source": [
    "# sort_values() - i want to sort the value in age column we can go for sort \n",
    "print(sdata.sort_values(by=\"age\"))\n",
    "print(\"---------------------------------\")\n",
    "\n",
    "print(sdata.sort_values(by=\"age\" , ascending = False)) \n",
    "print(\"---------------------------------\")\n",
    "# sort score column\n",
    "print(sdata.sort_values(by=\"score\"))\n",
    "\n"
   ]
  },
  {
   "cell_type": "code",
   "execution_count": 109,
   "id": "03e36871-578b-4871-9667-eb5057853086",
   "metadata": {},
   "outputs": [
    {
     "name": "stdout",
     "output_type": "stream",
     "text": [
      "    name  age  score\n",
      "0  kunal   20    100\n",
      "1    ram   24     40\n",
      "2    raj   31     20\n",
      "3    roy   22     40\n",
      "-------------------------------\n",
      "   age   name  score\n",
      "0   20  kunal    100\n",
      "1   24    ram     40\n",
      "2   31    raj     20\n",
      "3   22    roy     40\n"
     ]
    }
   ],
   "source": [
    "# sort_index() \n",
    "print(sdata.sort_index(axis = 0)) # - > 0 means row\n",
    "print(\"-------------------------------\")\n",
    "print(sdata.sort_index(axis = 1)) # 1 means column"
   ]
  },
  {
   "cell_type": "code",
   "execution_count": 193,
   "id": "cbad9494-d118-47d8-9dbe-ef90d5053e8c",
   "metadata": {},
   "outputs": [
    {
     "name": "stdout",
     "output_type": "stream",
     "text": [
      "    name  score  avg\n",
      "0  kunal    100  4.0\n",
      "1    ram     40  2.5\n",
      "2    raj     20  1.0\n",
      "3    roy     40  2.5\n",
      "====================================\n",
      "    name  score  avg  min\n",
      "0  kunal    100  4.0  4.0\n",
      "1    ram     40  2.5  2.0\n",
      "2    raj     20  1.0  1.0\n",
      "3    roy     40  2.5  2.0\n",
      "====================================\n",
      "    name  score  avg  min  max\n",
      "0  kunal    100  4.0  4.0  4.0\n",
      "1    ram     40  2.5  2.0  3.0\n",
      "2    raj     20  1.0  1.0  1.0\n",
      "3    roy     40  2.5  2.0  3.0\n",
      "================================================\n",
      "    name  score  avg  min  max  first\n",
      "0  kunal    100  4.0  4.0  4.0    3.0\n",
      "1    ram     40  2.5  2.0  3.0    2.0\n",
      "2    raj     20  1.0  1.0  1.0    1.0\n",
      "3    roy     40  2.5  2.0  3.0    2.0\n"
     ]
    }
   ],
   "source": [
    "# rank() -> \n",
    "sample = pd.DataFrame({\"name\" : [\"kunal\" , \"ram\" , \"raj\" , \"roy\"] , \n",
    "                      \"score\" : [100,40,20,40]\n",
    "                      })\n",
    "# insert a new column named total without using insert and assign \n",
    "# sample[\"Total\"] = 0 |default value 0\n",
    "# sample[\"Total\"] = sample[\"score\"] + 10 || adding 10 and adding in total without using inset method and assing method \n",
    "# print(sample)\n",
    "# rank() always start from 1 not 0\n",
    "# rank(method = average)\n",
    "# rank(method = min)\n",
    "# rank(method = max)\n",
    "# rank(method = dense)\n",
    "# rank(method = )\n",
    "\n",
    "sample[\"avg\"] = sample[\"score\"].rank(method = \"average\", ascending = True)\n",
    "print(sample)\n",
    "\n",
    "print(\"====================================\")\n",
    "\n",
    "sample[\"min\"] = sample[\"score\"].rank(method = \"min\", ascending = True)\n",
    "print(sample)\n",
    "\n",
    "print(\"====================================\")\n",
    "\n",
    "sample[\"max\"] = sample[\"score\"].rank(method = \"max\", ascending = True)\n",
    "print(sample)\n",
    "\n",
    "print(\"================================================\")\n",
    "\n",
    "sample[\"first\"] = sample[\"score\"].rank(method = \"dense\" , ascending = True)\n",
    "print(sample)\n",
    "\n"
   ]
  },
  {
   "cell_type": "code",
   "execution_count": null,
   "id": "b98662e2-1cf9-4e33-8713-a4bc56c79d89",
   "metadata": {},
   "outputs": [],
   "source": []
  }
 ],
 "metadata": {
  "kernelspec": {
   "display_name": "Python 3 (ipykernel)",
   "language": "python",
   "name": "python3"
  },
  "language_info": {
   "codemirror_mode": {
    "name": "ipython",
    "version": 3
   },
   "file_extension": ".py",
   "mimetype": "text/x-python",
   "name": "python",
   "nbconvert_exporter": "python",
   "pygments_lexer": "ipython3",
   "version": "3.12.4"
  }
 },
 "nbformat": 4,
 "nbformat_minor": 5
}
