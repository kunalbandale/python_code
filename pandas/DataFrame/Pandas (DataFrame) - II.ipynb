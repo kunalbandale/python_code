{
 "cells": [
  {
   "cell_type": "raw",
   "id": "19f2474c-ed9b-4a75-837f-0485838ac171",
   "metadata": {},
   "source": [
    "Topics Covered :\n",
    "- loc\n",
    "- iloc \n",
    "\n",
    "- Handling missing values\n",
    "\n",
    "- ffill() -> forward fill\n",
    "- bfill() -> backward fill\n",
    "- fillna()\n",
    "- isnull()\n",
    "- notnull()\n",
    "\n"
   ]
  },
  {
   "cell_type": "code",
   "execution_count": 23,
   "id": "60cff4cf-45eb-46c4-adf8-f96833ef0376",
   "metadata": {},
   "outputs": [
    {
     "data": {
      "text/html": [
       "<div>\n",
       "<style scoped>\n",
       "    .dataframe tbody tr th:only-of-type {\n",
       "        vertical-align: middle;\n",
       "    }\n",
       "\n",
       "    .dataframe tbody tr th {\n",
       "        vertical-align: top;\n",
       "    }\n",
       "\n",
       "    .dataframe thead th {\n",
       "        text-align: right;\n",
       "    }\n",
       "</style>\n",
       "<table border=\"1\" class=\"dataframe\">\n",
       "  <thead>\n",
       "    <tr style=\"text-align: right;\">\n",
       "      <th></th>\n",
       "      <th>NAME</th>\n",
       "      <th>SUB</th>\n",
       "      <th>SCORE</th>\n",
       "      <th>clg</th>\n",
       "    </tr>\n",
       "  </thead>\n",
       "  <tbody>\n",
       "    <tr>\n",
       "      <th>0</th>\n",
       "      <td>kunal</td>\n",
       "      <td>sql</td>\n",
       "      <td>50</td>\n",
       "      <td>sggs</td>\n",
       "    </tr>\n",
       "    <tr>\n",
       "      <th>1</th>\n",
       "      <td>ram</td>\n",
       "      <td>excel</td>\n",
       "      <td>60</td>\n",
       "      <td>mit</td>\n",
       "    </tr>\n",
       "    <tr>\n",
       "      <th>2</th>\n",
       "      <td>shyam</td>\n",
       "      <td>powerbi</td>\n",
       "      <td>30</td>\n",
       "      <td>harvard</td>\n",
       "    </tr>\n",
       "    <tr>\n",
       "      <th>3</th>\n",
       "      <td>roy</td>\n",
       "      <td>python</td>\n",
       "      <td>40</td>\n",
       "      <td>oxford</td>\n",
       "    </tr>\n",
       "    <tr>\n",
       "      <th>4</th>\n",
       "      <td>rutik</td>\n",
       "      <td>java</td>\n",
       "      <td>50</td>\n",
       "      <td>mit-wpu</td>\n",
       "    </tr>\n",
       "    <tr>\n",
       "      <th>5</th>\n",
       "      <td>rupesh</td>\n",
       "      <td>cpp</td>\n",
       "      <td>10</td>\n",
       "      <td>mkit</td>\n",
       "    </tr>\n",
       "  </tbody>\n",
       "</table>\n",
       "</div>"
      ],
      "text/plain": [
       "     NAME      SUB  SCORE      clg\n",
       "0   kunal      sql     50     sggs\n",
       "1     ram    excel     60      mit\n",
       "2   shyam  powerbi     30  harvard\n",
       "3     roy   python     40   oxford\n",
       "4   rutik     java     50  mit-wpu\n",
       "5  rupesh      cpp     10     mkit"
      ]
     },
     "execution_count": 23,
     "metadata": {},
     "output_type": "execute_result"
    }
   ],
   "source": [
    "import pandas as pd\n",
    "\n",
    "name = [\"kunal\" , \"ram\" , \"shyam\" , \"roy\" , \"rutik\" , \"rupesh\"]\n",
    "sub = [\"sql\" , \"excel\" , \"powerbi\" , \"python\" , \"java\" , \"cpp\"]\n",
    "score = [50,60,30,40,50,10]\n",
    "clg = ['sggs' , 'mit' , 'harvard' , 'oxford' , 'mit-wpu' , 'mkit']\n",
    "\n",
    "details = {\"NAME\" : name , \"SUB\" : sub , \"SCORE\" : score , \"clg\" : clg}\n",
    "data = pd.DataFrame(details)\n",
    "data"
   ]
  },
  {
   "cell_type": "code",
   "execution_count": null,
   "id": "cc0cac6f-af64-425d-b9f2-5f59cae5453d",
   "metadata": {},
   "outputs": [],
   "source": [
    "# understading loc(stop index included)\n",
    "# **************************************************\n",
    "# data_fram.loc[row_number]\n",
    "# data_fram.loc[row_number,[\"column_name\"]]\n",
    "# data_fram.loc[start:stop]\n",
    "# data_fram.loc[start : stop , \"column_name\"]\n",
    "# data_fram.loc[start:stop , [\"col1\" , \"col2\"]]\n",
    "# data_fram.loc[start:stop,\"col1\" :\"coln\"]\n",
    "# **************************************************"
   ]
  },
  {
   "cell_type": "code",
   "execution_count": 25,
   "id": "e6560080-06e7-41f4-98e0-03958178268b",
   "metadata": {},
   "outputs": [
    {
     "name": "stdout",
     "output_type": "stream",
     "text": [
      "    NAME      SUB  SCORE      clg\n",
      "0  kunal      sql     50     sggs\n",
      "1    ram    excel     60      mit\n",
      "2  shyam  powerbi     30  harvard\n"
     ]
    }
   ],
   "source": [
    "# normal slicing\n",
    "print(data[0:3:1])"
   ]
  },
  {
   "cell_type": "code",
   "execution_count": 29,
   "id": "08c7344a-f686-4ba2-8295-30f4f26c5020",
   "metadata": {},
   "outputs": [
    {
     "name": "stdout",
     "output_type": "stream",
     "text": [
      "    NAME      SUB  SCORE      clg\n",
      "0  kunal      sql     50     sggs\n",
      "1    ram    excel     60      mit\n",
      "2  shyam  powerbi     30  harvard\n"
     ]
    }
   ],
   "source": [
    "# loc property\n",
    "print(data.loc[0:2:1])"
   ]
  },
  {
   "cell_type": "code",
   "execution_count": 33,
   "id": "3e0a68e9-636b-4936-9050-7ebccfc3c520",
   "metadata": {},
   "outputs": [
    {
     "name": "stdout",
     "output_type": "stream",
     "text": [
      "NAME        roy\n",
      "SUB      python\n",
      "SCORE        40\n",
      "clg      oxford\n",
      "Name: 3, dtype: object\n"
     ]
    }
   ],
   "source": [
    "# row number\n",
    "# data_frame.loc[row_number]\n",
    "print(data.loc[3])"
   ]
  },
  {
   "cell_type": "code",
   "execution_count": 37,
   "id": "0968051d-93ad-47a9-bcd2-28d01c9e10bf",
   "metadata": {},
   "outputs": [
    {
     "name": "stdout",
     "output_type": "stream",
     "text": [
      "SUB    powerbi\n",
      "Name: 2, dtype: object\n"
     ]
    }
   ],
   "source": [
    "# row number and column \n",
    "# data_frame.loc[row_number , [\"column\".....]]\n",
    "print(data.loc[2,[\"SUB\"]])"
   ]
  },
  {
   "cell_type": "code",
   "execution_count": 39,
   "id": "cceafc97-47b7-4fe7-b1d1-b00cfb327e31",
   "metadata": {},
   "outputs": [
    {
     "name": "stdout",
     "output_type": "stream",
     "text": [
      "    NAME      SUB  SCORE      clg\n",
      "0  kunal      sql     50     sggs\n",
      "1    ram    excel     60      mit\n",
      "2  shyam  powerbi     30  harvard\n"
     ]
    }
   ],
   "source": [
    "# start : stop\n",
    "print(data.loc[0:2])"
   ]
  },
  {
   "cell_type": "code",
   "execution_count": 45,
   "id": "29266076-55f1-417d-b5cf-5163b785dfdc",
   "metadata": {},
   "outputs": [
    {
     "name": "stdout",
     "output_type": "stream",
     "text": [
      "   SCORE\n",
      "0     50\n",
      "1     60\n",
      "2     30\n"
     ]
    }
   ],
   "source": [
    "# data_frame.loc[start : stop , [\"column_name\"]]\n",
    "print(data.loc[0:2,[\"SCORE\"]])"
   ]
  },
  {
   "cell_type": "code",
   "execution_count": 53,
   "id": "ff8a4587-f86c-4033-a360-40b9be472f71",
   "metadata": {},
   "outputs": [
    {
     "name": "stdout",
     "output_type": "stream",
     "text": [
      "       clg   NAME\n",
      "0     sggs  kunal\n",
      "1      mit    ram\n",
      "2  harvard  shyam\n",
      "3   oxford    roy\n"
     ]
    }
   ],
   "source": [
    "# data_frame.loc[start:stop,[\"col1\" , \"col2\"]]\n",
    "print(data.loc[0:3, [\"clg\" , \"NAME\"]])"
   ]
  },
  {
   "cell_type": "code",
   "execution_count": 67,
   "id": "139daca1-341a-4542-b87d-6e1f95211f39",
   "metadata": {},
   "outputs": [
    {
     "name": "stdout",
     "output_type": "stream",
     "text": [
      "     NAME      SUB  SCORE\n",
      "0   kunal      sql     50\n",
      "1     ram    excel     60\n",
      "2   shyam  powerbi     30\n",
      "3     roy   python     40\n",
      "4   rutik     java     50\n",
      "5  rupesh      cpp     10\n"
     ]
    }
   ],
   "source": [
    "# data_frame.loc[start:stop,\"col1\":\"col2\"]\n",
    "print(data.loc[0:5:1,\"NAME\":\"SCORE\"])"
   ]
  },
  {
   "cell_type": "code",
   "execution_count": 95,
   "id": "bdee8c88-026c-4133-b408-4ddfbba052a1",
   "metadata": {},
   "outputs": [],
   "source": [
    "# 1. Select a specific row\n",
    "# data_frame.iloc[row_index]\n",
    "# Returns the row at position 'row_index' as a Series\n",
    "\n",
    "# 2. Select a specific element (row and column by index)\n",
    "# data_frame.iloc[row_index, column_index]\n",
    "# Returns the value at the specified row and column index\n",
    "\n",
    "# 3. Select a range of rows (stop index is exclusive)\n",
    "# data_frame.iloc[start:stop]\n",
    "# Returns rows from 'start' to 'stop-1'\n",
    "\n",
    "# 4. Select a range of rows and a single column\n",
    "# data_frame.iloc[start:stop, column_index]\n",
    "# Returns a DataFrame of selected rows and one column\n",
    "\n",
    "# 5. Select a range of rows and multiple columns\n",
    "# data_frame.iloc[start:stop, [col1_index, col2_index]]\n",
    "# Use a list to specify multiple column positions\n",
    "\n",
    "# 6. Select a range of rows and a range of columns\n",
    "# data_frame.iloc[start:stop, col1_index:colN_index]\n",
    "# Returns a slice of rows and columns (column stop is exclusive)\n",
    "\n",
    "# 7. Select specific row positions\n",
    "# data_frame.iloc[[row1_index, row2_index, rowN_index]]\n",
    "# Returns only the listed rows\n",
    "\n",
    "# 8. Select specific rows and columns\n",
    "# data_frame.iloc[[row1, row2], [col1, col2]]\n",
    "# Full flexibility for selecting subsets"
   ]
  },
  {
   "cell_type": "code",
   "execution_count": 71,
   "id": "986aa357-a7ff-41f5-8ae5-e32f82495835",
   "metadata": {},
   "outputs": [
    {
     "name": "stdout",
     "output_type": "stream",
     "text": [
      "    NAME    SUB  SCORE   clg\n",
      "0  kunal    sql     50  sggs\n",
      "1    ram  excel     60   mit\n"
     ]
    }
   ],
   "source": [
    "# iloc property\n",
    "print(data.iloc[0:2:1])"
   ]
  },
  {
   "cell_type": "code",
   "execution_count": 79,
   "id": "a79fa1c4-3b08-44bd-ba70-a65c57e9d1e1",
   "metadata": {},
   "outputs": [
    {
     "name": "stdout",
     "output_type": "stream",
     "text": [
      "mit\n"
     ]
    }
   ],
   "source": [
    "# data_fram.iloc[row_number,column_number]\n",
    "print(data.iloc[1,3])\n",
    "\n"
   ]
  },
  {
   "cell_type": "code",
   "execution_count": 81,
   "id": "1c76b2a3-7649-4910-8d57-7f3ba39a5c48",
   "metadata": {},
   "outputs": [
    {
     "name": "stdout",
     "output_type": "stream",
     "text": [
      "    NAME    SUB  SCORE   clg\n",
      "0  kunal    sql     50  sggs\n",
      "1    ram  excel     60   mit\n"
     ]
    }
   ],
   "source": [
    "print(data.iloc[0:2]) # end index will be excluded "
   ]
  },
  {
   "cell_type": "code",
   "execution_count": 83,
   "id": "61ed9575-9326-4c28-b7b5-7a9f08a4e29c",
   "metadata": {},
   "outputs": [
    {
     "name": "stdout",
     "output_type": "stream",
     "text": [
      "    NAME      SUB\n",
      "0  kunal      sql\n",
      "1    ram    excel\n",
      "2  shyam  powerbi\n"
     ]
    }
   ],
   "source": [
    "print(data.iloc[0:3,0:2]) # end index is excluded"
   ]
  },
  {
   "cell_type": "code",
   "execution_count": 89,
   "id": "8825329a-880e-4729-adb2-2c10b1d76fc2",
   "metadata": {},
   "outputs": [
    {
     "name": "stdout",
     "output_type": "stream",
     "text": [
      "0    kunal\n",
      "1      ram\n",
      "2    shyam\n",
      "3      roy\n",
      "4    rutik\n",
      "Name: NAME, dtype: object\n"
     ]
    }
   ],
   "source": [
    "print(data.iloc[0:5,0])"
   ]
  },
  {
   "cell_type": "code",
   "execution_count": 99,
   "id": "958f3335-fddd-4d66-a893-3189fdcb785a",
   "metadata": {},
   "outputs": [
    {
     "name": "stdout",
     "output_type": "stream",
     "text": [
      "    NAME      SUB  SCORE      clg\n",
      "1    ram    excel     60      mit\n",
      "2  shyam  powerbi     30  harvard\n",
      "3    roy   python     40   oxford\n"
     ]
    }
   ],
   "source": [
    "print(data.iloc[[1,2,3]])"
   ]
  },
  {
   "cell_type": "code",
   "execution_count": 103,
   "id": "5adb4dbc-b5ad-4861-8054-59c40a0a916d",
   "metadata": {},
   "outputs": [],
   "source": [
    "# removing null values \n",
    "# Create a DataFrame with three columns\n",
    "data = {\n",
    "    'Name': ['Alice', 'Bob', 'Charlie', None, 'Eva', 'Frank', 'Grace', 'Henry', None, 'Ivy'],\n",
    "    'Age': [25, None, 35, 40, None, 32, 28, None, 45, 37],\n",
    "    'Score': [85.5, 92.0, None, 76.5, 88.0, None, 79.5, 91.0, 67.5, None]\n",
    "}\n",
    "\n",
    "# Create the DataFrame\n",
    "df = pd.DataFrame(data)\n",
    "\n"
   ]
  },
  {
   "cell_type": "code",
   "execution_count": 105,
   "id": "0bbf5991-82e5-4fb4-8061-98cd5f23b1d1",
   "metadata": {},
   "outputs": [
    {
     "data": {
      "text/html": [
       "<div>\n",
       "<style scoped>\n",
       "    .dataframe tbody tr th:only-of-type {\n",
       "        vertical-align: middle;\n",
       "    }\n",
       "\n",
       "    .dataframe tbody tr th {\n",
       "        vertical-align: top;\n",
       "    }\n",
       "\n",
       "    .dataframe thead th {\n",
       "        text-align: right;\n",
       "    }\n",
       "</style>\n",
       "<table border=\"1\" class=\"dataframe\">\n",
       "  <thead>\n",
       "    <tr style=\"text-align: right;\">\n",
       "      <th></th>\n",
       "      <th>Name</th>\n",
       "      <th>Age</th>\n",
       "      <th>Score</th>\n",
       "    </tr>\n",
       "  </thead>\n",
       "  <tbody>\n",
       "    <tr>\n",
       "      <th>0</th>\n",
       "      <td>Alice</td>\n",
       "      <td>25.0</td>\n",
       "      <td>85.5</td>\n",
       "    </tr>\n",
       "    <tr>\n",
       "      <th>1</th>\n",
       "      <td>Bob</td>\n",
       "      <td>NaN</td>\n",
       "      <td>92.0</td>\n",
       "    </tr>\n",
       "    <tr>\n",
       "      <th>2</th>\n",
       "      <td>Charlie</td>\n",
       "      <td>35.0</td>\n",
       "      <td>NaN</td>\n",
       "    </tr>\n",
       "    <tr>\n",
       "      <th>3</th>\n",
       "      <td>None</td>\n",
       "      <td>40.0</td>\n",
       "      <td>76.5</td>\n",
       "    </tr>\n",
       "    <tr>\n",
       "      <th>4</th>\n",
       "      <td>Eva</td>\n",
       "      <td>NaN</td>\n",
       "      <td>88.0</td>\n",
       "    </tr>\n",
       "    <tr>\n",
       "      <th>5</th>\n",
       "      <td>Frank</td>\n",
       "      <td>32.0</td>\n",
       "      <td>NaN</td>\n",
       "    </tr>\n",
       "    <tr>\n",
       "      <th>6</th>\n",
       "      <td>Grace</td>\n",
       "      <td>28.0</td>\n",
       "      <td>79.5</td>\n",
       "    </tr>\n",
       "    <tr>\n",
       "      <th>7</th>\n",
       "      <td>Henry</td>\n",
       "      <td>NaN</td>\n",
       "      <td>91.0</td>\n",
       "    </tr>\n",
       "    <tr>\n",
       "      <th>8</th>\n",
       "      <td>None</td>\n",
       "      <td>45.0</td>\n",
       "      <td>67.5</td>\n",
       "    </tr>\n",
       "    <tr>\n",
       "      <th>9</th>\n",
       "      <td>Ivy</td>\n",
       "      <td>37.0</td>\n",
       "      <td>NaN</td>\n",
       "    </tr>\n",
       "  </tbody>\n",
       "</table>\n",
       "</div>"
      ],
      "text/plain": [
       "      Name   Age  Score\n",
       "0    Alice  25.0   85.5\n",
       "1      Bob   NaN   92.0\n",
       "2  Charlie  35.0    NaN\n",
       "3     None  40.0   76.5\n",
       "4      Eva   NaN   88.0\n",
       "5    Frank  32.0    NaN\n",
       "6    Grace  28.0   79.5\n",
       "7    Henry   NaN   91.0\n",
       "8     None  45.0   67.5\n",
       "9      Ivy  37.0    NaN"
      ]
     },
     "execution_count": 105,
     "metadata": {},
     "output_type": "execute_result"
    }
   ],
   "source": []
  },
  {
   "cell_type": "code",
   "execution_count": 109,
   "id": "bb128283-edcc-473b-9148-c85634e02454",
   "metadata": {},
   "outputs": [
    {
     "name": "stdout",
     "output_type": "stream",
     "text": [
      "    Name   Age  Score\n",
      "0  Alice  25.0   85.5\n",
      "6  Grace  28.0   79.5\n"
     ]
    }
   ],
   "source": [
    "print(df.dropna()) # complete will be removed row if it has none value "
   ]
  },
  {
   "cell_type": "code",
   "execution_count": 124,
   "id": "1eb76803-d8cd-4821-9263-1d5be57599bd",
   "metadata": {},
   "outputs": [],
   "source": [
    "new_df = df.fillna(0)"
   ]
  },
  {
   "cell_type": "code",
   "execution_count": 126,
   "id": "9e092860-bf1f-42a2-87e9-62366823ccc5",
   "metadata": {},
   "outputs": [
    {
     "data": {
      "text/html": [
       "<div>\n",
       "<style scoped>\n",
       "    .dataframe tbody tr th:only-of-type {\n",
       "        vertical-align: middle;\n",
       "    }\n",
       "\n",
       "    .dataframe tbody tr th {\n",
       "        vertical-align: top;\n",
       "    }\n",
       "\n",
       "    .dataframe thead th {\n",
       "        text-align: right;\n",
       "    }\n",
       "</style>\n",
       "<table border=\"1\" class=\"dataframe\">\n",
       "  <thead>\n",
       "    <tr style=\"text-align: right;\">\n",
       "      <th></th>\n",
       "      <th>Name</th>\n",
       "      <th>Age</th>\n",
       "      <th>Score</th>\n",
       "    </tr>\n",
       "  </thead>\n",
       "  <tbody>\n",
       "    <tr>\n",
       "      <th>0</th>\n",
       "      <td>Alice</td>\n",
       "      <td>25.0</td>\n",
       "      <td>85.5</td>\n",
       "    </tr>\n",
       "    <tr>\n",
       "      <th>1</th>\n",
       "      <td>Bob</td>\n",
       "      <td>0.0</td>\n",
       "      <td>92.0</td>\n",
       "    </tr>\n",
       "    <tr>\n",
       "      <th>2</th>\n",
       "      <td>Charlie</td>\n",
       "      <td>35.0</td>\n",
       "      <td>0.0</td>\n",
       "    </tr>\n",
       "    <tr>\n",
       "      <th>3</th>\n",
       "      <td>0</td>\n",
       "      <td>40.0</td>\n",
       "      <td>76.5</td>\n",
       "    </tr>\n",
       "    <tr>\n",
       "      <th>4</th>\n",
       "      <td>Eva</td>\n",
       "      <td>0.0</td>\n",
       "      <td>88.0</td>\n",
       "    </tr>\n",
       "    <tr>\n",
       "      <th>5</th>\n",
       "      <td>Frank</td>\n",
       "      <td>32.0</td>\n",
       "      <td>0.0</td>\n",
       "    </tr>\n",
       "    <tr>\n",
       "      <th>6</th>\n",
       "      <td>Grace</td>\n",
       "      <td>28.0</td>\n",
       "      <td>79.5</td>\n",
       "    </tr>\n",
       "    <tr>\n",
       "      <th>7</th>\n",
       "      <td>Henry</td>\n",
       "      <td>0.0</td>\n",
       "      <td>91.0</td>\n",
       "    </tr>\n",
       "    <tr>\n",
       "      <th>8</th>\n",
       "      <td>0</td>\n",
       "      <td>45.0</td>\n",
       "      <td>67.5</td>\n",
       "    </tr>\n",
       "    <tr>\n",
       "      <th>9</th>\n",
       "      <td>Ivy</td>\n",
       "      <td>37.0</td>\n",
       "      <td>0.0</td>\n",
       "    </tr>\n",
       "  </tbody>\n",
       "</table>\n",
       "</div>"
      ],
      "text/plain": [
       "      Name   Age  Score\n",
       "0    Alice  25.0   85.5\n",
       "1      Bob   0.0   92.0\n",
       "2  Charlie  35.0    0.0\n",
       "3        0  40.0   76.5\n",
       "4      Eva   0.0   88.0\n",
       "5    Frank  32.0    0.0\n",
       "6    Grace  28.0   79.5\n",
       "7    Henry   0.0   91.0\n",
       "8        0  45.0   67.5\n",
       "9      Ivy  37.0    0.0"
      ]
     },
     "execution_count": 126,
     "metadata": {},
     "output_type": "execute_result"
    }
   ],
   "source": [
    "new_df"
   ]
  },
  {
   "cell_type": "code",
   "execution_count": 134,
   "id": "f71d48b3-fc0e-4c47-8408-7a02472677b7",
   "metadata": {},
   "outputs": [
    {
     "name": "stdout",
     "output_type": "stream",
     "text": [
      "      Name   Age  Score\n",
      "0    Alice  25.0   85.5\n",
      "1      Bob  25.0   92.0\n",
      "2  Charlie  35.0   92.0\n",
      "3  Charlie  40.0   76.5\n",
      "4      Eva  40.0   88.0\n",
      "5    Frank  32.0   88.0\n",
      "6    Grace  28.0   79.5\n",
      "7    Henry  28.0   91.0\n",
      "8    Henry  45.0   67.5\n",
      "9      Ivy  37.0   67.5\n"
     ]
    }
   ],
   "source": [
    "print(df.ffill())"
   ]
  },
  {
   "cell_type": "code",
   "execution_count": 136,
   "id": "e58d21dd-fa03-48d0-a72c-09664d7764c8",
   "metadata": {},
   "outputs": [
    {
     "name": "stdout",
     "output_type": "stream",
     "text": [
      "      Name   Age  Score\n",
      "0    Alice  25.0   85.5\n",
      "1      Bob  35.0   92.0\n",
      "2  Charlie  35.0   76.5\n",
      "3      Eva  40.0   76.5\n",
      "4      Eva  32.0   88.0\n",
      "5    Frank  32.0   79.5\n",
      "6    Grace  28.0   79.5\n",
      "7    Henry  45.0   91.0\n",
      "8      Ivy  45.0   67.5\n",
      "9      Ivy  37.0    NaN\n"
     ]
    }
   ],
   "source": [
    "print(df.bfill())"
   ]
  }
 ],
 "metadata": {
  "kernelspec": {
   "display_name": "Python 3 (ipykernel)",
   "language": "python",
   "name": "python3"
  },
  "language_info": {
   "codemirror_mode": {
    "name": "ipython",
    "version": 3
   },
   "file_extension": ".py",
   "mimetype": "text/x-python",
   "name": "python",
   "nbconvert_exporter": "python",
   "pygments_lexer": "ipython3",
   "version": "3.12.4"
  }
 },
 "nbformat": 4,
 "nbformat_minor": 5
}
