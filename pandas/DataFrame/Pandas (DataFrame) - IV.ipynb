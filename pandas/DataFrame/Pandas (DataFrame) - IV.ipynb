{
 "cells": [
  {
   "cell_type": "code",
   "execution_count": 3,
   "id": "b8bb58a4-ef2c-492a-9da6-b0f4055a2b47",
   "metadata": {},
   "outputs": [
    {
     "name": "stdout",
     "output_type": "stream",
     "text": [
      "                D_T\n",
      "0  2025-07-19 11:43\n",
      "1  2025-07-18 09:15\n",
      "2  2025-07-17 14:30\n",
      "3  2025-07-16 22:00\n",
      "4  2025-07-15 08:05\n"
     ]
    }
   ],
   "source": [
    "import pandas as pd\n",
    "\n",
    "# Updated sample data with different datetime strings\n",
    "data = [\n",
    "    \"2025-07-19 11:43\",\n",
    "    \"2025-07-18 09:15\",\n",
    "    \"2025-07-17 14:30\",\n",
    "    \"2025-07-16 22:00\",\n",
    "    \"2025-07-15 08:05\"\n",
    "]\n",
    "\n",
    "info = {\"D_T\": data}\n",
    "x = pd.DataFrame(info)\n",
    "print(x)\n"
   ]
  },
  {
   "cell_type": "code",
   "execution_count": 9,
   "id": "07897688-98ba-45d3-9154-b49d285b97ec",
   "metadata": {},
   "outputs": [
    {
     "name": "stdout",
     "output_type": "stream",
     "text": [
      "0    2025-07-19 11:43\n",
      "1    2025-07-18 09:15\n",
      "2    2025-07-17 14:30\n",
      "3    2025-07-16 22:00\n",
      "4    2025-07-15 08:05\n",
      "Name: D_T, dtype: object\n"
     ]
    }
   ],
   "source": [
    "print(x[\"D_T\"])"
   ]
  },
  {
   "cell_type": "code",
   "execution_count": 19,
   "id": "ad5d218e-274e-4599-956f-f5be512d1689",
   "metadata": {},
   "outputs": [],
   "source": [
    "x[\"D_T\"]=pd.to_datetime(x[\"D_T\"])"
   ]
  },
  {
   "cell_type": "code",
   "execution_count": 87,
   "id": "300cf421-bd53-47a1-9e90-fdb3dc2fae26",
   "metadata": {},
   "outputs": [],
   "source": [
    "# separate columns \n",
    "x[\"Year\"] = x[\"D_T\"].dt.year # year column created \n",
    "x[\"month\"] = x[\"D_T\"].dt.month # month column created \n",
    "x[\"day\"] = x[\"D_T\"].dt.day # day column created \n",
    "x[\"date\"] = x[\"D_T\"].dt.date # date column created \n",
    "x[\"hour\"] = x[\"D_T\"].dt.hour # hour column created \n",
    "x[\"minute\"] = x[\"D_T\"].dt.minute # minute column created \n",
    "x[\"weekday\"] = x[\"D_T\"].dt.weekday # weekday column created \n",
    "x[\"dayname\"] = x[\"D_T\"].dt.day_name() # day_name() column created \n"
   ]
  },
  {
   "cell_type": "code",
   "execution_count": 89,
   "id": "3885a218-8d59-4278-b053-745a945abaa1",
   "metadata": {},
   "outputs": [
    {
     "data": {
      "text/html": [
       "<div>\n",
       "<style scoped>\n",
       "    .dataframe tbody tr th:only-of-type {\n",
       "        vertical-align: middle;\n",
       "    }\n",
       "\n",
       "    .dataframe tbody tr th {\n",
       "        vertical-align: top;\n",
       "    }\n",
       "\n",
       "    .dataframe thead th {\n",
       "        text-align: right;\n",
       "    }\n",
       "</style>\n",
       "<table border=\"1\" class=\"dataframe\">\n",
       "  <thead>\n",
       "    <tr style=\"text-align: right;\">\n",
       "      <th></th>\n",
       "      <th>D_T</th>\n",
       "      <th>Year</th>\n",
       "      <th>month</th>\n",
       "      <th>date</th>\n",
       "      <th>day</th>\n",
       "      <th>hour</th>\n",
       "      <th>minute</th>\n",
       "      <th>weekday</th>\n",
       "      <th>dayname</th>\n",
       "    </tr>\n",
       "  </thead>\n",
       "  <tbody>\n",
       "    <tr>\n",
       "      <th>0</th>\n",
       "      <td>2025-07-19 11:43:00</td>\n",
       "      <td>2025</td>\n",
       "      <td>7</td>\n",
       "      <td>2025-07-19</td>\n",
       "      <td>19</td>\n",
       "      <td>11</td>\n",
       "      <td>43</td>\n",
       "      <td>5</td>\n",
       "      <td>Saturday</td>\n",
       "    </tr>\n",
       "    <tr>\n",
       "      <th>1</th>\n",
       "      <td>2025-07-18 09:15:00</td>\n",
       "      <td>2025</td>\n",
       "      <td>7</td>\n",
       "      <td>2025-07-18</td>\n",
       "      <td>18</td>\n",
       "      <td>9</td>\n",
       "      <td>15</td>\n",
       "      <td>4</td>\n",
       "      <td>Friday</td>\n",
       "    </tr>\n",
       "    <tr>\n",
       "      <th>2</th>\n",
       "      <td>2025-07-17 14:30:00</td>\n",
       "      <td>2025</td>\n",
       "      <td>7</td>\n",
       "      <td>2025-07-17</td>\n",
       "      <td>17</td>\n",
       "      <td>14</td>\n",
       "      <td>30</td>\n",
       "      <td>3</td>\n",
       "      <td>Thursday</td>\n",
       "    </tr>\n",
       "    <tr>\n",
       "      <th>3</th>\n",
       "      <td>2025-07-16 22:00:00</td>\n",
       "      <td>2025</td>\n",
       "      <td>7</td>\n",
       "      <td>2025-07-16</td>\n",
       "      <td>16</td>\n",
       "      <td>22</td>\n",
       "      <td>0</td>\n",
       "      <td>2</td>\n",
       "      <td>Wednesday</td>\n",
       "    </tr>\n",
       "    <tr>\n",
       "      <th>4</th>\n",
       "      <td>2025-07-15 08:05:00</td>\n",
       "      <td>2025</td>\n",
       "      <td>7</td>\n",
       "      <td>2025-07-15</td>\n",
       "      <td>15</td>\n",
       "      <td>8</td>\n",
       "      <td>5</td>\n",
       "      <td>1</td>\n",
       "      <td>Tuesday</td>\n",
       "    </tr>\n",
       "  </tbody>\n",
       "</table>\n",
       "</div>"
      ],
      "text/plain": [
       "                  D_T  Year  month        date  day  hour  minute  weekday  \\\n",
       "0 2025-07-19 11:43:00  2025      7  2025-07-19   19    11      43        5   \n",
       "1 2025-07-18 09:15:00  2025      7  2025-07-18   18     9      15        4   \n",
       "2 2025-07-17 14:30:00  2025      7  2025-07-17   17    14      30        3   \n",
       "3 2025-07-16 22:00:00  2025      7  2025-07-16   16    22       0        2   \n",
       "4 2025-07-15 08:05:00  2025      7  2025-07-15   15     8       5        1   \n",
       "\n",
       "     dayname  \n",
       "0   Saturday  \n",
       "1     Friday  \n",
       "2   Thursday  \n",
       "3  Wednesday  \n",
       "4    Tuesday  "
      ]
     },
     "execution_count": 89,
     "metadata": {},
     "output_type": "execute_result"
    }
   ],
   "source": [
    "x"
   ]
  },
  {
   "cell_type": "code",
   "execution_count": 95,
   "id": "343479f2-8ef8-47dd-b2a8-089733b4fdcd",
   "metadata": {},
   "outputs": [],
   "source": [
    "# how to find duplicates\n",
    "\n",
    "name = [\"A\" , \"B\" , \"C\" , \"D\" , \"A\" , \"B\"]\n",
    "age = [23,53,24,12,35,35]\n",
    "details = {\"Name\": name , \"AGE\" : age}\n",
    "\n",
    "y = pd.DataFrame(details)"
   ]
  },
  {
   "cell_type": "code",
   "execution_count": 97,
   "id": "adf88bfa-5614-4aba-8bda-e74c83e2bb20",
   "metadata": {},
   "outputs": [
    {
     "data": {
      "text/html": [
       "<div>\n",
       "<style scoped>\n",
       "    .dataframe tbody tr th:only-of-type {\n",
       "        vertical-align: middle;\n",
       "    }\n",
       "\n",
       "    .dataframe tbody tr th {\n",
       "        vertical-align: top;\n",
       "    }\n",
       "\n",
       "    .dataframe thead th {\n",
       "        text-align: right;\n",
       "    }\n",
       "</style>\n",
       "<table border=\"1\" class=\"dataframe\">\n",
       "  <thead>\n",
       "    <tr style=\"text-align: right;\">\n",
       "      <th></th>\n",
       "      <th>Name</th>\n",
       "      <th>AGE</th>\n",
       "    </tr>\n",
       "  </thead>\n",
       "  <tbody>\n",
       "    <tr>\n",
       "      <th>0</th>\n",
       "      <td>A</td>\n",
       "      <td>23</td>\n",
       "    </tr>\n",
       "    <tr>\n",
       "      <th>1</th>\n",
       "      <td>B</td>\n",
       "      <td>53</td>\n",
       "    </tr>\n",
       "    <tr>\n",
       "      <th>2</th>\n",
       "      <td>C</td>\n",
       "      <td>24</td>\n",
       "    </tr>\n",
       "    <tr>\n",
       "      <th>3</th>\n",
       "      <td>D</td>\n",
       "      <td>12</td>\n",
       "    </tr>\n",
       "    <tr>\n",
       "      <th>4</th>\n",
       "      <td>A</td>\n",
       "      <td>35</td>\n",
       "    </tr>\n",
       "    <tr>\n",
       "      <th>5</th>\n",
       "      <td>B</td>\n",
       "      <td>35</td>\n",
       "    </tr>\n",
       "  </tbody>\n",
       "</table>\n",
       "</div>"
      ],
      "text/plain": [
       "  Name  AGE\n",
       "0    A   23\n",
       "1    B   53\n",
       "2    C   24\n",
       "3    D   12\n",
       "4    A   35\n",
       "5    B   35"
      ]
     },
     "execution_count": 97,
     "metadata": {},
     "output_type": "execute_result"
    }
   ],
   "source": [
    "y"
   ]
  },
  {
   "cell_type": "code",
   "execution_count": 129,
   "id": "958229a0-35f8-42cc-9434-ed52002845b4",
   "metadata": {},
   "outputs": [
    {
     "name": "stdout",
     "output_type": "stream",
     "text": [
      "0    False\n",
      "1    False\n",
      "2    False\n",
      "3    False\n",
      "4    False\n",
      "5    False\n",
      "dtype: bool\n",
      "\n",
      "\n",
      "0    False\n",
      "1    False\n",
      "2    False\n",
      "3    False\n",
      "4     True\n",
      "5     True\n",
      "dtype: bool\n",
      "\n",
      "\n",
      "0    False\n",
      "1    False\n",
      "2    False\n",
      "3    False\n",
      "4    False\n",
      "5     True\n",
      "dtype: bool\n"
     ]
    }
   ],
   "source": [
    "print(y.duplicated())\n",
    "print()\n",
    "print()\n",
    "print(y.duplicated(subset=\"Name\"))\n",
    "print()\n",
    "print()\n",
    "print(y.duplicated(subset=\"AGE\"))"
   ]
  },
  {
   "cell_type": "code",
   "execution_count": 131,
   "id": "b4eda469-5967-4289-acfc-ed607a4da4e7",
   "metadata": {},
   "outputs": [
    {
     "data": {
      "text/html": [
       "<div>\n",
       "<style scoped>\n",
       "    .dataframe tbody tr th:only-of-type {\n",
       "        vertical-align: middle;\n",
       "    }\n",
       "\n",
       "    .dataframe tbody tr th {\n",
       "        vertical-align: top;\n",
       "    }\n",
       "\n",
       "    .dataframe thead th {\n",
       "        text-align: right;\n",
       "    }\n",
       "</style>\n",
       "<table border=\"1\" class=\"dataframe\">\n",
       "  <thead>\n",
       "    <tr style=\"text-align: right;\">\n",
       "      <th></th>\n",
       "      <th>Name</th>\n",
       "      <th>AGE</th>\n",
       "    </tr>\n",
       "  </thead>\n",
       "  <tbody>\n",
       "    <tr>\n",
       "      <th>0</th>\n",
       "      <td>A</td>\n",
       "      <td>23</td>\n",
       "    </tr>\n",
       "    <tr>\n",
       "      <th>1</th>\n",
       "      <td>B</td>\n",
       "      <td>53</td>\n",
       "    </tr>\n",
       "    <tr>\n",
       "      <th>2</th>\n",
       "      <td>C</td>\n",
       "      <td>24</td>\n",
       "    </tr>\n",
       "    <tr>\n",
       "      <th>3</th>\n",
       "      <td>D</td>\n",
       "      <td>12</td>\n",
       "    </tr>\n",
       "    <tr>\n",
       "      <th>4</th>\n",
       "      <td>A</td>\n",
       "      <td>35</td>\n",
       "    </tr>\n",
       "    <tr>\n",
       "      <th>5</th>\n",
       "      <td>B</td>\n",
       "      <td>35</td>\n",
       "    </tr>\n",
       "  </tbody>\n",
       "</table>\n",
       "</div>"
      ],
      "text/plain": [
       "  Name  AGE\n",
       "0    A   23\n",
       "1    B   53\n",
       "2    C   24\n",
       "3    D   12\n",
       "4    A   35\n",
       "5    B   35"
      ]
     },
     "execution_count": 131,
     "metadata": {},
     "output_type": "execute_result"
    }
   ],
   "source": [
    "y"
   ]
  },
  {
   "cell_type": "code",
   "execution_count": 142,
   "id": "bef2340f-3532-4b3e-85da-7dbd4ab83f4e",
   "metadata": {},
   "outputs": [
    {
     "name": "stdout",
     "output_type": "stream",
     "text": [
      "  Name  AGE\n",
      "0    A   23\n",
      "1    B   53\n",
      "2    C   24\n",
      "3    D   12\n"
     ]
    }
   ],
   "source": [
    "print(y.drop_duplicates(\"Name\"))"
   ]
  },
  {
   "cell_type": "code",
   "execution_count": null,
   "id": "b52ac60f-80f4-448c-ab5f-1a0a2b451015",
   "metadata": {},
   "outputs": [],
   "source": []
  }
 ],
 "metadata": {
  "kernelspec": {
   "display_name": "Python 3 (ipykernel)",
   "language": "python",
   "name": "python3"
  },
  "language_info": {
   "codemirror_mode": {
    "name": "ipython",
    "version": 3
   },
   "file_extension": ".py",
   "mimetype": "text/x-python",
   "name": "python",
   "nbconvert_exporter": "python",
   "pygments_lexer": "ipython3",
   "version": "3.12.4"
  }
 },
 "nbformat": 4,
 "nbformat_minor": 5
}
