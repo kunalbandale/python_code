{
 "cells": [
  {
   "cell_type": "raw",
   "id": "f435a40b-836d-499e-8dfa-5b5a048141a2",
   "metadata": {},
   "source": [
    "Topics Covered :-\n",
    "------------------\n",
    "window function\n",
    "--------\n",
    "-> rolling (man to use agg. function)\n",
    "-> expanding (start from begining)"
   ]
  },
  {
   "cell_type": "code",
   "execution_count": 19,
   "id": "8acf360e-7ad1-446d-8fb4-108c47c54ad3",
   "metadata": {},
   "outputs": [
    {
     "name": "stdout",
     "output_type": "stream",
     "text": [
      "0    10\n",
      "1    20\n",
      "2    30\n",
      "3    60\n",
      "4    70\n",
      "5    90\n",
      "dtype: int64\n"
     ]
    }
   ],
   "source": [
    "import pandas as pd\n",
    "\n",
    "x = pd.Series([10,20,30,60,70,90])\n",
    "print(x)"
   ]
  },
  {
   "cell_type": "code",
   "execution_count": 41,
   "id": "834d8a69-5bb2-4303-9171-7039bbb5806a",
   "metadata": {},
   "outputs": [
    {
     "name": "stdout",
     "output_type": "stream",
     "text": [
      "0    10.0\n",
      "1    20.0\n",
      "2    30.0\n",
      "3    60.0\n",
      "4    70.0\n",
      "5    90.0\n",
      "dtype: float64\n",
      "\n",
      "0     NaN\n",
      "1    15.0\n",
      "2    25.0\n",
      "3    45.0\n",
      "4    65.0\n",
      "5    80.0\n",
      "dtype: float64\n",
      "\n",
      "0          NaN\n",
      "1          NaN\n",
      "2    20.000000\n",
      "3    36.666667\n",
      "4    53.333333\n",
      "5    73.333333\n",
      "dtype: float64\n",
      "\n",
      "0     NaN\n",
      "1     NaN\n",
      "2     NaN\n",
      "3    30.0\n",
      "4    45.0\n",
      "5    62.5\n",
      "dtype: float64\n",
      "\n"
     ]
    }
   ],
   "source": [
    "# according to window size it will cal. mean()\n",
    "# var.rolling(window = 1).aggFunction()\n",
    "y = x.rolling(window = 1).mean()\n",
    "print(y)\n",
    "print()\n",
    "y = x.rolling(window = 2).mean()\n",
    "print(y)\n",
    "print()\n",
    "y = x.rolling(window = 3).mean()\n",
    "print(y)\n",
    "print()\n",
    "\n",
    "y = x.rolling(window = 4).mean()\n",
    "print(y)\n",
    "print()"
   ]
  },
  {
   "cell_type": "code",
   "execution_count": 48,
   "id": "ed9f37b4-94ce-4c8e-b88e-9028cb1cbb66",
   "metadata": {},
   "outputs": [
    {
     "name": "stdout",
     "output_type": "stream",
     "text": [
      "0     10.0\n",
      "1     30.0\n",
      "2     60.0\n",
      "3    120.0\n",
      "4    190.0\n",
      "5    280.0\n",
      "dtype: float64\n",
      "\n"
     ]
    }
   ],
   "source": [
    "# expanding \n",
    "y = x.expanding().sum()\n",
    "print(y)\n"
   ]
  },
  {
   "cell_type": "code",
   "execution_count": 54,
   "id": "6b483a19-f711-4d91-b7f8-0be8d8c4ca86",
   "metadata": {},
   "outputs": [
    {
     "name": "stdout",
     "output_type": "stream",
     "text": [
      "0     10\n",
      "1    203\n",
      "2     40\n",
      "3    602\n",
      "4     60\n",
      "5    305\n",
      "6      4\n",
      "dtype: int64\n"
     ]
    }
   ],
   "source": [
    "# example create one series \n",
    "data = pd.Series([10,203,40,602,60,305,4])\n",
    "print(data)"
   ]
  },
  {
   "cell_type": "code",
   "execution_count": 64,
   "id": "e77bba42-1d02-4fff-b1de-f6276963cd35",
   "metadata": {},
   "outputs": [
    {
     "name": "stdout",
     "output_type": "stream",
     "text": [
      "0     10\n",
      "1    203\n",
      "2     40\n",
      "3    602\n",
      "4     60\n",
      "5    305\n",
      "6      4\n",
      "dtype: int64\n",
      "\n",
      "0     10\n",
      "1    203\n",
      "2     40\n",
      "3    602\n",
      "4     60\n",
      "5    305\n",
      "6      4\n",
      "dtype: int64\n",
      "\n",
      "0     10\n",
      "1    203\n",
      "2     40\n",
      "3    602\n",
      "4     60\n",
      "5    305\n",
      "6      4\n",
      "dtype: int64\n",
      "\n",
      "0     10\n",
      "1    203\n",
      "2     40\n",
      "3    602\n",
      "4     60\n",
      "5    305\n",
      "6      4\n",
      "dtype: int64\n",
      "\n"
     ]
    },
    {
     "data": {
      "text/plain": [
       "0    NaN\n",
       "1    2.0\n",
       "2    2.0\n",
       "3    2.0\n",
       "4    2.0\n",
       "5    2.0\n",
       "6    2.0\n",
       "dtype: float64"
      ]
     },
     "execution_count": 64,
     "metadata": {},
     "output_type": "execute_result"
    }
   ],
   "source": [
    "data.rolling(window=2).mean()\n",
    "print(data)\n",
    "print()\n",
    "data.rolling(window=2).max()\n",
    "print(data)\n",
    "print()\n",
    "data.rolling(window=2).min()\n",
    "print(data)\n",
    "print()\n",
    "data.rolling(window=2).sum()\n",
    "print(data)\n",
    "print()\n",
    "data.rolling(window=2).count()"
   ]
  },
  {
   "cell_type": "code",
   "execution_count": 69,
   "id": "19de8ff6-1133-4b4a-86ef-cc53b6741cde",
   "metadata": {},
   "outputs": [
    {
     "name": "stdout",
     "output_type": "stream",
     "text": [
      "0     10\n",
      "1    203\n",
      "2     40\n",
      "3    602\n",
      "4     60\n",
      "5    305\n",
      "6      4\n",
      "dtype: int64\n"
     ]
    }
   ],
   "source": [
    "data.expanding().sum()\n",
    "print(data)"
   ]
  },
  {
   "cell_type": "code",
   "execution_count": 89,
   "id": "91902992-a902-4caf-bf10-3fc15500e241",
   "metadata": {},
   "outputs": [
    {
     "name": "stdout",
     "output_type": "stream",
     "text": [
      "   sal   mean\n",
      "0  100    NaN\n",
      "1  200    NaN\n",
      "2  300  600.0\n",
      "3  400  900.0\n",
      "---------------------------------\n",
      "   sal    mean\n",
      "0  100   100.0\n",
      "1  200   300.0\n",
      "2  300   600.0\n",
      "3  400  1000.0\n"
     ]
    }
   ],
   "source": [
    "sdata = pd.DataFrame({\"sal\": [100,200,300,400]})\n",
    "# print(sdata)/\n",
    "sdata[\"mean\"] = sdata[\"sal\"].rolling(window = 3).sum()\n",
    "print(sdata)\n",
    "print(\"---------------------------------\")\n",
    "sdata[\"mean\"] = sdata[\"sal\"].expanding().sum()\n",
    "print(sdata)\n"
   ]
  }
 ],
 "metadata": {
  "kernelspec": {
   "display_name": "Python 3 (ipykernel)",
   "language": "python",
   "name": "python3"
  },
  "language_info": {
   "codemirror_mode": {
    "name": "ipython",
    "version": 3
   },
   "file_extension": ".py",
   "mimetype": "text/x-python",
   "name": "python",
   "nbconvert_exporter": "python",
   "pygments_lexer": "ipython3",
   "version": "3.12.4"
  }
 },
 "nbformat": 4,
 "nbformat_minor": 5
}
